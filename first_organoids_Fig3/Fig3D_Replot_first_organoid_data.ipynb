{
 "cells": [
  {
   "cell_type": "code",
   "execution_count": 1,
   "metadata": {
    "ExecuteTime": {
     "end_time": "2021-01-27T09:50:46.206391Z",
     "start_time": "2021-01-27T09:50:40.772432Z"
    }
   },
   "outputs": [
    {
     "data": {
      "text/html": [
       "<style>.container { width:90% !important; }</style>"
      ],
      "text/plain": [
       "<IPython.core.display.HTML object>"
      ]
     },
     "metadata": {},
     "output_type": "display_data"
    },
    {
     "name": "stdout",
     "output_type": "stream",
     "text": [
      "Running scvelo 0.1.16.dev32+c00a55e.dirty (python 3.6.6) on 2021-01-27 10:50.\n"
     ]
    }
   ],
   "source": [
    "import scvelo as scv\n",
    "from IPython.display import clear_output\n",
    "import matplotlib.backends.backend_pdf\n",
    "from tqdm import tnrange, tqdm_notebook\n",
    "import scanpy as sc\n",
    "import matplotlib.pyplot as pl\n",
    "import pandas as pd\n",
    "import numpy as np\n",
    "from IPython.core.display import display, HTML\n",
    "display(HTML(\"<style>.container { width:90% !important; }</style>\"))\n",
    "%matplotlib inline\n",
    "\n",
    "\n",
    "scv.logging.print_version()\n",
    "scv.settings.set_figure_params(\n",
    "    'scvelo', dpi_save=100, dpi=80, transparent=True)\n",
    "scv.settings.verbosity = 2"
   ]
  },
  {
   "cell_type": "code",
   "execution_count": 2,
   "metadata": {
    "ExecuteTime": {
     "end_time": "2021-01-27T09:50:46.253548Z",
     "start_time": "2021-01-27T09:50:46.238522Z"
    }
   },
   "outputs": [],
   "source": [
    "# paths and names\n",
    "data_path='G:/data/scSLAMseq/revision/'\n",
    "old_data_path='G:/data/scSLAMseq/first_batch_AS/'  # folder with the output velo.h5 from the first organoid pipeline\n",
    "signatures_path='G:/data/scrnaseq_signature_collection/'\n",
    "figure_path='G:/data/figures/'"
   ]
  },
  {
   "cell_type": "markdown",
   "metadata": {
    "heading_collapsed": true
   },
   "source": [
    "# Plot first organoid data with new methods"
   ]
  },
  {
   "cell_type": "code",
   "execution_count": 48,
   "metadata": {
    "ExecuteTime": {
     "end_time": "2021-01-26T12:32:38.155967Z",
     "start_time": "2021-01-26T12:32:35.538482Z"
    },
    "hidden": true
   },
   "outputs": [],
   "source": [
    "# Preload signatures\n",
    "\n",
    "# Stem sig\n",
    "tab=pd.read_excel(signatures_path+'cell_type_markers/CRC-related_stem_cell_signatures.xlsx', header=0)\n",
    "tab = tab.drop(0)\n",
    "sigs = {'Stem_'+x: list(tab[x][~pd.isna(tab[x])].values) for x in ['Lgr5_ISC-Munoz', 'Lgr5_ISC-Merlos']}\n",
    "\n",
    "# Flo sig\n",
    "# tab=pd.read_excel(signatures_path+'cell_type_markers/colonoid_cancer_uhlitz_markers.xlsx', header=1)\n",
    "tab=pd.read_excel(signatures_path+'cell_type_markers/colonoid_cancer_uhlitz_markers_revised.xlsx', header=1, sheet_name=2)\n",
    "flo_sigs={x: list(tab[tab['cell_type_epi']==x].gene.values) for x in ['Stem', 'Enterocytes 1', 'TC1', 'TC4', 'Goblet', 'Stem/TA 1']}\n",
    "\n",
    "single_genes = ['LGR5', 'OLFM4', 'TFF3', 'FABP1', 'EPHB2', 'AXIN1', 'AXIN2', 'EGR1']\n",
    "\n",
    "# YAP target from Markus Morkel, Liberali Lab\n",
    "yap_targets = ['CTGF', 'GGTA1', 'WWC2', 'ANXA8', 'CLU', 'CXCL16', 'IL33', 'LY6A', 'LY6C1', \n",
    "               'MSLN', 'TNFRSF12A', 'CTGF', 'GGTA1', 'WWC2', 'ANXA5', 'TACSTD2', 'ANXA10', 'EREG', 'IL33', 'ANXA1', 'ANXA3']\n",
    "\n",
    "# Hallmark apoptosis for rescoring\n",
    "tab=pd.read_csv(signatures_path+'msigdb/hallmark/h.all.v6.2.symbols.gmt', sep='\\t', header=None, index_col=0).T['HALLMARK_APOPTOSIS']\n",
    "hallmark_apo = tab[~pd.isna(tab)].values[1:]"
   ]
  },
  {
   "cell_type": "code",
   "execution_count": 49,
   "metadata": {
    "ExecuteTime": {
     "end_time": "2021-01-26T12:32:43.308509Z",
     "start_time": "2021-01-26T12:32:43.295473Z"
    },
    "hidden": true
   },
   "outputs": [],
   "source": [
    "def annotate(adata, regress_cc=False):\n",
    "    # Annotations\n",
    "    # single genes of interest from Markus Morkel\n",
    "    single_genes = ['LGR5', 'OLFM4', 'TFF3', 'FABP1', 'EPHB2', 'AXIN1', 'AXIN2', 'EGR1']\n",
    "\n",
    "    k = sc.settings.verbosity\n",
    "    sc.settings.verbosity = 0\n",
    "\n",
    "    # cc score\n",
    "    cell_cycle_genes = [x.strip() for x in open(signatures_path+'cell_cycle_genes/regev_lab_cell_cycle_genes.txt')]\n",
    "    s_genes = cell_cycle_genes[:43]\n",
    "    g2m_genes = cell_cycle_genes[43:]\n",
    "    cell_cycle_genes = [x for x in cell_cycle_genes if x in adata.var_names]\n",
    "    adata.obs_names_make_unique()\n",
    "    sc.tl.score_genes_cell_cycle(adata, s_genes=s_genes, g2m_genes=g2m_genes)\n",
    "    # is it a problem that I score signatures before regressing out?\n",
    "    if regress_cc:\n",
    "        sc.pp.regress_out(adata, ['S_score', 'G2M_score'])\n",
    "    # adata = adata[adata.obs.phase=='G1'].copy()\n",
    "\n",
    "    # Stem sig\n",
    "    tab=pd.read_excel(signatures_path+'cell_type_markers/CRC-related_stem_cell_signatures.xlsx', header=0)\n",
    "    tab = tab.drop(0)\n",
    "    sigs = {'Stem_'+x: list(tab[x][~pd.isna(tab[x])].values) for x in tab.columns}\n",
    "    for ct in ['Stem_Lgr5_ISC-Munoz', 'Stem_Lgr5_ISC-Merlos']:  #sigs.keys():\n",
    "        sc.tl.score_genes(adata, sigs[ct], score_name=ct)\n",
    "\n",
    "    # Flo sig\n",
    "    # tab=pd.read_excel(signatures_path+'cell_type_markers/colonoid_cancer_uhlitz_markers.xlsx', header=1)\n",
    "    tab=pd.read_excel(signatures_path+'cell_type_markers/colonoid_cancer_uhlitz_markers_revised.xlsx', header=1, sheet_name=2)\n",
    "    flo_sigs={x: list(tab[tab['cell_type_epi']==x].gene.values) for x in pd.unique(tab['cell_type_epi'])}\n",
    "    for ct in ['Stem', 'Enterocytes 1', 'Enterocytes 2', 'TC1', 'TC2', 'TC3', 'TC4', 'Goblet', 'Stem/TA 1', 'Stem/TA 2', 'Stem/TA 3']:  #flo_sigs.keys():\n",
    "        sc.tl.score_genes(adata, flo_sigs[ct], score_name=ct)\n",
    "    \n",
    "    # Hallmarks\n",
    "    tab=pd.read_csv(signatures_path + 'msigdb/hallmark/h.all.v6.2.symbols.gmt', sep='\\t', index_col=0, header=None).drop(1, axis=1).T\n",
    "    hallsigs={hallmark : tab[hallmark][~pd.isna(tab[hallmark])].values for hallmark in tab.columns}\n",
    "    for hm in ['HALLMARK_DNA_REPAIR', 'HALLMARK_WNT_BETA_CATENIN_SIGNALING']:  #hallsigs.keys():\n",
    "        sc.tl.score_genes(adata, hallsigs[hm], score_name=hm)\n",
    "        \n",
    "\n",
    "    # YAP target from Markus Morkel, Liberali Lab\n",
    "    yap_targets = ['CTGF', 'GGTA1', 'WWC2', 'ANXA8', 'CLU', 'CXCL16', 'IL33', 'LY6A', 'LY6C1', 'MSLN', 'TNFRSF12A', 'CTGF', 'GGTA1', 'WWC2', 'ANXA5', 'TACSTD2', 'ANXA10', 'EREG', 'IL33', 'ANXA1', 'ANXA3']\n",
    "    sc.tl.score_genes(adata, yap_targets, score_name='YAP_targets')\n",
    "\n",
    "    sc.settings.verbosity = k\n",
    "    return adata"
   ]
  },
  {
   "cell_type": "code",
   "execution_count": 55,
   "metadata": {
    "ExecuteTime": {
     "end_time": "2021-01-26T12:34:55.031513Z",
     "start_time": "2021-01-26T12:34:54.990658Z"
    },
    "hidden": true
   },
   "outputs": [],
   "source": [
    "# Define replotting function\n",
    "def old_dynamic_analysis(sigs, flo_sigs, hallmark_apo, single_genes, yap_targets, figure_path):\n",
    "    from scvelo.plotting.utils import default_size\n",
    "    from matplotlib.backends.backend_pdf import PdfPages\n",
    "\n",
    "    high_shared_vars = None\n",
    "    top_dmso_genes = None\n",
    "    \n",
    "    donors=['NCO', 'P009ot', 'P013ot']\n",
    "    perts=['E', 'W']\n",
    "\n",
    "    for donor in donors:\n",
    "        for pert in perts:\n",
    "            # name format\n",
    "            name = donor+'_'+pert\n",
    "            print(name)\n",
    "\n",
    "            # read\n",
    "            adata=sc.read(old_data_path+'NB_AS_'+pert+'_'+donor+'SLAMvelo.h5')\n",
    "            if 'X_diffmap' in adata.obsm.keys(): del adata.obsm['X_diffmap']\n",
    "                \n",
    "            adata = annotate(adata)\n",
    "\n",
    "            # rescore hallmark apoptosis\n",
    "            sc.tl.score_genes(adata, gene_list=hallmark_apo, score_name='HALLMARK_APOPTOSIS')\n",
    "\n",
    "            scv.tl.recover_latent_time(adata, vkey='dyn_velo')\n",
    "\n",
    "            with PdfPages(figure_path+'pdfs/'+name+'_dynamics.pdf') as pdf:\n",
    "                # latent time series of signatures\n",
    "                from scipy.stats import zscore\n",
    "                obs = ['Stem', 'Goblet', 'YAP_targets', 'Stem_Lgr5_ISC-Merlos', 'TC1', 'TC4']\n",
    "                colors = ['red', 'blue', 'green', 'black', 'grey', 'orange', 'yellow', 'cyan']\n",
    "                ax=None\n",
    "                for o, c in zip(obs,colors):\n",
    "                    ax=scv.pl.scatter(adata, x=adata.obs.latent_time, y=zscore(adata.obs[o]), alpha=0.5, figsize=[10,5], size=50,\n",
    "                                      color=c, n_convolve=50, show=False, xlabel='latent time', ylabel='zscore', ax=ax)\n",
    "                ax.legend(obs)\n",
    "                pdf.savefig()  # saves the current figure into a pdf page\n",
    "                pl.close()\n",
    "\n",
    "                # heatmap time series\n",
    "                time = adata.obs.latent_time\n",
    "                Y=adata.obs[obs].iloc[np.argsort(time)]\n",
    "                #Y/=np.max(np.abs(Y), axis=0)\n",
    "                Y=zscore(Y)\n",
    "                df = pd.DataFrame(Y, columns=obs)\n",
    "                if True:\n",
    "                    n_convolve=50\n",
    "                    weights = np.ones(n_convolve) / n_convolve\n",
    "                    for o in obs:\n",
    "                        try:\n",
    "                            df[o] = np.convolve(df[o].values, weights, mode=\"same\")\n",
    "                        except:\n",
    "                            pass  # e.g. all-zero counts or nans cannot be convolved\n",
    "                from seaborn import clustermap\n",
    "                cm = clustermap(df.T, row_cluster=True, col_cluster=False, vmin=-2, vmax=2, cmap='bwr')#, **kwargs\n",
    "                cm.ax_heatmap.set_xlabel('latent time');\n",
    "                cm.ax_heatmap.set_title(donor+' heatmap');\n",
    "                cm.ax_heatmap.set_xticks([]);\n",
    "                pdf.savefig()  # saves the current figure into a pdf page\n",
    "                pl.close()\n",
    "\n",
    "                ### UMAPs Signatures etc ###\n",
    "                size = 4 * default_size(adata)\n",
    "                alpha = 0.4\n",
    "                ncols=4\n",
    "                show=False\n",
    "                umap_kwargs = {'size':size, 'alpha':alpha, 'ncols':ncols, 'show': show}\n",
    "\n",
    "                # umaps signatures\n",
    "                color = ['Stem', 'Goblet', 'YAP_targets', 'Stem_Lgr5_ISC-Merlos', 'TC1', 'TC2', 'TC3', 'TC4', \n",
    "                         'latent_time', 'HALLMARK_APOPTOSIS', 'HALLMARK_DNA_REPAIR', 'phase']\n",
    "                scv.pl.scatter(adata, color=color, **umap_kwargs)\n",
    "                pdf.savefig()  # saves the current figure into a pdf page\n",
    "                pl.close()\n",
    "\n",
    "                # UMAP genes\n",
    "                single_genes = np.array(['LGR5', 'OLFM4', 'TFF3', 'FABP1', 'EPHB2', 'AXIN1', 'AXIN2', 'EGR1'])\n",
    "                single_genes=single_genes[np.isin(single_genes, adata.var_names)]\n",
    "                scv.pl.scatter(adata, color=single_genes, **umap_kwargs)\n",
    "                pdf.savefig()  # saves the current figure into a pdf page\n",
    "                pl.close()\n",
    "\n",
    "                scv.pl.scatter(adata, color=single_genes, layer='Ms', **umap_kwargs)\n",
    "                pdf.savefig()  # saves the current figure into a pdf page\n",
    "                pl.close()\n",
    "\n",
    "                scv.pl.scatter(adata, color=single_genes, layer='Mu', **umap_kwargs)\n",
    "                pdf.savefig()  # saves the current figure into a pdf page\n",
    "                pl.close()\n",
    "\n",
    "                ### Dynamics / Velocity plots\n",
    "\n",
    "                # dynamical velocity plot\n",
    "                from scvelo.plotting.utils import default_size\n",
    "                scv.pl.velocity_embedding_grid(adata, color='latent_time', vkey='dyn_velo', arrow_length=5, arrow_size=5, density=0.4, arrow_color='black', show=False, title=donor+' '+pert+' dynamical velocity')\n",
    "                pdf.savefig()  # saves the current figure into a pdf page\n",
    "                pl.close()\n",
    "                \n",
    "                scv.settings.figdir = figure_path\n",
    "                scv.pl.velocity_embedding_stream(adata, color='latent_time', vkey='dyn_velo', show=False, title=donor+' '+pert+' dynamical velocity', save=donor+'_'+pert+'_stream.png', colorbar=False, dpi=200)\n",
    "                pl.close()\n",
    "\n",
    "                ### PHASE PLOTS ###\n",
    "\n",
    "                # overall top likelihood genes\n",
    "                topgenes = list(adata.var.fit_likelihood[~pd.isna(adata.var.fit_likelihood)].sort_values()[-20:].index)\n",
    "                scv.pl.scatter(adata, basis=topgenes, color='latent_time', ncols=4, show=False, title=[x+' top'+str(20-i) for i,x in enumerate(topgenes)])\n",
    "                pdf.savefig()  # saves the current figure into a pdf page\n",
    "                pl.close()\n",
    "\n",
    "\n"
   ]
  },
  {
   "cell_type": "code",
   "execution_count": 56,
   "metadata": {
    "ExecuteTime": {
     "end_time": "2021-01-26T12:42:45.665747Z",
     "start_time": "2021-01-26T12:35:05.030064Z"
    },
    "hidden": true,
    "scrolled": false
   },
   "outputs": [
    {
     "name": "stdout",
     "output_type": "stream",
     "text": [
      "NCO_E\n",
      "WARNING: genes are not in var_names and ignored: ['DIABLO', 'IL1A', 'FASLG', 'PRF1', 'PDGFRB', 'GPX1', 'CD38', 'PPP3R1', 'HGF', 'IFNB1', 'CD2', 'MMP2', 'PLAT', 'DCN', 'TGFB2', 'WEE1', 'CD69', 'PLCB2', 'LPPR4', 'GSTM1', 'BGN', 'F2', 'IL6', 'SC5DL', 'BCL2L2', 'FEZ1', 'DPYD', 'NEFH', 'CCNA1', 'GUCY2D', 'AVPR1A']\n",
      "computing terminal states\n",
      "    identified 2 regions of root cells and 1 region of end points .\n",
      "    finished (0:00:00)\n",
      "computing latent time using root_cells as prior\n",
      "    finished (0:00:06)\n",
      "computing velocity embedding\n",
      "    finished (0:00:00)\n",
      "saving figure to file G:/data/scSLAMseq/revision/exports/25_01_olddata_newpipeline/scvelo_NCO_E_stream.png\n",
      "NCO_W\n",
      "WARNING: genes are not in var_names and ignored: ['DIABLO', 'IL1A', 'FASLG', 'PDGFRB', 'GPX1', 'CD38', 'HGF', 'LUM', 'IFNB1', 'CD2', 'MMP2', 'PLAT', 'DCN', 'TGFB2', 'CD69', 'PLCB2', 'LPPR4', 'GSTM1', 'BGN', 'F2', 'IL6', 'SC5DL', 'BCL2L2', 'FEZ1', 'DPYD', 'NEFH', 'CCNA1', 'AVPR1A']\n",
      "computing terminal states\n",
      "    identified 0 region of root cells and 1 region of end points .\n",
      "    finished (0:00:00)\n",
      "WARNING: No root cells detected. Consider specifying root cells to improve latent time prediction.\n",
      "computing latent time using root_cells as prior\n",
      "    finished (0:00:18)\n",
      "computing velocity embedding\n",
      "    finished (0:00:01)\n",
      "saving figure to file G:/data/scSLAMseq/revision/exports/25_01_olddata_newpipeline/scvelo_NCO_W_stream.png\n",
      "P009ot_E\n",
      "WARNING: genes are not in var_names and ignored: ['IL1B', 'DIABLO', 'IL1A', 'FASLG', 'PDGFRB', 'GPX1', 'PPP3R1', 'HGF', 'IFNB1', 'CD2', 'MMP2', 'PLAT', 'TGFB2', 'CD69', 'LPPR4', 'GSTM1', 'F2', 'IL6', 'SC5DL', 'BCL2L2', 'FEZ1', 'DPYD', 'NEFH', 'CCNA1', 'GUCY2D', 'AVPR1A']\n",
      "computing terminal states\n",
      "    identified 1 region of root cells and 1 region of end points .\n",
      "    finished (0:00:00)\n",
      "computing latent time using root_cells as prior\n",
      "    finished (0:00:06)\n",
      "computing velocity embedding\n",
      "    finished (0:00:01)\n",
      "saving figure to file G:/data/scSLAMseq/revision/exports/25_01_olddata_newpipeline/scvelo_P009ot_E_stream.png\n",
      "P009ot_W\n",
      "WARNING: genes are not in var_names and ignored: ['DIABLO', 'IL1A', 'TNF', 'FASLG', 'GPX1', 'CD38', 'HGF', 'IFNB1', 'CD2', 'TGFB2', 'CD69', 'PLCB2', 'LPPR4', 'GSTM1', 'IL6', 'SC5DL', 'BCL2L2', 'DPYD', 'NEFH', 'CCNA1', 'AVPR1A']\n",
      "computing terminal states\n",
      "    identified 0 region of root cells and 1 region of end points .\n",
      "    finished (0:00:00)\n",
      "WARNING: No root cells detected. Consider specifying root cells to improve latent time prediction.\n",
      "computing latent time using root_cells as prior\n",
      "    finished (0:00:02)\n",
      "computing velocity embedding\n",
      "    finished (0:00:00)\n",
      "saving figure to file G:/data/scSLAMseq/revision/exports/25_01_olddata_newpipeline/scvelo_P009ot_W_stream.png\n",
      "P013ot_E\n",
      "WARNING: genes are not in var_names and ignored: ['DIABLO', 'FASLG', 'PDGFRB', 'GPX1', 'HGF', 'LUM', 'IFNB1', 'CD2', 'MMP2', 'DCN', 'TGFB2', 'CD69', 'LPPR4', 'GSTM1', 'F2', 'IL6', 'SC5DL', 'BCL2L2', 'DPYD', 'CCNA1', 'AVPR1A']\n",
      "computing terminal states\n",
      "    identified 0 region of root cells and 1 region of end points .\n",
      "    finished (0:00:00)\n",
      "WARNING: No root cells detected. Consider specifying root cells to improve latent time prediction.\n",
      "computing latent time using root_cells as prior\n",
      "    finished (0:00:09)\n",
      "computing velocity embedding\n",
      "    finished (0:00:00)\n",
      "saving figure to file G:/data/scSLAMseq/revision/exports/25_01_olddata_newpipeline/scvelo_P013ot_E_stream.png\n",
      "P013ot_W\n",
      "WARNING: genes are not in var_names and ignored: ['DIABLO', 'IL1A', 'FASLG', 'PDGFRB', 'GPX1', 'CD38', 'HGF', 'IFNB1', 'CD2', 'MMP2', 'DCN', 'TGFB2', 'CD69', 'LPPR4', 'GSTM1', 'F2', 'IL6', 'SC5DL', 'BCL2L2', 'FEZ1', 'DPYD', 'CCNA1', 'AVPR1A']\n",
      "computing terminal states\n",
      "    identified 2 regions of root cells and 1 region of end points .\n",
      "    finished (0:00:00)\n",
      "computing latent time using root_cells as prior\n",
      "    finished (0:00:18)\n",
      "computing velocity embedding\n",
      "    finished (0:00:01)\n",
      "saving figure to file G:/data/scSLAMseq/revision/exports/25_01_olddata_newpipeline/scvelo_P013ot_W_stream.png\n"
     ]
    }
   ],
   "source": [
    "old_dynamic_analysis(sigs, flo_sigs, hallmark_apo, single_genes, yap_targets, figure_path)"
   ]
  }
 ],
 "metadata": {
  "kernelspec": {
   "display_name": "Python 3",
   "language": "python",
   "name": "python3"
  },
  "language_info": {
   "codemirror_mode": {
    "name": "ipython",
    "version": 3
   },
   "file_extension": ".py",
   "mimetype": "text/x-python",
   "name": "python",
   "nbconvert_exporter": "python",
   "pygments_lexer": "ipython3",
   "version": "3.6.6"
  },
  "varInspector": {
   "cols": {
    "lenName": 16,
    "lenType": 16,
    "lenVar": 40
   },
   "kernels_config": {
    "python": {
     "delete_cmd_postfix": "",
     "delete_cmd_prefix": "del ",
     "library": "var_list.py",
     "varRefreshCmd": "print(var_dic_list())"
    },
    "r": {
     "delete_cmd_postfix": ") ",
     "delete_cmd_prefix": "rm(",
     "library": "var_list.r",
     "varRefreshCmd": "cat(var_dic_list()) "
    }
   },
   "types_to_exclude": [
    "module",
    "function",
    "builtin_function_or_method",
    "instance",
    "_Feature"
   ],
   "window_display": false
  }
 },
 "nbformat": 4,
 "nbformat_minor": 2
}

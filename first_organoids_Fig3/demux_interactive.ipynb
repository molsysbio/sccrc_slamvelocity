{
 "cells": [
  {
   "cell_type": "markdown",
   "metadata": {},
   "source": [
    "Alternative (interactive) skript for demuxing."
   ]
  },
  {
   "cell_type": "code",
   "execution_count": null,
   "metadata": {
    "ExecuteTime": {
     "end_time": "2020-04-07T08:48:52.257271Z",
     "start_time": "2020-04-07T08:48:49.412611Z"
    }
   },
   "outputs": [],
   "source": [
    "import numpy as np\n",
    "import matplotlib.pyplot as pl\n",
    "import scvelo as scv\n",
    "import pandas as pd\n",
    "import scanpy as sc\n",
    "from tqdm import tnrange, tqdm_notebook\n",
    "from IPython.core.display import display, HTML\n",
    "display(HTML('<style>.container {width:90% !important;}</style>'))\n",
    "\n",
    "scv.settings.set_figure_params('scvelo')\n",
    "scv.settings.verbosity = 1\n",
    "\n",
    "data_path='../data/'\n",
    "letter = 'C'"
   ]
  },
  {
   "cell_type": "code",
   "execution_count": null,
   "metadata": {
    "ExecuteTime": {
     "end_time": "2020-04-07T09:15:52.045773Z",
     "start_time": "2020-04-07T09:15:52.028824Z"
    },
    "code_folding": [
     0,
     38
    ]
   },
   "outputs": [],
   "source": [
    "def apply_demux(adata, letter, data_path='../data/'):\n",
    "    annot = {'C': {\n",
    "              'Hashtag10': 'p009ot',\n",
    "              'Hashtag11': 'p013ot',\n",
    "              'Hashtag12': 'NCO',\n",
    "              },\n",
    "        'E': {\n",
    "              'Hashtag7': 'p009ot',\n",
    "              'Hashtag8': 'p013ot',\n",
    "              'Hashtag9': 'NCO',\n",
    "              },\n",
    "        'W': {\n",
    "              'Hashtag4': 'p009ot',\n",
    "              'Hashtag5': 'p013ot',\n",
    "              'Hashtag6': 'NCO',\n",
    "              }\n",
    "        }\n",
    "    \n",
    "    SNPdemux = pd.read_csv(data_path+letter+'_donor_ids_SNP.tsv', sep='\\t')\n",
    "    SNPdemux = SNPdemux.set_index('cell', drop=True)\n",
    "    new_index = [index[:-2] for index in SNPdemux.index]  # clean index names\n",
    "    SNPdemux.index=new_index\n",
    "\n",
    "    adata.obs['SNPdemux'] = SNPdemux['donor_id']\n",
    "    \n",
    "    seuratdemux = pd.read_csv(data_path+letter+'_donor_ids_seurat.csv', sep=',')\n",
    "    for key in annot[letter].keys():\n",
    "        seuratdemux[seuratdemux==key]=annot[letter][key] \n",
    "\n",
    "    for name in pd.unique(seuratdemux['x']):\n",
    "        if name==name:\n",
    "            if '_' in name:\n",
    "                seuratdemux[seuratdemux==name]='doublet' \n",
    "\n",
    "    adata.obs['seuratdemux'] = seuratdemux\n",
    "    adata.obs['seuratdemux'][pd.isna(adata.obs['seuratdemux'])]='Negative'\n",
    "    return adata\n",
    "\n",
    "def identify(adata, letter):\n",
    "    annot = {'C': {\n",
    "              'Hashtag10': 'p009ot',\n",
    "              'Hashtag11': 'p013ot',\n",
    "              'Hashtag12': 'NCO',\n",
    "              },\n",
    "        'E': {\n",
    "              'Hashtag7': 'p009ot',\n",
    "              'Hashtag8': 'p013ot',\n",
    "              'Hashtag9': 'NCO',\n",
    "              },\n",
    "        'W': {\n",
    "              'Hashtag4': 'p009ot',\n",
    "              'Hashtag5': 'p013ot',\n",
    "              'Hashtag6': 'NCO',\n",
    "              }\n",
    "        }\n",
    "    # apply seurat id to SNP\n",
    "    donor_names = np.array(list(annot[letter].values()))\n",
    "    donor_ids = np.array(['donor0', 'donor1', 'donor2'])\n",
    "    mat=np.zeros((len(donor_ids), len(donor_names)))\n",
    "    for i, sn in enumerate(donor_ids):\n",
    "        for j, se in enumerate(donor_names):\n",
    "            mat[i][j] = len(set(np.where(adata.obs['SNPdemux']==sn)[0]).intersection(set(np.where(adata.obs['seuratdemux']==se)[0])))\n",
    "    # pl.imshow(mat)\n",
    "    donors_dict = dict(list(zip(donor_ids[np.argmax(mat, axis=0)], donor_names)))\n",
    "    for key in donors_dict.keys():\n",
    "        adata.obs['SNPdemux'][adata.obs['SNPdemux']==key]=donors_dict[key]\n",
    "    return adata\n"
   ]
  },
  {
   "cell_type": "markdown",
   "metadata": {
    "heading_collapsed": true
   },
   "source": [
    "# Check demux"
   ]
  },
  {
   "cell_type": "code",
   "execution_count": null,
   "metadata": {
    "ExecuteTime": {
     "end_time": "2020-04-07T08:41:53.245605Z",
     "start_time": "2020-04-07T08:40:38.653072Z"
    },
    "hidden": true
   },
   "outputs": [],
   "source": [
    "data_path='../data/'\n",
    "cdata = scv.read(data_path+'NB_AS_C.loom')\n",
    "new_index = [index[25:-1] for index in cdata.obs.index]  # clean index names\n",
    "cdata.obs_names=new_index\n",
    "apply_demux(cdata)\n",
    "identify(cdata)"
   ]
  },
  {
   "cell_type": "code",
   "execution_count": null,
   "metadata": {
    "ExecuteTime": {
     "end_time": "2020-04-07T09:05:53.331931Z",
     "start_time": "2020-04-07T09:04:38.922922Z"
    },
    "hidden": true
   },
   "outputs": [],
   "source": [
    "# C\n",
    "adata = scv.read(data_path+'NB_AS_'+'C'+'_demuxed.h5')\n",
    "sc.pp.filter_cells(adata, min_genes=10)\n",
    "sc.pp.filter_genes(adata, min_cells=1000)\n",
    "sc.pp.normalize_total(adata)\n",
    "scv.pp.neighbors(adata)\n",
    "scv.tl.umap(adata)\n",
    "scv.pl.scatter(adata, basis='umap', color='SNPdemux', show=False)"
   ]
  },
  {
   "cell_type": "code",
   "execution_count": null,
   "metadata": {
    "ExecuteTime": {
     "end_time": "2020-04-07T09:34:39.487046Z",
     "start_time": "2020-04-07T09:33:32.708591Z"
    },
    "hidden": true
   },
   "outputs": [],
   "source": [
    "# E\n",
    "letter='E'\n",
    "adata = scv.read(data_path+'NB_AS_'+letter+'_demuxed.h5')\n",
    "sc.pp.filter_cells(adata, min_genes=10)\n",
    "sc.pp.filter_genes(adata, min_cells=1000)\n",
    "sc.pp.normalize_total(adata)\n",
    "scv.pp.neighbors(adata)\n",
    "scv.tl.umap(adata)\n",
    "scv.pl.scatter(adata, basis='umap', color='SNPdemux', show=False)"
   ]
  },
  {
   "cell_type": "code",
   "execution_count": null,
   "metadata": {
    "ExecuteTime": {
     "end_time": "2020-04-07T09:48:48.173984Z",
     "start_time": "2020-04-07T09:47:48.966062Z"
    },
    "hidden": true
   },
   "outputs": [],
   "source": [
    "# W\n",
    "adata = scv.read(data_path+'NB_AS_'+'W'+'_demuxed.h5')\n",
    "sc.pp.filter_cells(adata, min_genes=10)\n",
    "sc.pp.filter_genes(adata, min_cells=1000)\n",
    "sc.pp.normalize_total(adata)\n",
    "scv.pp.neighbors(adata)\n",
    "scv.tl.umap(adata)\n",
    "scv.pl.scatter(adata, basis='umap', color='SNPdemux', show=False)"
   ]
  },
  {
   "cell_type": "code",
   "execution_count": null,
   "metadata": {
    "ExecuteTime": {
     "end_time": "2020-04-03T12:09:50.614993Z",
     "start_time": "2020-04-03T12:09:50.604026Z"
    },
    "hidden": true
   },
   "outputs": [],
   "source": [
    "seu = pd.unique(cdata.obs['seuratdemux'])\n",
    "print(seu)\n",
    "snp = pd.unique(cdata.obs['SNPdemux'])\n",
    "print(snp)\n",
    "\n",
    "#Align for plot\n",
    "snp = snp[[3, 4, 0, 1, 2]]\n",
    "print(snp)\n",
    "seu = seu[[4, 3, 0, 2, 1]]\n",
    "print(seu)"
   ]
  },
  {
   "cell_type": "code",
   "execution_count": null,
   "metadata": {
    "ExecuteTime": {
     "end_time": "2020-04-03T12:09:51.626838Z",
     "start_time": "2020-04-03T12:09:51.248300Z"
    },
    "hidden": true
   },
   "outputs": [],
   "source": [
    "mat = np.zeros((len(seu), len(snp)))\n",
    "for i, sn in enumerate(snp):\n",
    "    for j, se in enumerate(seu):\n",
    "        mat[i,j] = len(set(np.where(cdata.obs['SNPdemux']==sn)[0]).intersection(set(np.where(cdata.obs['seuratdemux']==se)[0])))\n",
    "\n",
    "im = pl.imshow(np.log(mat+1))\n",
    "pl.xticks(range(len(seu)), seu, rotation=45)\n",
    "pl.yticks(range(len(snp)), snp, rotation=0)\n",
    "pl.ylabel('SNP Demux')\n",
    "pl.xlabel('seurat Demux')\n",
    "pl.title('Demux comparison\\nshowing log (counts)+1')\n",
    "pl.colorbar(im)"
   ]
  },
  {
   "cell_type": "code",
   "execution_count": null,
   "metadata": {
    "ExecuteTime": {
     "end_time": "2020-04-03T10:36:55.453238Z",
     "start_time": "2020-04-03T10:36:55.196011Z"
    },
    "hidden": true
   },
   "outputs": [],
   "source": [
    "mat = np.zeros((len(seu[:3]), len(snp[:3])))\n",
    "for i, sn in enumerate(snp[:3]):\n",
    "    for j, se in enumerate(seu[:3]):\n",
    "        mat[i,j] = len(set(np.where(cdata.obs['SNPdemux']==sn)[0]).intersection(set(np.where(cdata.obs['seuratdemux']==se)[0])))\n",
    "\n",
    "im = pl.imshow(np.log(mat+1))\n",
    "pl.xticks(range(len(seu[:3])), seu[:3], rotation=45)\n",
    "pl.yticks(range(len(snp[:3])), snp[:3], rotation=0)\n",
    "pl.ylabel('SNP Demux')\n",
    "pl.xlabel('seurat Demux')\n",
    "pl.title('Demux comparison\\nshowing log (counts)+1')\n",
    "pl.colorbar(im)"
   ]
  },
  {
   "cell_type": "markdown",
   "metadata": {},
   "source": [
    "# Load, pp and save data"
   ]
  },
  {
   "cell_type": "code",
   "execution_count": null,
   "metadata": {
    "ExecuteTime": {
     "end_time": "2020-04-07T09:19:13.177022Z",
     "start_time": "2020-04-07T09:16:09.474380Z"
    }
   },
   "outputs": [],
   "source": [
    "data_path='../data/'\n",
    "letters = ['C', 'E', 'W']\n",
    "adatas = [scv.read(data_path+'NB_AS_'+letter+'.loom') for letter in letters]\n",
    "for cdata, letter in zip(adatas, letters): \n",
    "    new_index = [index[25:-1] for index in cdata.obs.index]  # clean index names\n",
    "    cdata.obs_names=new_index\n",
    "    apply_demux(cdata, letter)\n",
    "    identify(cdata, letter)"
   ]
  },
  {
   "cell_type": "code",
   "execution_count": null,
   "metadata": {
    "ExecuteTime": {
     "end_time": "2020-04-07T08:38:10.618461Z",
     "start_time": "2020-04-07T08:38:10.611567Z"
    }
   },
   "outputs": [],
   "source": [
    "cdata"
   ]
  },
  {
   "cell_type": "code",
   "execution_count": null,
   "metadata": {
    "ExecuteTime": {
     "end_time": "2020-04-07T09:33:32.324401Z",
     "start_time": "2020-04-07T09:32:20.927046Z"
    }
   },
   "outputs": [],
   "source": [
    "for cdata, letter in zip(adatas, letters): \n",
    "    sc.write('../data/NB_AS_'+letter+'_demuxed.h5', cdata)"
   ]
  },
  {
   "cell_type": "markdown",
   "metadata": {
    "heading_collapsed": true
   },
   "source": [
    "# (Velocity moved to scvelo folder) deprecated"
   ]
  },
  {
   "cell_type": "markdown",
   "metadata": {
    "hidden": true
   },
   "source": [
    "## load data"
   ]
  },
  {
   "cell_type": "code",
   "execution_count": null,
   "metadata": {
    "ExecuteTime": {
     "end_time": "2020-04-02T09:25:07.507161Z",
     "start_time": "2020-04-02T09:25:05.441381Z"
    },
    "hidden": true,
    "scrolled": false
   },
   "outputs": [],
   "source": [
    "cdata = scv.read('../data/NB_AS_C_demuxed.h5')\n",
    "cdata.obs.head()"
   ]
  },
  {
   "cell_type": "code",
   "execution_count": null,
   "metadata": {
    "ExecuteTime": {
     "end_time": "2020-04-02T09:25:15.631939Z",
     "start_time": "2020-04-02T09:25:15.463535Z"
    },
    "hidden": true
   },
   "outputs": [],
   "source": [
    "# subset\n",
    "adata = cdata[cdata.obs['seuratdemux']=='NCO'].copy()"
   ]
  },
  {
   "cell_type": "code",
   "execution_count": null,
   "metadata": {
    "ExecuteTime": {
     "end_time": "2020-04-02T09:25:25.004315Z",
     "start_time": "2020-04-02T09:25:16.383938Z"
    },
    "hidden": true
   },
   "outputs": [],
   "source": [
    "scv.pp.filter_and_normalize(adata, min_shared_counts=20, min_shared_cells=20)\n",
    "sc.pp.pca(adata)\n",
    "sc.pp.neighbors(adata)\n",
    "sc.tl.umap(adata)\n",
    "scv.tl.velocity(adata)\n",
    "scv.tl.velocity_graph(adata)\n",
    "\n",
    "tab = pd.read_excel('regev-colon-mmc2.xlsx')\n",
    "ct_annotate(adata, tab, show=False)"
   ]
  },
  {
   "cell_type": "code",
   "execution_count": null,
   "metadata": {
    "ExecuteTime": {
     "end_time": "2020-04-02T09:26:44.484951Z",
     "start_time": "2020-04-02T09:26:43.665331Z"
    },
    "hidden": true
   },
   "outputs": [],
   "source": [
    "scv.pl.scatter(adata, basis='umap', color=['annot_test', 'KRT20', 'CD44'])"
   ]
  },
  {
   "cell_type": "code",
   "execution_count": null,
   "metadata": {
    "ExecuteTime": {
     "end_time": "2020-04-02T09:27:25.349570Z",
     "start_time": "2020-04-02T09:27:20.064312Z"
    },
    "hidden": true
   },
   "outputs": [],
   "source": [
    "scv.pl.velocity_embedding_stream(adata, color=['annot_test', 'KRT20', 'CD44'])"
   ]
  },
  {
   "cell_type": "code",
   "execution_count": null,
   "metadata": {
    "ExecuteTime": {
     "end_time": "2020-04-02T09:28:23.171258Z",
     "start_time": "2020-04-02T09:28:22.759982Z"
    },
    "hidden": true
   },
   "outputs": [],
   "source": [
    "scv.pl.scatter(adata, basis=['KRT20', 'CD44'], color='annot_test')"
   ]
  },
  {
   "cell_type": "code",
   "execution_count": null,
   "metadata": {
    "ExecuteTime": {
     "end_time": "2020-04-01T11:51:13.524615Z",
     "start_time": "2020-04-01T11:51:13.159196Z"
    },
    "hidden": true
   },
   "outputs": [],
   "source": [
    "sc.pp.highly_variable_genes(adata, n_top_genes=10)"
   ]
  },
  {
   "cell_type": "code",
   "execution_count": null,
   "metadata": {
    "ExecuteTime": {
     "end_time": "2020-04-01T11:51:14.154032Z",
     "start_time": "2020-04-01T11:51:14.135537Z"
    },
    "hidden": true
   },
   "outputs": [],
   "source": [
    "adata.var[adata.var['highly_variable']].head()"
   ]
  },
  {
   "cell_type": "code",
   "execution_count": null,
   "metadata": {
    "ExecuteTime": {
     "end_time": "2020-04-01T11:51:15.088439Z",
     "start_time": "2020-04-01T11:51:15.073484Z"
    },
    "hidden": true
   },
   "outputs": [],
   "source": [
    "adata.var[adata.var['velocity_genes']].head()"
   ]
  },
  {
   "cell_type": "code",
   "execution_count": null,
   "metadata": {
    "ExecuteTime": {
     "end_time": "2020-04-01T11:51:48.800547Z",
     "start_time": "2020-04-01T11:51:48.795003Z"
    },
    "hidden": true
   },
   "outputs": [],
   "source": []
  },
  {
   "cell_type": "code",
   "execution_count": null,
   "metadata": {
    "ExecuteTime": {
     "end_time": "2020-04-01T12:03:42.060780Z",
     "start_time": "2020-04-01T12:03:41.774839Z"
    },
    "hidden": true
   },
   "outputs": [],
   "source": [
    "velo_genes = adata.var_names[adata.var['velocity_genes']]\n",
    "k=20*0\n",
    "scv.pl.scatter(adata, basis=velo_genes[k:k+20], color='annot_test')"
   ]
  },
  {
   "cell_type": "code",
   "execution_count": null,
   "metadata": {
    "hidden": true
   },
   "outputs": [],
   "source": []
  },
  {
   "cell_type": "code",
   "execution_count": null,
   "metadata": {
    "ExecuteTime": {
     "end_time": "2020-04-01T12:14:13.205930Z",
     "start_time": "2020-04-01T12:14:13.199998Z"
    },
    "hidden": true
   },
   "outputs": [],
   "source": [
    "tier_0 = 'RPS3, EPCAM, RPS21, TFF3, RPL30, RPS4X, EMP1, ITM2B, LMO7, AGPAT2'.split(', ')  # most interesting IMO\n",
    "tier_1 = 'RPS8, RPL5, COL17A1, AKR1C1, FTH1, TSPAN8, PHGR1, B2M, HSD17B2, KRT20, ITGB4, SELENOW, MYH14, RPS23, FABP6, SLC39A4'.split(', ')\n",
    "tier_2 = 'TMEM54, ANXA11, MYL6, KTN1, CA12, JUND, RABAC1, FHL2, MYO7B, LIPH, FLNB, PLS1, EDF1'.split(', ')"
   ]
  },
  {
   "cell_type": "code",
   "execution_count": null,
   "metadata": {
    "ExecuteTime": {
     "end_time": "2020-04-01T12:15:00.496419Z",
     "start_time": "2020-04-01T12:14:57.981049Z"
    },
    "hidden": true
   },
   "outputs": [],
   "source": []
  },
  {
   "cell_type": "markdown",
   "metadata": {
    "heading_collapsed": true,
    "hidden": true
   },
   "source": [
    "## Runs on C"
   ]
  },
  {
   "cell_type": "code",
   "execution_count": null,
   "metadata": {
    "ExecuteTime": {
     "end_time": "2020-04-01T13:08:37.525802Z",
     "start_time": "2020-04-01T13:08:30.429672Z"
    },
    "hidden": true
   },
   "outputs": [],
   "source": [
    "cdata = scv.read('../data/NB_AS_C_demuxed.h5')\n",
    "cdata.obs.head()"
   ]
  },
  {
   "cell_type": "markdown",
   "metadata": {
    "hidden": true
   },
   "source": [
    "## p009ot"
   ]
  },
  {
   "cell_type": "code",
   "execution_count": null,
   "metadata": {
    "ExecuteTime": {
     "end_time": "2020-04-01T13:09:50.539298Z",
     "start_time": "2020-04-01T13:08:37.899853Z"
    },
    "hidden": true
   },
   "outputs": [],
   "source": [
    "# pt009ot\n",
    "p009ot_adata = cdata[cdata.obs['seuratdemux']=='p009ot']\n",
    "scv.pp.filter_and_normalize(p009ot_adata, min_shared_counts=20, min_shared_cells=20)\n",
    "sc.pp.pca(p009ot_adata)\n",
    "sc.pp.neighbors(p009ot_adata)\n",
    "sc.tl.umap(p009ot_adata)\n",
    "\n",
    "tab = pd.read_excel('regev-colon-mmc2.xlsx')\n",
    "ct_annotate(p009ot_adata, tab, show=False)\n",
    "\n",
    "scv.tl.velocity(p009ot_adata)\n",
    "scv.tl.velocity_graph(p009ot_adata)\n",
    "\n",
    "scv.pl.velocity_embedding_stream(p009ot_adata, color='annot_test')"
   ]
  },
  {
   "cell_type": "code",
   "execution_count": null,
   "metadata": {
    "ExecuteTime": {
     "end_time": "2020-04-01T13:09:51.062845Z",
     "start_time": "2020-04-01T13:09:51.051717Z"
    },
    "hidden": true
   },
   "outputs": [],
   "source": [
    "#velo_genes = adata.var_names[adata.var['velocity_genes']]\n",
    "#k=20*2\n",
    "#scv.pl.scatter(adata, basis=velo_genes[k:k+20], color='annot_test')\n",
    "# found interesting genes by visual inspection of velocity_genes\n",
    "p009ot_tier_0 = 'RCN1, RPS3, EMP1, PHGR1, HSD17B2, EIF1, EPCAM, TFF3, LIPH, SNHG8, RPS23, FABP6, CENPW, ABCB1, CA1, LCN15, LCN2, RPS4X, FLNA, RPL10'.split(', ')"
   ]
  },
  {
   "cell_type": "code",
   "execution_count": null,
   "metadata": {
    "ExecuteTime": {
     "end_time": "2020-04-01T13:09:59.233834Z",
     "start_time": "2020-04-01T13:09:51.585691Z"
    },
    "hidden": true
   },
   "outputs": [],
   "source": [
    "scv.pl.scatter(p009ot_adata, basis=p009ot_tier_0, color='annot_test', use_raw=False)"
   ]
  },
  {
   "cell_type": "markdown",
   "metadata": {
    "hidden": true
   },
   "source": [
    "## p013ot"
   ]
  },
  {
   "cell_type": "code",
   "execution_count": null,
   "metadata": {
    "ExecuteTime": {
     "end_time": "2020-04-01T13:17:27.607143Z",
     "start_time": "2020-04-01T13:15:25.744592Z"
    },
    "hidden": true
   },
   "outputs": [],
   "source": [
    "p013ot_adata = cdata[cdata.obs['seuratdemux']=='p013ot']\n",
    "scv.pp.filter_and_normalize(p013ot_adata, min_shared_counts=20, min_shared_cells=20)\n",
    "sc.pp.pca(p013ot_adata)\n",
    "sc.pp.neighbors(p013ot_adata)\n",
    "sc.tl.umap(p013ot_adata)\n",
    "\n",
    "tab = pd.read_excel('regev-colon-mmc2.xlsx')\n",
    "ct_annotate(p013ot_adata, tab, show=False)\n",
    "\n",
    "scv.tl.velocity(p013ot_adata)\n",
    "scv.tl.velocity_graph(p013ot_adata)\n",
    "\n",
    "scv.pl.velocity_embedding_stream(p013ot_adata, color='annot_test')"
   ]
  },
  {
   "cell_type": "code",
   "execution_count": null,
   "metadata": {
    "ExecuteTime": {
     "end_time": "2020-04-01T13:17:28.247934Z",
     "start_time": "2020-04-01T13:17:28.239942Z"
    },
    "hidden": true
   },
   "outputs": [],
   "source": [
    "#velo_genes = adata.var_names[adata.var['velocity_genes']]\n",
    "#k=20*1\n",
    "#scv.pl.scatter(adata, basis=velo_genes[k:k+20], color='annot_test')\n",
    "# found interesting genes by visual inspection of velocity_genes\n",
    "pt013ot_tier_0 = 'MALAT1, PHGR1, EPCAM, TNNC2, TFF3, AREG, RPL30, FABP6, RPS4X'.split(', ')"
   ]
  },
  {
   "cell_type": "code",
   "execution_count": null,
   "metadata": {
    "ExecuteTime": {
     "end_time": "2020-04-01T13:17:33.025859Z",
     "start_time": "2020-04-01T13:17:28.967099Z"
    },
    "hidden": true
   },
   "outputs": [],
   "source": [
    "scv.pl.scatter(p013ot_adata, basis=pt013ot_tier_0, color='annot_test', use_raw=False)"
   ]
  },
  {
   "cell_type": "markdown",
   "metadata": {
    "hidden": true
   },
   "source": [
    "## NCO"
   ]
  },
  {
   "cell_type": "code",
   "execution_count": null,
   "metadata": {
    "ExecuteTime": {
     "end_time": "2020-04-01T13:20:51.879032Z",
     "start_time": "2020-04-01T13:17:39.225035Z"
    },
    "hidden": true
   },
   "outputs": [],
   "source": [
    "# NCO\n",
    "NCO_adata = cdata[cdata.obs['seuratdemux']=='NCO']\n",
    "scv.pp.filter_and_normalize(NCO_adata, min_shared_counts=20, min_shared_cells=20)\n",
    "sc.pp.pca(NCO_adata)\n",
    "sc.pp.neighbors(NCO_adata)\n",
    "sc.tl.umap(NCO_adata)\n",
    "\n",
    "tab = pd.read_excel('regev-colon-mmc2.xlsx')\n",
    "ct_annotate(NCO_adata, tab, show=False)\n",
    "\n",
    "scv.tl.velocity(NCO_adata)\n",
    "scv.tl.velocity_graph(NCO_adata)\n",
    "\n",
    "scv.pl.velocity_embedding_stream(NCO_adata, color='annot_test')"
   ]
  },
  {
   "cell_type": "code",
   "execution_count": null,
   "metadata": {
    "ExecuteTime": {
     "end_time": "2020-04-01T13:20:52.195498Z",
     "start_time": "2020-04-01T13:20:52.188514Z"
    },
    "hidden": true
   },
   "outputs": [],
   "source": [
    "#velo_genes = adata.var_names[adata.var['velocity_genes']]\n",
    "#k=20*0\n",
    "#scv.pl.scatter(adata, basis=velo_genes[k:k+20], color='annot_test')\n",
    "# found interesting genes by visual inspection of velocity_genes\n",
    "\n",
    "NCO_tier_0 = 'RPS3, EPCAM, RPS21, TFF3, RPL30, RPS4X, EMP1, ITM2B, LMO7, AGPAT2'.split(', ')  # most interesting IMO\n",
    "NCO_tier_1 = 'RPS8, RPL5, COL17A1, AKR1C1, FTH1, TSPAN8, PHGR1, B2M, HSD17B2, KRT20, ITGB4, SELENOW, MYH14, RPS23, FABP6, SLC39A4'.split(', ')\n",
    "NCO_tier_2 = 'TMEM54, ANXA11, MYL6, KTN1, CA12, JUND, RABAC1, FHL2, MYO7B, LIPH, FLNB, PLS1, EDF1'.split(', ')"
   ]
  },
  {
   "cell_type": "code",
   "execution_count": null,
   "metadata": {
    "ExecuteTime": {
     "end_time": "2020-04-01T13:20:58.466754Z",
     "start_time": "2020-04-01T13:20:52.498754Z"
    },
    "hidden": true
   },
   "outputs": [],
   "source": [
    "scv.pl.scatter(NCO_adata, basis=NCO_tier_0, color='annot_test', use_raw=False)"
   ]
  },
  {
   "cell_type": "markdown",
   "metadata": {
    "hidden": true
   },
   "source": [
    "## Comparison between donors"
   ]
  },
  {
   "cell_type": "markdown",
   "metadata": {
    "hidden": true
   },
   "source": [
    "### Velocity genes"
   ]
  },
  {
   "cell_type": "code",
   "execution_count": null,
   "metadata": {
    "ExecuteTime": {
     "end_time": "2020-04-01T13:25:59.651349Z",
     "start_time": "2020-04-01T13:25:59.545935Z"
    },
    "hidden": true
   },
   "outputs": [],
   "source": [
    "from matplotlib_venn import venn3\n",
    "set1 = set(p009ot_adata.var_names[p009ot_adata.var['velocity_genes']])\n",
    "set2 = set(p013ot_adata.var_names[p013ot_adata.var['velocity_genes']])\n",
    "set3 = set(NCO_adata.var_names[NCO_adata.var['velocity_genes']])\n",
    "\n",
    "venn3([set1, set2, set3], ('p009ot', 'p013ot', 'NCO'))\n",
    "pl.title('Velocity Genes')\n",
    "pl.show()"
   ]
  },
  {
   "cell_type": "code",
   "execution_count": null,
   "metadata": {
    "ExecuteTime": {
     "end_time": "2020-04-01T13:58:22.603782Z",
     "start_time": "2020-04-01T13:58:05.610982Z"
    },
    "hidden": true
   },
   "outputs": [],
   "source": [
    "com = list(set1.intersection(set2).intersection(set3))\n",
    "fig, axs = pl.subplots(3, len(com), figsize=[5*len(com), 15])\n",
    "\n",
    "for i, data in enumerate([p009ot_adata, p013ot_adata, NCO_adata]):\n",
    "    for j, gene in enumerate(com):\n",
    "        scv.pl.scatter(data, basis=gene, color='annot_test', show=False, ax=axs[i][j])"
   ]
  },
  {
   "cell_type": "markdown",
   "metadata": {
    "hidden": true
   },
   "source": [
    "## splitup lineages NCO"
   ]
  },
  {
   "cell_type": "code",
   "execution_count": null,
   "metadata": {
    "ExecuteTime": {
     "end_time": "2020-04-02T09:38:19.884347Z",
     "start_time": "2020-04-02T09:37:54.671463Z"
    },
    "hidden": true
   },
   "outputs": [],
   "source": [
    "# NCO\n",
    "NCO_adata = cdata[cdata.obs['seuratdemux']=='NCO']\n",
    "\n",
    "scv.pp.filter_and_normalize(NCO_adata, min_shared_counts=20, min_shared_cells=20)\n",
    "\n",
    "sc.pp.pca(NCO_adata)\n",
    "sc.pp.neighbors(NCO_adata)\n",
    "sc.tl.umap(NCO_adata)\n",
    "\n",
    "tab = pd.read_excel('regev-colon-mmc2.xlsx')\n",
    "ct_annotate(NCO_adata, tab, show=False)\n",
    "\n",
    "scv.pl.scatter(NCO_adata, color='annot_test')"
   ]
  },
  {
   "cell_type": "code",
   "execution_count": null,
   "metadata": {
    "ExecuteTime": {
     "end_time": "2020-04-02T09:43:59.671404Z",
     "start_time": "2020-04-02T09:43:51.586142Z"
    },
    "hidden": true
   },
   "outputs": [],
   "source": [
    "scv.tl.velocity(NCO_adata)\n",
    "scv.tl.velocity_graph(NCO_adata)\n",
    "scv.pl.velocity_embedding_stream(NCO_adata, color='annot_test')"
   ]
  },
  {
   "cell_type": "code",
   "execution_count": null,
   "metadata": {
    "ExecuteTime": {
     "end_time": "2020-04-02T09:39:11.900908Z",
     "start_time": "2020-04-02T09:39:11.894887Z"
    },
    "hidden": true
   },
   "outputs": [],
   "source": [
    "pd.unique(NCO_adata.obs['annot_test'])"
   ]
  },
  {
   "cell_type": "code",
   "execution_count": null,
   "metadata": {
    "ExecuteTime": {
     "end_time": "2020-04-02T09:42:09.182205Z",
     "start_time": "2020-04-02T09:42:08.433868Z"
    },
    "hidden": true
   },
   "outputs": [],
   "source": [
    "stem_lineage = ['Stem', 'Secretory TA']\n",
    "NCO_adata_stem = NCO_adata[np.isin(NCO_adata.obs['annot_test'], stem_lineage)]\n",
    "\n",
    "scv.pl.scatter(NCO_adata_stem, color='annot_test')\n",
    "\n",
    "diff_lineage = ['TA 2', 'Enterocytes', 'E.Epithelial']\n",
    "NCO_adata_diff = NCO_adata[np.isin(NCO_adata.obs['annot_test'], diff_lineage)]\n",
    "\n",
    "scv.pl.scatter(NCO_adata_diff, color='annot_test')"
   ]
  },
  {
   "cell_type": "code",
   "execution_count": null,
   "metadata": {
    "ExecuteTime": {
     "end_time": "2020-04-02T09:42:35.011941Z",
     "start_time": "2020-04-02T09:42:31.527871Z"
    },
    "hidden": true
   },
   "outputs": [],
   "source": [
    "scv.tl.velocity(NCO_adata_stem)\n",
    "scv.tl.velocity_graph(NCO_adata_stem)\n",
    "scv.pl.velocity_embedding_stream(NCO_adata_stem, color='annot_test')"
   ]
  },
  {
   "cell_type": "code",
   "execution_count": null,
   "metadata": {
    "ExecuteTime": {
     "end_time": "2020-04-02T09:42:59.741056Z",
     "start_time": "2020-04-02T09:42:54.832340Z"
    },
    "hidden": true
   },
   "outputs": [],
   "source": [
    "scv.tl.velocity(NCO_adata_diff)\n",
    "scv.tl.velocity_graph(NCO_adata_diff)\n",
    "scv.pl.velocity_embedding_stream(NCO_adata_diff, color='annot_test')"
   ]
  },
  {
   "cell_type": "markdown",
   "metadata": {
    "hidden": true
   },
   "source": [
    "## Dyn velo NCO full"
   ]
  },
  {
   "cell_type": "code",
   "execution_count": null,
   "metadata": {
    "ExecuteTime": {
     "end_time": "2020-04-02T09:53:30.688754Z",
     "start_time": "2020-04-02T09:53:04.156252Z"
    },
    "hidden": true
   },
   "outputs": [],
   "source": [
    "# NCO\n",
    "NCO_adata = cdata[cdata.obs['seuratdemux']=='NCO']\n",
    "scv.pp.filter_and_normalize(NCO_adata, min_shared_counts=20, min_shared_cells=20)\n",
    "sc.pp.pca(NCO_adata)\n",
    "sc.pp.neighbors(NCO_adata)\n",
    "sc.tl.umap(NCO_adata)\n",
    "\n",
    "tab = pd.read_excel('regev-colon-mmc2.xlsx')\n",
    "ct_annotate(NCO_adata, tab, show=False)"
   ]
  },
  {
   "cell_type": "code",
   "execution_count": null,
   "metadata": {
    "ExecuteTime": {
     "end_time": "2020-04-02T09:53:39.536039Z",
     "start_time": "2020-04-02T09:53:30.806209Z"
    },
    "hidden": true
   },
   "outputs": [],
   "source": [
    "scv.tl.velocity(NCO_adata, vkey='stoch_velo', mode='stochastic')\n",
    "scv.tl.velocity_graph(NCO_adata, vkey='stoch_velo')\n",
    "\n",
    "scv.pl.velocity_embedding_stream(NCO_adata, color='annot_test', vkey='stoch_velo')"
   ]
  },
  {
   "cell_type": "code",
   "execution_count": null,
   "metadata": {
    "ExecuteTime": {
     "end_time": "2020-04-02T10:03:02.831738Z",
     "start_time": "2020-04-02T09:54:56.359426Z"
    },
    "hidden": true
   },
   "outputs": [],
   "source": [
    "scv.tl.recover_dynamics(NCO_adata, var_names='velocity_genes')"
   ]
  },
  {
   "cell_type": "code",
   "execution_count": null,
   "metadata": {
    "ExecuteTime": {
     "end_time": "2020-04-02T10:03:16.413868Z",
     "start_time": "2020-04-02T10:03:03.067111Z"
    },
    "hidden": true
   },
   "outputs": [],
   "source": [
    "scv.tl.velocity(NCO_adata, vkey='dyn_velo', mode='dynamical')\n",
    "scv.tl.velocity_graph(NCO_adata, vkey='dyn_velo')\n",
    "\n",
    "scv.pl.velocity_embedding_stream(NCO_adata, color='annot_test', vkey='dyn_velo')"
   ]
  },
  {
   "cell_type": "code",
   "execution_count": null,
   "metadata": {
    "hidden": true
   },
   "outputs": [],
   "source": []
  }
 ],
 "metadata": {
  "hide_input": false,
  "kernelspec": {
   "display_name": "Python 3",
   "language": "python",
   "name": "python3"
  },
  "language_info": {
   "codemirror_mode": {
    "name": "ipython",
    "version": 3
   },
   "file_extension": ".py",
   "mimetype": "text/x-python",
   "name": "python",
   "nbconvert_exporter": "python",
   "pygments_lexer": "ipython3",
   "version": "3.6.6"
  },
  "varInspector": {
   "cols": {
    "lenName": 16,
    "lenType": 16,
    "lenVar": 40
   },
   "kernels_config": {
    "python": {
     "delete_cmd_postfix": "",
     "delete_cmd_prefix": "del ",
     "library": "var_list.py",
     "varRefreshCmd": "print(var_dic_list())"
    },
    "r": {
     "delete_cmd_postfix": ") ",
     "delete_cmd_prefix": "rm(",
     "library": "var_list.r",
     "varRefreshCmd": "cat(var_dic_list()) "
    }
   },
   "types_to_exclude": [
    "module",
    "function",
    "builtin_function_or_method",
    "instance",
    "_Feature"
   ],
   "window_display": false
  }
 },
 "nbformat": 4,
 "nbformat_minor": 4
}

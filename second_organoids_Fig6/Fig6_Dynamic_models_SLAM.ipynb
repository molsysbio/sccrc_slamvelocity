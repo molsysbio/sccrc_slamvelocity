{
 "cells": [
  {
   "cell_type": "markdown",
   "metadata": {},
   "source": [
    "# Contents\n",
    "\n",
    "Make sure to run `Prepare_data.ipynb` beforehand, as this produces the required intermediate .h5 objects `data_path+'by_donors/processed/SLAMv2_'+donor+'_processed'+ccreg+'.h5'`.\n",
    "\n",
    "In this script, the full analysis pipeline is applied to selected perturbations and samples of interest. Ultimately, pdfs and excel tables with data are produced for multiple runs of scvelo models, containing:\n",
    "- dynamical / steady state models of SLAM or Classical RNA velocity, plotted on UMAPs\n",
    "- UMAPs with informative colors (signatures, cell cycle phase, etc)\n",
    "- phase plots of known signature genes and of the top likelihood genes\n",
    "- time series plots and heatmaps of signatures against recovered latent time from the dynamical SLAM velocity model."
   ]
  },
  {
   "cell_type": "markdown",
   "metadata": {},
   "source": [
    "# Imports and Settings (run these first!)"
   ]
  },
  {
   "cell_type": "code",
   "execution_count": 14,
   "metadata": {
    "ExecuteTime": {
     "end_time": "2021-01-27T10:11:17.426599Z",
     "start_time": "2021-01-27T10:11:15.763887Z"
    }
   },
   "outputs": [
    {
     "data": {
      "text/html": [
       "<style>.container { width:97% !important; }</style>"
      ],
      "text/plain": [
       "<IPython.core.display.HTML object>"
      ]
     },
     "metadata": {},
     "output_type": "display_data"
    },
    {
     "name": "stdout",
     "output_type": "stream",
     "text": [
      "Running scvelo 0.1.16.dev32+c00a55e.dirty (python 3.6.6) on 2021-01-27 11:11.\n"
     ]
    }
   ],
   "source": [
    "import scvelo as scv\n",
    "from IPython.display import clear_output\n",
    "import matplotlib.backends.backend_pdf\n",
    "from tqdm import tnrange, tqdm_notebook\n",
    "import scanpy as sc\n",
    "import matplotlib.pyplot as pl\n",
    "import pandas as pd\n",
    "import numpy as np\n",
    "from IPython.core.display import display, HTML\n",
    "display(HTML(\"<style>.container { width:97% !important; }</style>\"))\n",
    "%matplotlib inline\n",
    "\n",
    "\n",
    "scv.logging.print_version()\n",
    "scv.settings.set_figure_params(\n",
    "    'scvelo', dpi_save=100, dpi=80, transparent=True)\n",
    "scv.settings.verbosity = 1\n",
    "\n",
    "figure_path='G:/data/figures/split_dynamics/'\n",
    "scv.settings.figdir=figure_path\n",
    "scv.settings.plot_prefix=''"
   ]
  },
  {
   "cell_type": "code",
   "execution_count": 15,
   "metadata": {
    "ExecuteTime": {
     "end_time": "2021-01-27T10:11:17.457501Z",
     "start_time": "2021-01-27T10:11:17.443971Z"
    }
   },
   "outputs": [],
   "source": [
    "# paths and names, change accordingly\n",
    "data_path='G:/data/scSLAMseq/revision/'\n",
    "signatures_path='G:/data/scrnaseq_signature_collection/'\n",
    "figure_path='G:/data/figures/'\n",
    "donors=['B2-040', 'C2-019', 'OT227', 'OT302', 'P009T', 'P013T']"
   ]
  },
  {
   "cell_type": "markdown",
   "metadata": {},
   "source": [
    "# Fit Selected Samples"
   ]
  },
  {
   "cell_type": "code",
   "execution_count": 16,
   "metadata": {
    "ExecuteTime": {
     "end_time": "2021-01-27T10:11:31.306386Z",
     "start_time": "2021-01-27T10:11:21.860397Z"
    },
    "code_folding": [
     0
    ],
    "hide_input": false
   },
   "outputs": [],
   "source": [
    "# Preload signatures, see preprocessing ipynb for details.\n",
    "\n",
    "# Stem sig\n",
    "tab=pd.read_excel(signatures_path+'cell_type_markers/CRC-related_stem_cell_signatures.xlsx', header=0)\n",
    "tab = tab.drop(0)\n",
    "sigs = {'Stem_'+x: list(tab[x][~pd.isna(tab[x])].values) for x in ['Lgr5_ISC-Munoz', 'Lgr5_ISC-Merlos']}\n",
    "\n",
    "# Flo sig\n",
    "# tab=pd.read_excel(signatures_path+'cell_type_markers/colonoid_cancer_uhlitz_markers.xlsx', header=1)\n",
    "tab=pd.read_excel(signatures_path+'cell_type_markers/colonoid_cancer_uhlitz_markers_revised.xlsx', header=1, sheet_name=2)\n",
    "flo_sigs={x: list(tab[tab['cell_type_epi']==x].gene.values) for x in ['Stem', 'Enterocytes 1', 'TC1', 'TC4', 'Goblet', 'Stem/TA 1']}\n",
    "\n",
    "single_genes = ['LGR5', 'OLFM4', 'TFF3', 'FABP1', 'EPHB2', 'AXIN1', 'AXIN2', 'EGR1']\n",
    "\n",
    "# YAP target from Markus Morkel, Liberali Lab\n",
    "yap_targets = ['CTGF', 'GGTA1', 'WWC2', 'ANXA8', 'CLU', 'CXCL16', 'IL33', 'LY6A', 'LY6C1', \n",
    "               'MSLN', 'TNFRSF12A', 'CTGF', 'GGTA1', 'WWC2', 'ANXA5', 'TACSTD2', 'ANXA10', 'EREG', 'IL33', 'ANXA1', 'ANXA3']\n",
    "\n",
    "# Hallmark apoptosis for rescoring\n",
    "tab=pd.read_csv(signatures_path+'msigdb/hallmark/h.all.v6.2.symbols.gmt', sep='\\t', header=None, index_col=0).T['HALLMARK_APOPTOSIS']\n",
    "hallmark_apo = tab[~pd.isna(tab)].values[1:]"
   ]
  },
  {
   "cell_type": "code",
   "execution_count": 23,
   "metadata": {
    "ExecuteTime": {
     "end_time": "2021-01-27T11:18:30.379891Z",
     "start_time": "2021-01-27T11:18:30.333126Z"
    },
    "code_folding": []
   },
   "outputs": [],
   "source": [
    "# Define dynamic analysis pipeline\n",
    "def dynamic_analysis(donor, names, pert_combis, do_ccreg, mode, sigs, flo_sigs, \n",
    "                     hallmark_apo, single_genes, yap_targets, export_path, save_model=False):\n",
    "    from scvelo.plotting.utils import default_size\n",
    "    from matplotlib.backends.backend_pdf import PdfPages\n",
    "\n",
    "    high_shared_vars = None\n",
    "    top_dmso_genes = None\n",
    "\n",
    "    for perts, name in zip(pert_combis, names):\n",
    "        # reg cell cycle selection\n",
    "        ccreg='_ccreg' if do_ccreg else ''\n",
    "\n",
    "        # name format\n",
    "        print(name)\n",
    "        name = name+'_'+donor +ccreg\n",
    "\n",
    "        # read preprocessed data\n",
    "        adata=sc.read(data_path+'by_donors/processed/SLAMv2_'+donor+'_processed'+ccreg+'.h5')\n",
    "        if 'X_diffmap' in adata.obsm.keys(): del adata.obsm['X_diffmap']\n",
    "\n",
    "        # rescore hallmark apoptosis\n",
    "        sc.tl.score_genes(adata, gene_list=hallmark_apo, score_name='HALLMARK_APOPTOSIS')\n",
    "        \n",
    "        # save embedding of all perts for plotting canvas (this is a hack)\n",
    "        from scipy.sparse import csr_matrix\n",
    "        xdata = sc.AnnData(X=csr_matrix(np.zeros(adata.X.shape)))\n",
    "        xdata.obsm['X_umap'] = adata.obsm['X_umap']\n",
    "        \n",
    "        # subset to selected perts\n",
    "        adata = adata[np.isin(adata.obs.perturbation, perts)].copy()\n",
    "        scv.pp.neighbors(adata)\n",
    "        scv.pp.moments(adata, n_pcs=30, n_neighbors=30)\n",
    "\n",
    "        # real ss velocity\n",
    "        scv.tl.velocity(adata, vkey='recomputed_real_velocity')\n",
    "        scv.tl.velocity_graph(adata, vkey='recomputed_real_velocity')\n",
    "        scv.tl.velocity_embedding(adata, basis='umap', vkey='recomputed_real_velocity')\n",
    "\n",
    "        # select SLAM\n",
    "        if mode == 'SLAM':\n",
    "            adata.layers['unspliced']=adata.layers['new']\n",
    "            adata.layers['spliced']=adata.layers['old']\n",
    "            scv.pp.moments(adata, n_pcs=30, n_neighbors=30)\n",
    "        for x in ['new', 'old', 'real_ambiguous', 'real_spliced', 'real_unspliced']: del adata.layers[x]\n",
    "\n",
    "        # SLAM ss velocity\n",
    "        scv.tl.velocity(adata, vkey='recomputed_SLAM_velocity')\n",
    "        scv.tl.velocity_graph(adata, vkey='recomputed_SLAM_velocity')\n",
    "        scv.tl.velocity_embedding(adata, basis='umap', vkey='recomputed_SLAM_velocity')\n",
    "\n",
    "        # filtering and select genes to fit\n",
    "        cdata=sc.AnnData(adata.X, var=adata.var[[]], layers={'unspliced': adata.layers['unspliced'],'spliced': adata.layers['spliced']})\n",
    "        scv.pp.filter_genes(cdata, min_shared_counts=20)\n",
    "        # Why does this not work???\n",
    "        try:\n",
    "            scv.pp.filter_genes_dispersion(cdata, n_top_genes=2000)\n",
    "        except:\n",
    "            try:\n",
    "                scv.pp.filter_genes_dispersion(cdata, n_top_genes=1000)\n",
    "                print('Using 1000 HVgenes instead of 2000')\n",
    "            except:\n",
    "                try:\n",
    "                    scv.pp.filter_genes_dispersion(cdata, n_top_genes=750)\n",
    "                    print('Using 750 HVgenes instead of 2000')\n",
    "                except:\n",
    "                    scv.pp.filter_genes_dispersion(cdata, n_top_genes=300)\n",
    "                    print('Using 300 HVgenes instead of 2000')\n",
    "                \n",
    "            # print(donor, ' filtering key error. Prolly not enough cells(?)')\n",
    "            # continue\n",
    "        high_shared_vars=cdata.var_names.values \n",
    "        del cdata\n",
    "        print('High shared vars: ', len(high_shared_vars))\n",
    "\n",
    "        # dynamical model and latent time computation\n",
    "        scv.tl.recover_dynamics(adata, var_names=high_shared_vars)\n",
    "        scv.tl.velocity(adata, mode='dynamical')\n",
    "        scv.tl.velocity_graph(adata)\n",
    "        scv.tl.velocity_embedding(adata, basis='umap')\n",
    "        scv.tl.recover_latent_time(adata)\n",
    "        \n",
    "        # Produce pdfs and excels:\n",
    "        writer = pd.ExcelWriter(data_path+'tables/'+name+'_tables.xlsx', engine='xlsxwriter')\n",
    "        with PdfPages(figure_path+'pdfs/'+name+'_dynamics.pdf') as pdf:\n",
    "            # latent time series of signatures\n",
    "            from scipy.stats import zscore\n",
    "            obs = ['Stem', 'Goblet', 'MAPK_progeny', 'YAP_targets', 'Stem_Lgr5_ISC-Merlos', 'TC1', 'TC4', 'percent_ribosomal']\n",
    "            colors = ['red', 'blue', 'green', 'black', 'grey', 'orange', 'yellow', 'cyan']\n",
    "            ax=None\n",
    "            for o, c in zip(obs,colors):\n",
    "                ax=scv.pl.scatter(adata, x=adata.obs.latent_time, y=zscore(adata.obs[o]), alpha=0.5, figsize=[10,5], size=50,\n",
    "                                  color=c, n_convolve=50, show=False, xlabel='latent time', ylabel='zscore', ax=ax)\n",
    "            ax.legend(obs)\n",
    "            pdf.savefig()  # saves the current figure into a pdf page\n",
    "            pl.close()\n",
    "\n",
    "            # heatmap time series\n",
    "            time = adata.obs.latent_time\n",
    "            Y=adata.obs[obs].iloc[np.argsort(time)]\n",
    "            #Y/=np.max(np.abs(Y), axis=0)\n",
    "            Y=zscore(Y)\n",
    "            df = pd.DataFrame(Y, columns=obs)\n",
    "            if True:\n",
    "                n_convolve=50\n",
    "                weights = np.ones(n_convolve) / n_convolve\n",
    "                for o in obs:\n",
    "                    try:\n",
    "                        df[o] = np.convolve(df[o].values, weights, mode=\"same\")\n",
    "                    except:\n",
    "                        pass  # e.g. all-zero counts or nans cannot be convolved\n",
    "            from seaborn import clustermap\n",
    "            cm = clustermap(df.T, row_cluster=True, col_cluster=False, vmin=-2, vmax=2, cmap='bwr')#, **kwargs\n",
    "            cm.ax_heatmap.set_xlabel('latent time');\n",
    "            cm.ax_heatmap.set_title(donor+' heatmap');\n",
    "            cm.ax_heatmap.set_xticks([]);\n",
    "            pdf.savefig()  # saves the current figure into a pdf page\n",
    "            pl.close()\n",
    "\n",
    "            # export Sigs vs time\n",
    "            dat=adata.obs[['latent_time']+obs].sort_values('latent_time')\n",
    "            dat.to_excel(writer, sheet_name='signatures_vs_latenttime')\n",
    "\n",
    "            ### UMAPs Signatures etc ###\n",
    "            size = 4 * default_size(adata)\n",
    "            alpha = 0.4\n",
    "            ncols=4\n",
    "            show=False\n",
    "            umap_kwargs = {'size':size, 'alpha':alpha, 'ncols':ncols, 'show': show}\n",
    "\n",
    "            # umaps signatures\n",
    "            color = ['Stem', 'Goblet', 'MAPK_progeny', 'YAP_targets', 'Stem_Lgr5_ISC-Merlos', 'TC1', 'TC2', 'TC3', 'TC4', \n",
    "                     'percent_ribosomal', 'latent_time', 'WNT_progeny', 'HALLMARK_APOPTOSIS', 'HALLMARK_DNA_REPAIR', 'phase']\n",
    "            scv.pl.scatter(adata, color=color, **umap_kwargs)\n",
    "            pdf.savefig()  # saves the current figure into a pdf page\n",
    "            pl.close()\n",
    "\n",
    "            # UMAP genes\n",
    "            single_genes = np.array(['LGR5', 'OLFM4', 'TFF3', 'FABP1', 'EPHB2', 'AXIN1', 'AXIN2', 'EGR1'])\n",
    "            single_genes=single_genes[np.isin(single_genes, adata.var_names)]\n",
    "            scv.pl.scatter(adata, color=single_genes, **umap_kwargs)\n",
    "            pdf.savefig()  # saves the current figure into a pdf page\n",
    "            pl.close()\n",
    "\n",
    "            scv.pl.scatter(adata, color=single_genes, layer='Ms', **umap_kwargs)\n",
    "            pdf.savefig()  # saves the current figure into a pdf page\n",
    "            pl.close()\n",
    "\n",
    "            scv.pl.scatter(adata, color=single_genes, layer='Mu', **umap_kwargs)\n",
    "            pdf.savefig()  # saves the current figure into a pdf page\n",
    "            pl.close()\n",
    "\n",
    "            ### Dynamics / Velocity plots\n",
    "\n",
    "            # dynamical velocity plot\n",
    "            ax = scv.pl.scatter(xdata, alpha=0, show=False)\n",
    "            from scvelo.plotting.utils import default_size\n",
    "            scv.pl.velocity_embedding_grid(adata, color='latent_time', arrow_length=5, arrow_size=5, density=0.4, arrow_color='black', show=False, title=donor+' dynamical velocity', ax=ax)\n",
    "            pdf.savefig()  # saves the current figure into a pdf page\n",
    "            pl.close()\n",
    "            \n",
    "            # steady state SLAM velocity plot\n",
    "            scv.pl.velocity_embedding_grid(adata, vkey='SLAM_velocity', color='latent_time', arrow_length=5, arrow_size=5, density=0.4, \n",
    "                                           arrow_color='black', show=False, title=donor+' steady state velocity')\n",
    "            pdf.savefig()  # saves the current figure into a pdf page\n",
    "            pl.close()\n",
    "\n",
    "            # steady state SLAM velocity plot recomputed\n",
    "            scv.pl.velocity_embedding_grid(adata, vkey='recomputed_SLAM_velocity', color='latent_time', arrow_length=5, arrow_size=5, density=0.4, \n",
    "                                           arrow_color='black', show=False, title=donor+' steady state velocity recomputed')\n",
    "            pdf.savefig()  # saves the current figure into a pdf page\n",
    "            pl.close()\n",
    "\n",
    "            # steady state classical/real RNA velocity plot\n",
    "            scv.pl.velocity_embedding_grid(adata, vkey='real_velocity', color='latent_time', arrow_length=5, arrow_size=5, density=0.4, \n",
    "                                           arrow_color='black', show=False, title=donor+' classical steady state velocity')\n",
    "            pdf.savefig()  # saves the current figure into a pdf page\n",
    "            pl.close()\n",
    "\n",
    "            # steady state classical/real RNA velocity plot recomputed\n",
    "            scv.pl.velocity_embedding_grid(adata, vkey='recomputed_real_velocity', color='latent_time', arrow_length=5, arrow_size=5, density=0.4, \n",
    "                                           arrow_color='black', show=False, title=donor+' classical steady state velocity recomputed')\n",
    "            pdf.savefig()  # saves the current figure into a pdf page\n",
    "            pl.close()\n",
    "\n",
    "            ### PHASE PLOTS ###\n",
    "\n",
    "            # overall top likelihood genes\n",
    "            topgenes = list(adata.var.fit_likelihood[high_shared_vars].sort_values()[-20:].index)\n",
    "            scv.pl.scatter(adata, basis=topgenes, color='latent_time', ncols=4, show=False, title=[x+' top'+str(20-i) for i,x in enumerate(topgenes)])\n",
    "            pdf.savefig()  # saves the current figure into a pdf page\n",
    "            pl.close()\n",
    "\n",
    "            # save top 20 DMSO likelihood genes. Plot these for the other conditions.\n",
    "            if len(perts)==1 and perts[0]=='DMSO':\n",
    "                top_dmso_genes = topgenes\n",
    "            else:\n",
    "                scv.pl.scatter(adata, basis=top_dmso_genes, color='latent_time', ncols=4, show=False, title=[x+' top'+str(20-i)+' DMSO gene' for i,x in enumerate(top_dmso_genes)])\n",
    "                pdf.savefig()  # saves the current figure into a pdf page\n",
    "                pl.close()\n",
    "\n",
    "            # export gene fit likelihoods of highest quantile\n",
    "            genes_likelihoods=adata.var[~pd.isna(adata.var['fit_likelihood'])]['fit_likelihood'].sort_values()\n",
    "            top_genes_likelihoods=genes_likelihoods[genes_likelihoods>np.percentile(genes_likelihoods,75)]\n",
    "            top_genes_likelihoods.to_excel(writer, sheet_name='top_quantile_genes_likelihoods')\n",
    "\n",
    "            # calculate gene overlaps with sigs\n",
    "            genes = top_genes_likelihoods #genes_likelihoods\n",
    "            #print('Selected fitted genes', '\\t', len(genes))\n",
    "            dat = []\n",
    "            index = []\n",
    "            intersets = []\n",
    "            signatures = {**sigs, **flo_sigs, **{'yap_targets':yap_targets}, **{'single_genes': single_genes}}\n",
    "            for k in signatures.keys():\n",
    "                K = np.sum(np.isin(genes.index, signatures[k]))\n",
    "                dat.append([K, len(signatures[k])])\n",
    "                index.append(k)\n",
    "                intersets.append(genes.index.values[np.isin(genes.index, signatures[k])])\n",
    "            tab=pd.DataFrame(data=dat, index=index, columns=['overlap', 'total_in_sig'])\n",
    "            tab['percent_coverage']=np.round(tab.overlap/tab.total_in_sig*100,2)\n",
    "            tab['intersecting_genes']=intersets\n",
    "            tab.to_excel(writer, sheet_name='sigantures_overlap_statistics')\n",
    "\n",
    "            subtab=tab.loc[['Stem_Lgr5_ISC-Merlos', 'Stem_Lgr5_ISC-Munoz', 'Stem', 'Stem/TA 1', 'Enterocytes 1', 'Goblet', 'TC1', 'TC4', 'yap_targets', 'single_genes']]\n",
    "            for k in subtab.index:\n",
    "                if tab.loc[k]['overlap']>0:\n",
    "                    genes_plot = subtab.loc[k]['intersecting_genes']\n",
    "                    for i in range(int(np.ceil(len(genes_plot) / 20))):\n",
    "                        mi=i*20\n",
    "                        ma=np.min([i*20+20, len(genes_plot)])\n",
    "                        try:\n",
    "                            scv.pl.scatter(adata, basis=genes_plot[mi:ma], color='latent_time', ncols=4, show=False, title=[x+' '+k for x in genes_plot])\n",
    "                            pdf.savefig()  # saves the current figure into a pdf page\n",
    "                            pl.close()\n",
    "                        except:\n",
    "                            pass\n",
    "        writer.save()\n",
    "        if save_model:\n",
    "            adata.write(data_path+name+'_savemodel.h5')\n",
    "\n",
    "from pathlib import Path\n",
    "Path(data_path+'tables/').mkdir(parents=True, exist_ok=True)\n",
    "Path(figure_path+'pdfs/').mkdir(parents=True, exist_ok=True)"
   ]
  },
  {
   "cell_type": "markdown",
   "metadata": {
    "heading_collapsed": true
   },
   "source": [
    "## P013T: EGFRi/DMSO"
   ]
  },
  {
   "cell_type": "markdown",
   "metadata": {
    "hidden": true
   },
   "source": [
    "Dann können wir jetzt zu dem nächsten Schritt. P013T DMSO alleine, EGFRi alleine und beide conditions zusammen. Diese trajectories mit den joint velocities vergleichen. Auch Augenmerk darauf, ob sich die bisherigen Widersprüche zwischen dynamical, steady state und classical steady state dann immer noch zeigen."
   ]
  },
  {
   "cell_type": "code",
   "execution_count": 7,
   "metadata": {
    "ExecuteTime": {
     "end_time": "2021-01-26T17:26:42.717813Z",
     "start_time": "2021-01-26T17:05:12.552454Z"
    },
    "code_folding": [],
    "hidden": true
   },
   "outputs": [
    {
     "name": "stdout",
     "output_type": "stream",
     "text": [
      "DMSO_only\n",
      "WARNING: genes are not in var_names and ignored: ['GPX1', 'LPPR4', 'SC5DL']\n",
      "Using 1000 HVgenes instead of 2000\n",
      "High shared vars:  1000\n",
      "EGFR_only\n",
      "WARNING: genes are not in var_names and ignored: ['GPX1', 'LPPR4', 'SC5DL']\n",
      "Using 1000 HVgenes instead of 2000\n",
      "High shared vars:  1000\n",
      "DMSOandEGFR\n",
      "WARNING: genes are not in var_names and ignored: ['GPX1', 'LPPR4', 'SC5DL']\n",
      "High shared vars:  2000\n",
      "WARNING: No root cells detected. Consider specifying root cells to improve latent time prediction.\n"
     ]
    }
   ],
   "source": [
    "# P013T compare DMSO, EGFR and DMSO+EGFR fits.\n",
    "# Note that here we safe the model fits for later plots directly in the data path\n",
    "\n",
    "from scvelo.plotting.utils import default_size\n",
    "from matplotlib.backends.backend_pdf import PdfPages\n",
    "export_path='G:/data/scSLAMseq/revision/exports/26_01_repair_umap/'\n",
    "\n",
    "mode='SLAM'\n",
    "do_ccreg=True\n",
    "pert_combis = [['DMSO'], ['EGFR'], ['DMSO', 'EGFR']]\n",
    "names = ['DMSO_only', 'EGFR_only', 'DMSOandEGFR']\n",
    "donor= 'P013T'\n",
    "\n",
    "dynamic_analysis(donor, names, pert_combis, do_ccreg, mode, sigs, flo_sigs, hallmark_apo, single_genes, yap_targets, export_path, save_model=True)"
   ]
  },
  {
   "cell_type": "markdown",
   "metadata": {
    "heading_collapsed": true
   },
   "source": [
    "## OT227: MEKi/DMSO"
   ]
  },
  {
   "cell_type": "code",
   "execution_count": 8,
   "metadata": {
    "ExecuteTime": {
     "end_time": "2021-01-26T17:56:51.534231Z",
     "start_time": "2021-01-26T17:44:31.320202Z"
    },
    "hidden": true
   },
   "outputs": [
    {
     "name": "stdout",
     "output_type": "stream",
     "text": [
      "DMSO_only\n",
      "WARNING: genes are not in var_names and ignored: ['GPX1', 'LPPR4', 'SC5DL']\n",
      "High shared vars:  1388\n",
      "MEK_only\n",
      "WARNING: genes are not in var_names and ignored: ['GPX1', 'LPPR4', 'SC5DL']\n",
      "Using 1000 HVgenes instead of 2000\n",
      "High shared vars:  1000\n",
      "WARNING: No root cells detected. Consider specifying root cells to improve latent time prediction.\n",
      "DMSOandMEK\n",
      "WARNING: genes are not in var_names and ignored: ['GPX1', 'LPPR4', 'SC5DL']\n",
      "Using 1000 HVgenes instead of 2000\n",
      "High shared vars:  1000\n"
     ]
    }
   ],
   "source": [
    "from scvelo.plotting.utils import default_size\n",
    "from matplotlib.backends.backend_pdf import PdfPages\n",
    "export_path='G:/data/scSLAMseq/revision/exports/26_01_repair_umap/'\n",
    "\n",
    "mode='SLAM'\n",
    "do_ccreg=True\n",
    "pert_combis = [['DMSO'], ['MEK'], ['DMSO', 'MEK']]\n",
    "names = ['DMSO_only', 'MEK_only', 'DMSOandMEK']\n",
    "donor= 'OT227'\n",
    "\n",
    "dynamic_analysis(donor, names, pert_combis, do_ccreg, mode, sigs, flo_sigs, hallmark_apo, single_genes, yap_targets, export_path)"
   ]
  },
  {
   "cell_type": "markdown",
   "metadata": {
    "heading_collapsed": true
   },
   "source": [
    "## OT302: MEKi/DMSO"
   ]
  },
  {
   "cell_type": "code",
   "execution_count": 9,
   "metadata": {
    "ExecuteTime": {
     "end_time": "2021-01-26T18:10:23.319181Z",
     "start_time": "2021-01-26T17:57:45.742652Z"
    },
    "hidden": true
   },
   "outputs": [
    {
     "name": "stdout",
     "output_type": "stream",
     "text": [
      "DMSO_only\n",
      "WARNING: genes are not in var_names and ignored: ['GPX1', 'LPPR4', 'SC5DL']\n",
      "Using 750 HVgenes instead of 2000\n",
      "High shared vars:  750\n",
      "WARNING: No root cells detected. Consider specifying root cells to improve latent time prediction.\n",
      "MEK_only\n",
      "WARNING: genes are not in var_names and ignored: ['GPX1', 'LPPR4', 'SC5DL']\n",
      "Using 1000 HVgenes instead of 2000\n",
      "High shared vars:  1000\n",
      "DMSOandMEK\n",
      "WARNING: genes are not in var_names and ignored: ['GPX1', 'LPPR4', 'SC5DL']\n",
      "Using 1000 HVgenes instead of 2000\n",
      "High shared vars:  1000\n"
     ]
    }
   ],
   "source": [
    "export_path='G:/data/scSLAMseq/revision/exports/26_01_repair_umap/'\n",
    "mode='SLAM'\n",
    "do_ccreg=True\n",
    "pert_combis = [['DMSO'], ['MEK'], ['DMSO', 'MEK']]\n",
    "names = ['DMSO_only', 'MEK_only', 'DMSOandMEK']\n",
    "donor= 'OT302'\n",
    "\n",
    "dynamic_analysis(donor, names, pert_combis, do_ccreg, mode, sigs, flo_sigs, hallmark_apo, single_genes, yap_targets, export_path)"
   ]
  },
  {
   "cell_type": "markdown",
   "metadata": {
    "heading_collapsed": true
   },
   "source": [
    "## P009T: EGFRi/DMSO"
   ]
  },
  {
   "cell_type": "code",
   "execution_count": 22,
   "metadata": {
    "ExecuteTime": {
     "end_time": "2021-01-27T10:42:58.213502Z",
     "start_time": "2021-01-27T10:35:10.066296Z"
    },
    "hidden": true
   },
   "outputs": [
    {
     "name": "stdout",
     "output_type": "stream",
     "text": [
      "DMSO_only\n",
      "WARNING: genes are not in var_names and ignored: ['GPX1', 'LPPR4', 'SC5DL']\n",
      "High shared vars:  1502\n",
      "WARNING: No root cells detected. Consider specifying root cells to improve latent time prediction.\n"
     ]
    }
   ],
   "source": [
    "export_path='G:/data/scSLAMseq/revision/exports/26_01_repair_umap/'\n",
    "mode='SLAM'\n",
    "do_ccreg=True\n",
    "pert_combis = [['DMSO'], ['EGFR'], ['DMSO', 'EGFR']]\n",
    "names = ['DMSO_only', 'EGFR_only', 'DMSOandEGFR']\n",
    "donor= 'P009T'\n",
    "\n",
    "dynamic_analysis(donor, names, pert_combis, do_ccreg, mode, sigs, flo_sigs, hallmark_apo, single_genes, yap_targets, export_path)"
   ]
  },
  {
   "cell_type": "markdown",
   "metadata": {
    "heading_collapsed": true
   },
   "source": [
    "## B2-040: EGFRi+BRAFi/DMSO"
   ]
  },
  {
   "cell_type": "code",
   "execution_count": 11,
   "metadata": {
    "ExecuteTime": {
     "end_time": "2021-01-26T18:32:48.717846Z",
     "start_time": "2021-01-26T18:20:37.614508Z"
    },
    "hidden": true
   },
   "outputs": [
    {
     "name": "stdout",
     "output_type": "stream",
     "text": [
      "DMSO_only\n",
      "WARNING: genes are not in var_names and ignored: ['GPX1', 'LPPR4', 'SC5DL']\n",
      "High shared vars:  1939\n",
      "WARNING: No root cells detected. Consider specifying root cells to improve latent time prediction.\n",
      "EGFR_BRAF_only\n",
      "WARNING: genes are not in var_names and ignored: ['GPX1', 'LPPR4', 'SC5DL']\n",
      "High shared vars:  1700\n",
      "DMSOandEGFR_BRAF\n",
      "WARNING: genes are not in var_names and ignored: ['GPX1', 'LPPR4', 'SC5DL']\n",
      "Using 1000 HVgenes instead of 2000\n",
      "High shared vars:  1000\n"
     ]
    }
   ],
   "source": [
    "export_path='G:/data/scSLAMseq/revision/exports/26_01_repair_umap/'\n",
    "mode='SLAM'\n",
    "do_ccreg=True\n",
    "pert_combis = [['DMSO'], ['EGFR + BRAF'], ['DMSO', 'EGFR + BRAF']]\n",
    "names = ['DMSO_only', 'EGFR_BRAF_only', 'DMSOandEGFR_BRAF']\n",
    "donor= 'B2-040'\n",
    "\n",
    "dynamic_analysis(donor, names, pert_combis, do_ccreg, mode, sigs, flo_sigs, hallmark_apo, single_genes, yap_targets, export_path)"
   ]
  },
  {
   "cell_type": "markdown",
   "metadata": {
    "heading_collapsed": true
   },
   "source": [
    "## C2-019: Does not show response to inhibition"
   ]
  },
  {
   "cell_type": "markdown",
   "metadata": {
    "hidden": true
   },
   "source": [
    "Hence, it is skipped. If one wants to compute it anyway, just adapt existing snippets."
   ]
  },
  {
   "cell_type": "markdown",
   "metadata": {
    "heading_collapsed": true
   },
   "source": [
    "## Add additional Umaps with metadata"
   ]
  },
  {
   "cell_type": "code",
   "execution_count": 11,
   "metadata": {
    "ExecuteTime": {
     "end_time": "2021-01-27T09:15:56.451382Z",
     "start_time": "2021-01-27T09:15:56.434308Z"
    },
    "hidden": true
   },
   "outputs": [],
   "source": [
    "from scvelo.plotting.utils import default_size\n",
    "from matplotlib.backends.backend_pdf import PdfPages\n",
    "mode='SLAM'\n",
    "do_ccreg=True\n",
    "# reg cell cycle selection\n",
    "ccreg='_ccreg' if do_ccreg else ''\n",
    "export_path='G:/data/scSLAMseq/revision/exports/07_01_investigation_dynamics/'\n",
    "pert_colors=['#fff989', '#858585', '#c31f26', '#ff7f26', '#af3cb1', '#00a8f3']\n",
    "\n",
    "def plot_umap(donor, names, pert_combis):\n",
    "    # read\n",
    "    adata=sc.read(data_path+'by_donors/processed/SLAMv2_'+donor+'_processed'+ccreg+'.h5')\n",
    "    adata.uns['perturbation_colors']=pert_colors\n",
    "    if 'X_diffmap' in adata.obsm.keys(): del adata.obsm['X_diffmap']\n",
    "    with PdfPages(export_path+donor+'_extra_umaps.pdf') as pdf:\n",
    "        for perts, name in zip(pert_combis, names):\n",
    "            # subset to selected perts\n",
    "            bdata = adata[np.isin(adata.obs.perturbation, perts)].copy()\n",
    "\n",
    "            size = 4 * default_size(bdata)\n",
    "            alpha = 0.4\n",
    "            ncols=4\n",
    "            show=False\n",
    "            umap_kwargs = {'size':size, 'alpha':alpha, 'ncols':ncols, 'show': show}\n",
    "\n",
    "            # umaps signatures phase\n",
    "            scv.pl.scatter(bdata, color='phase', title=name+' cell cycle phase', **umap_kwargs)\n",
    "            pdf.savefig()  # saves the current figure into a pdf page\n",
    "            pl.close()\n",
    "\n",
    "            if len(perts)==2:\n",
    "                scv.pl.scatter(bdata, color='perturbation', title=name+' perturbations', **umap_kwargs)\n",
    "                pdf.savefig()  # saves the current figure into a pdf page\n",
    "                pl.close()"
   ]
  },
  {
   "cell_type": "code",
   "execution_count": 13,
   "metadata": {
    "ExecuteTime": {
     "end_time": "2021-01-27T09:19:01.822286Z",
     "start_time": "2021-01-27T09:17:48.066478Z"
    },
    "hidden": true
   },
   "outputs": [],
   "source": [
    "pert_combis = [['DMSO'], ['EGFR + BRAF'], ['DMSO', 'EGFR + BRAF']]\n",
    "names = ['DMSO_only', 'EGFR_BRAF_only', 'DMSOandEGFR_BRAF']\n",
    "donor= 'B2-040'\n",
    "plot_umap(donor, names, pert_combis)\n",
    "\n",
    "pert_combis = [['DMSO'], ['EGFR'], ['DMSO', 'EGFR']]\n",
    "names = ['DMSO_only', 'EGFR_only', 'DMSOandEGFR']\n",
    "donor= 'P013T'\n",
    "plot_umap(donor, names, pert_combis)\n",
    "\n",
    "pert_combis = [['DMSO'], ['EGFR'], ['DMSO', 'EGFR']]\n",
    "names = ['DMSO_only', 'EGFR_only', 'DMSOandEGFR']\n",
    "donor= 'P009T'\n",
    "plot_umap(donor, names, pert_combis)\n",
    "        \n",
    "pert_combis = [['DMSO'], ['MEK'], ['DMSO', 'MEK']]\n",
    "names = ['DMSO_only', 'MEK_only', 'DMSOandMEK']\n",
    "donor= 'OT227'\n",
    "plot_umap(donor, names, pert_combis)\n",
    "        \n",
    "pert_combis = [['DMSO'], ['MEK'], ['DMSO', 'MEK']]\n",
    "names = ['DMSO_only', 'MEK_only', 'DMSOandMEK']\n",
    "donor= 'OT302'\n",
    "plot_umap(donor, names, pert_combis)\n"
   ]
  },
  {
   "cell_type": "markdown",
   "metadata": {
    "heading_collapsed": true
   },
   "source": [
    "# (Fit all Samples) deprecated and takes too long"
   ]
  },
  {
   "cell_type": "markdown",
   "metadata": {
    "hidden": true
   },
   "source": [
    "We can fit separate models for the different perturbations of a single donor or we can fit them jointly. This Code explores these possible configurations both with and without cell cycle regressed data."
   ]
  },
  {
   "cell_type": "code",
   "execution_count": 3,
   "metadata": {
    "ExecuteTime": {
     "end_time": "2021-01-03T13:06:55.348504Z",
     "start_time": "2021-01-03T13:06:54.294354Z"
    },
    "hidden": true
   },
   "outputs": [],
   "source": [
    "# Preload signatures\n",
    "\n",
    "# Stem sig\n",
    "tab=pd.read_excel(signatures_path+'cell_type_markers/CRC-related_stem_cell_signatures.xlsx', header=0)\n",
    "tab = tab.drop(0)\n",
    "sigs = {'Stem_'+x: list(tab[x][~pd.isna(tab[x])].values) for x in ['Lgr5_ISC-Munoz', 'Lgr5_ISC-Merlos']}\n",
    "\n",
    "# Flo sig\n",
    "# tab=pd.read_excel(signatures_path+'cell_type_markers/colonoid_cancer_uhlitz_markers.xlsx', header=1)\n",
    "tab=pd.read_excel(signatures_path+'cell_type_markers/colonoid_cancer_uhlitz_markers_revised.xlsx', header=1, sheet_name=2)\n",
    "flo_sigs={x: list(tab[tab['cell_type_epi']==x].gene.values) for x in ['Stem', 'Enterocytes 1', 'TC1', 'TC4', 'Goblet', 'Stem/TA 1']}\n",
    "\n",
    "single_genes = ['LGR5', 'OLFM4', 'TFF3', 'FABP1', 'EPHB2', 'AXIN1', 'AXIN2', 'EGR1']\n",
    "\n",
    "# YAP target from Markus Morkel, Liberali Lab\n",
    "yap_targets = ['CTGF', 'GGTA1', 'WWC2', 'ANXA8', 'CLU', 'CXCL16', 'IL33', 'LY6A', 'LY6C1', \n",
    "               'MSLN', 'TNFRSF12A', 'CTGF', 'GGTA1', 'WWC2', 'ANXA5', 'TACSTD2', 'ANXA10', 'EREG', 'IL33', 'ANXA1', 'ANXA3']"
   ]
  },
  {
   "cell_type": "markdown",
   "metadata": {
    "heading_collapsed": true,
    "hidden": true
   },
   "source": [
    "## single perts, cc regressed"
   ]
  },
  {
   "cell_type": "code",
   "execution_count": 12,
   "metadata": {
    "ExecuteTime": {
     "end_time": "2020-12-29T00:18:36.082974Z",
     "start_time": "2020-12-28T21:45:49.940649Z"
    },
    "hidden": true,
    "scrolled": false
   },
   "outputs": [
    {
     "data": {
      "application/vnd.jupyter.widget-view+json": {
       "model_id": "0bab9aaf9c7a4016a82b1773504d4bae",
       "version_major": 2,
       "version_minor": 0
      },
      "text/plain": [
       "HBox(children=(IntProgress(value=0, max=6), HTML(value='')))"
      ]
     },
     "metadata": {},
     "output_type": "display_data"
    },
    {
     "data": {
      "application/vnd.jupyter.widget-view+json": {
       "model_id": "db3bf06f1aaf4bb099b114ec8c4f0a45",
       "version_major": 2,
       "version_minor": 0
      },
      "text/plain": [
       "HBox(children=(IntProgress(value=0, max=6), HTML(value='')))"
      ]
     },
     "metadata": {},
     "output_type": "display_data"
    },
    {
     "name": "stdout",
     "output_type": "stream",
     "text": [
      "High shared vars:  877\n"
     ]
    },
    {
     "data": {
      "application/vnd.jupyter.widget-view+json": {
       "model_id": "cf7f05f97676494db7a8cb07e4e8f483",
       "version_major": 2,
       "version_minor": 0
      },
      "text/plain": [
       "HBox(children=(IntProgress(value=0, max=10), HTML(value='')))"
      ]
     },
     "metadata": {},
     "output_type": "display_data"
    },
    {
     "name": "stdout",
     "output_type": "stream",
     "text": [
      "B2-040 DMSO  filtering key error. Prolly not enough cells(?)\n",
      "B2-040 EGFR  filtering key error. Prolly not enough cells(?)\n",
      "B2-040 EGFR + BRAF  filtering key error. Prolly not enough cells(?)\n",
      "B2-040 EGFR + MEK  filtering key error. Prolly not enough cells(?)\n",
      "B2-040 MEK  filtering key error. Prolly not enough cells(?)\n"
     ]
    },
    {
     "data": {
      "application/vnd.jupyter.widget-view+json": {
       "model_id": "b27763a078694a629642b67af3545bdf",
       "version_major": 2,
       "version_minor": 0
      },
      "text/plain": [
       "HBox(children=(IntProgress(value=0, max=6), HTML(value='')))"
      ]
     },
     "metadata": {},
     "output_type": "display_data"
    },
    {
     "name": "stdout",
     "output_type": "stream",
     "text": [
      "High shared vars:  323\n",
      "WARNING: No root cells detected. Consider specifying root cells to improve latent time prediction.\n"
     ]
    },
    {
     "data": {
      "application/vnd.jupyter.widget-view+json": {
       "model_id": "173e0a9328d345c5b7a7f4472ff40f34",
       "version_major": 2,
       "version_minor": 0
      },
      "text/plain": [
       "HBox(children=(IntProgress(value=0, max=10), HTML(value='')))"
      ]
     },
     "metadata": {},
     "output_type": "display_data"
    },
    {
     "name": "stdout",
     "output_type": "stream",
     "text": [
      "High shared vars:  518\n"
     ]
    },
    {
     "data": {
      "application/vnd.jupyter.widget-view+json": {
       "model_id": "3024ff4dafe14a0a849c6fee16eb643d",
       "version_major": 2,
       "version_minor": 0
      },
      "text/plain": [
       "HBox(children=(IntProgress(value=0, max=10), HTML(value='')))"
      ]
     },
     "metadata": {},
     "output_type": "display_data"
    },
    {
     "name": "stdout",
     "output_type": "stream",
     "text": [
      "High shared vars:  338\n",
      "WARNING: No root cells detected. Consider specifying root cells to improve latent time prediction.\n"
     ]
    },
    {
     "data": {
      "application/vnd.jupyter.widget-view+json": {
       "model_id": "940451528da848cc9717e9f0572e509b",
       "version_major": 2,
       "version_minor": 0
      },
      "text/plain": [
       "HBox(children=(IntProgress(value=0, max=10), HTML(value='')))"
      ]
     },
     "metadata": {},
     "output_type": "display_data"
    },
    {
     "name": "stdout",
     "output_type": "stream",
     "text": [
      "High shared vars:  300\n",
      "WARNING: No root cells detected. Consider specifying root cells to improve latent time prediction.\n"
     ]
    },
    {
     "data": {
      "application/vnd.jupyter.widget-view+json": {
       "model_id": "ee048df7504644e890b9254ddbb58fb9",
       "version_major": 2,
       "version_minor": 0
      },
      "text/plain": [
       "HBox(children=(IntProgress(value=0, max=10), HTML(value='')))"
      ]
     },
     "metadata": {},
     "output_type": "display_data"
    },
    {
     "name": "stdout",
     "output_type": "stream",
     "text": [
      "High shared vars:  314\n",
      "WARNING: No root cells detected. Consider specifying root cells to improve latent time prediction.\n"
     ]
    },
    {
     "data": {
      "application/vnd.jupyter.widget-view+json": {
       "model_id": "c149d0a84f91437b8c6a9d120e1feb22",
       "version_major": 2,
       "version_minor": 0
      },
      "text/plain": [
       "HBox(children=(IntProgress(value=0, max=10), HTML(value='')))"
      ]
     },
     "metadata": {},
     "output_type": "display_data"
    },
    {
     "name": "stdout",
     "output_type": "stream",
     "text": [
      "High shared vars:  258\n",
      "WARNING: No root cells detected. Consider specifying root cells to improve latent time prediction.\n"
     ]
    },
    {
     "data": {
      "application/vnd.jupyter.widget-view+json": {
       "model_id": "289101f745d34870bd86f668608ded61",
       "version_major": 2,
       "version_minor": 0
      },
      "text/plain": [
       "HBox(children=(IntProgress(value=0, max=10), HTML(value='')))"
      ]
     },
     "metadata": {},
     "output_type": "display_data"
    },
    {
     "data": {
      "application/vnd.jupyter.widget-view+json": {
       "model_id": "f0181abfeac54ce49de1ab21e41cc932",
       "version_major": 2,
       "version_minor": 0
      },
      "text/plain": [
       "HBox(children=(IntProgress(value=0, max=6), HTML(value='')))"
      ]
     },
     "metadata": {},
     "output_type": "display_data"
    },
    {
     "name": "stdout",
     "output_type": "stream",
     "text": [
      "OT227 BRAF  filtering key error. Prolly not enough cells(?)\n",
      "OT227 DMSO  filtering key error. Prolly not enough cells(?)\n",
      "OT227 EGFR  filtering key error. Prolly not enough cells(?)\n",
      "High shared vars:  1000\n",
      "WARNING: No root cells detected. Consider specifying root cells to improve latent time prediction.\n"
     ]
    },
    {
     "data": {
      "application/vnd.jupyter.widget-view+json": {
       "model_id": "f0ec17b35d0241e79f2a5d6d8b5efa9a",
       "version_major": 2,
       "version_minor": 0
      },
      "text/plain": [
       "HBox(children=(IntProgress(value=0, max=10), HTML(value='')))"
      ]
     },
     "metadata": {},
     "output_type": "display_data"
    },
    {
     "name": "stdout",
     "output_type": "stream",
     "text": [
      "OT227 EGFR + MEK  filtering key error. Prolly not enough cells(?)\n",
      "OT227 MEK  filtering key error. Prolly not enough cells(?)\n"
     ]
    },
    {
     "data": {
      "application/vnd.jupyter.widget-view+json": {
       "model_id": "d41d54cdefe94ea19b8adb486008d9d1",
       "version_major": 2,
       "version_minor": 0
      },
      "text/plain": [
       "HBox(children=(IntProgress(value=0, max=6), HTML(value='')))"
      ]
     },
     "metadata": {},
     "output_type": "display_data"
    },
    {
     "name": "stdout",
     "output_type": "stream",
     "text": [
      "High shared vars:  1000\n"
     ]
    },
    {
     "data": {
      "application/vnd.jupyter.widget-view+json": {
       "model_id": "c8a46c3bc9ef48c9bcba380cd6c4ef31",
       "version_major": 2,
       "version_minor": 0
      },
      "text/plain": [
       "HBox(children=(IntProgress(value=0, max=10), HTML(value='')))"
      ]
     },
     "metadata": {},
     "output_type": "display_data"
    },
    {
     "name": "stdout",
     "output_type": "stream",
     "text": [
      "OT302 DMSO  filtering key error. Prolly not enough cells(?)\n",
      "High shared vars:  1000\n"
     ]
    },
    {
     "data": {
      "application/vnd.jupyter.widget-view+json": {
       "model_id": "178bc40b38484492a702560c2f47f00e",
       "version_major": 2,
       "version_minor": 0
      },
      "text/plain": [
       "HBox(children=(IntProgress(value=0, max=10), HTML(value='')))"
      ]
     },
     "metadata": {},
     "output_type": "display_data"
    },
    {
     "name": "stdout",
     "output_type": "stream",
     "text": [
      "High shared vars:  1000\n",
      "WARNING: No root cells detected. Consider specifying root cells to improve latent time prediction.\n"
     ]
    },
    {
     "data": {
      "application/vnd.jupyter.widget-view+json": {
       "model_id": "f0d579d4e5714e52a5942e16c4c39ab5",
       "version_major": 2,
       "version_minor": 0
      },
      "text/plain": [
       "HBox(children=(IntProgress(value=0, max=10), HTML(value='')))"
      ]
     },
     "metadata": {},
     "output_type": "display_data"
    },
    {
     "name": "stdout",
     "output_type": "stream",
     "text": [
      "OT302 EGFR + MEK  filtering key error. Prolly not enough cells(?)\n",
      "OT302 MEK  filtering key error. Prolly not enough cells(?)\n"
     ]
    },
    {
     "data": {
      "application/vnd.jupyter.widget-view+json": {
       "model_id": "d24ad390e11646dea2b39831f027f7eb",
       "version_major": 2,
       "version_minor": 0
      },
      "text/plain": [
       "HBox(children=(IntProgress(value=0, max=6), HTML(value='')))"
      ]
     },
     "metadata": {},
     "output_type": "display_data"
    },
    {
     "name": "stdout",
     "output_type": "stream",
     "text": [
      "P009T BRAF  filtering key error. Prolly not enough cells(?)\n",
      "P009T DMSO  filtering key error. Prolly not enough cells(?)\n",
      "High shared vars:  845\n",
      "WARNING: No root cells detected. Consider specifying root cells to improve latent time prediction.\n"
     ]
    },
    {
     "data": {
      "application/vnd.jupyter.widget-view+json": {
       "model_id": "481694d996644ea895c19acae237493e",
       "version_major": 2,
       "version_minor": 0
      },
      "text/plain": [
       "HBox(children=(IntProgress(value=0, max=10), HTML(value='')))"
      ]
     },
     "metadata": {},
     "output_type": "display_data"
    },
    {
     "name": "stdout",
     "output_type": "stream",
     "text": [
      "P009T EGFR + BRAF  filtering key error. Prolly not enough cells(?)\n",
      "High shared vars:  556\n",
      "WARNING: No root cells detected. Consider specifying root cells to improve latent time prediction.\n"
     ]
    },
    {
     "data": {
      "application/vnd.jupyter.widget-view+json": {
       "model_id": "bb387c47951f47389aa73354589cab08",
       "version_major": 2,
       "version_minor": 0
      },
      "text/plain": [
       "HBox(children=(IntProgress(value=0, max=10), HTML(value='')))"
      ]
     },
     "metadata": {},
     "output_type": "display_data"
    },
    {
     "name": "stdout",
     "output_type": "stream",
     "text": [
      "High shared vars:  713\n",
      "WARNING: No root cells detected. Consider specifying root cells to improve latent time prediction.\n"
     ]
    },
    {
     "data": {
      "application/vnd.jupyter.widget-view+json": {
       "model_id": "0bc22b188fc34717aeabb406b268b6d9",
       "version_major": 2,
       "version_minor": 0
      },
      "text/plain": [
       "HBox(children=(IntProgress(value=0, max=10), HTML(value='')))"
      ]
     },
     "metadata": {},
     "output_type": "display_data"
    },
    {
     "data": {
      "application/vnd.jupyter.widget-view+json": {
       "model_id": "bab6757e83174c3299049561c720b9ca",
       "version_major": 2,
       "version_minor": 0
      },
      "text/plain": [
       "HBox(children=(IntProgress(value=0, max=6), HTML(value='')))"
      ]
     },
     "metadata": {},
     "output_type": "display_data"
    },
    {
     "name": "stdout",
     "output_type": "stream",
     "text": [
      "P013T BRAF  filtering key error. Prolly not enough cells(?)\n",
      "High shared vars:  1000\n",
      "WARNING: No root cells detected. Consider specifying root cells to improve latent time prediction.\n"
     ]
    },
    {
     "data": {
      "application/vnd.jupyter.widget-view+json": {
       "model_id": "62e54f4803994dbdaf6606c96c19bd6e",
       "version_major": 2,
       "version_minor": 0
      },
      "text/plain": [
       "HBox(children=(IntProgress(value=0, max=10), HTML(value='')))"
      ]
     },
     "metadata": {},
     "output_type": "display_data"
    },
    {
     "name": "stdout",
     "output_type": "stream",
     "text": [
      "High shared vars:  1000\n"
     ]
    },
    {
     "data": {
      "application/vnd.jupyter.widget-view+json": {
       "model_id": "bd4bb6e3fbff4f44b1318684a4eee72d",
       "version_major": 2,
       "version_minor": 0
      },
      "text/plain": [
       "HBox(children=(IntProgress(value=0, max=10), HTML(value='')))"
      ]
     },
     "metadata": {},
     "output_type": "display_data"
    },
    {
     "name": "stdout",
     "output_type": "stream",
     "text": [
      "High shared vars:  1000\n",
      "WARNING: No root cells detected. Consider specifying root cells to improve latent time prediction.\n"
     ]
    },
    {
     "data": {
      "application/vnd.jupyter.widget-view+json": {
       "model_id": "e34950335916420daf6b16ebc65fed92",
       "version_major": 2,
       "version_minor": 0
      },
      "text/plain": [
       "HBox(children=(IntProgress(value=0, max=10), HTML(value='')))"
      ]
     },
     "metadata": {},
     "output_type": "display_data"
    },
    {
     "name": "stdout",
     "output_type": "stream",
     "text": [
      "High shared vars:  1000\n",
      "WARNING: No root cells detected. Consider specifying root cells to improve latent time prediction.\n"
     ]
    },
    {
     "data": {
      "application/vnd.jupyter.widget-view+json": {
       "model_id": "bfe6e6b6da15430c9ba227cd33c36ac7",
       "version_major": 2,
       "version_minor": 0
      },
      "text/plain": [
       "HBox(children=(IntProgress(value=0, max=10), HTML(value='')))"
      ]
     },
     "metadata": {},
     "output_type": "display_data"
    },
    {
     "name": "stdout",
     "output_type": "stream",
     "text": [
      "High shared vars:  1000\n",
      "WARNING: No root cells detected. Consider specifying root cells to improve latent time prediction.\n"
     ]
    },
    {
     "data": {
      "application/vnd.jupyter.widget-view+json": {
       "model_id": "94e36173344e44d8a346992b747a89ee",
       "version_major": 2,
       "version_minor": 0
      },
      "text/plain": [
       "HBox(children=(IntProgress(value=0, max=10), HTML(value='')))"
      ]
     },
     "metadata": {},
     "output_type": "display_data"
    }
   ],
   "source": [
    "# single perts, cc regressed\n",
    "\n",
    "from matplotlib.backends.backend_pdf import PdfPages\n",
    "export_path='G:/data/scSLAMseq/revision/exports/'\n",
    "\n",
    "mode='SLAM'\n",
    "do_ccreg=True\n",
    "\n",
    "for donor in tqdm_notebook(donors):\n",
    "    # read\n",
    "    ccreg='_ccreg' if do_ccreg else ''\n",
    "    data=sc.read(data_path+'by_donors/processed/SLAMv2_'+donor+'_processed'+ccreg+'.h5')\n",
    "    if 'X_diffmap' in data.obsm.keys(): del data.obsm['X_diffmap']\n",
    "    if mode == 'SLAM':\n",
    "        data.layers['unspliced']=data.layers['new']\n",
    "        data.layers['spliced']=data.layers['old']\n",
    "        scv.pp.moments(data, n_pcs=30, n_neighbors=30)\n",
    "    for x in ['new', 'old', 'real_ambiguous', 'real_spliced', 'real_unspliced']: del data.layers[x]\n",
    "\n",
    "    for pert in tqdm_notebook(pd.unique(data.obs.perturbation)):\n",
    "        name = donor + '_'+pert+ccreg\n",
    "        # subset to a single perturbation\n",
    "        adata = data[data.obs.perturbation==pert].copy()\n",
    "        scv.pp.pca(adata)\n",
    "        scv.pp.neighbors(adata)\n",
    "        scv.pp.moments(adata, n_pcs=30, n_neighbors=30)\n",
    "\n",
    "        # filtering and select genes to fit\n",
    "        cdata=sc.AnnData(adata.X, var=adata.var[[]], layers={'unspliced': adata.layers['unspliced'],'spliced': adata.layers['spliced']})\n",
    "        scv.pp.filter_genes(cdata, min_shared_counts=30)\n",
    "        try:\n",
    "            scv.pp.filter_genes_dispersion(cdata, n_top_genes=1000)\n",
    "        except:\n",
    "            print(donor, pert, ' filtering key error. Prolly not enough cells(?)')\n",
    "            continue\n",
    "        high_shared_vars=cdata.var_names.values\n",
    "        del cdata\n",
    "        print('High shared vars: ', len(high_shared_vars))\n",
    "        non_ribo_genes_ids=np.array([x[:2]!='RP' for x in high_shared_vars])\n",
    "        non_ribo_genes=high_shared_vars[non_ribo_genes_ids]\n",
    "\n",
    "        # dynamical model and latent time computation\n",
    "        scv.tl.recover_dynamics(adata, var_names=non_ribo_genes)\n",
    "        scv.tl.velocity(adata, mode='dynamical')\n",
    "        scv.tl.velocity_graph(adata)\n",
    "        scv.tl.velocity_embedding(adata, basis='umap')\n",
    "        scv.tl.recover_latent_time(adata)\n",
    "\n",
    "        writer = pd.ExcelWriter(export_path+name'_tables.xlsx', engine='xlsxwriter')\n",
    "        with PdfPages(export_path+name+'_dynamics.pdf') as pdf:\n",
    "            # latent time series of signatures\n",
    "            from scipy.stats import zscore\n",
    "            obs = ['Stem', 'Goblet', 'MAPK_progeny', 'YAP_targets', 'Stem_Lgr5_ISC-Merlos', 'TC1', 'TC4', 'percent_ribosomal']\n",
    "            colors = ['red', 'blue', 'green', 'black', 'grey', 'orange', 'yellow', 'cyan']\n",
    "            ax=None\n",
    "            for o, c in zip(obs,colors):\n",
    "                ax=scv.pl.scatter(adata, x=adata.obs.latent_time, y=zscore(adata.obs[o]), alpha=0.5, figsize=[10,5], size=50,\n",
    "                                  color=c, n_convolve=50, show=False, xlabel='latent time', ylabel='zscore', ax=ax)\n",
    "            ax.legend(obs)\n",
    "            pdf.savefig()  # saves the current figure into a pdf page\n",
    "            pl.close()\n",
    "\n",
    "            # heatmap time series\n",
    "            time = adata.obs.latent_time\n",
    "            Y=adata.obs[obs].iloc[np.argsort(time)]\n",
    "            #Y/=np.max(np.abs(Y), axis=0)\n",
    "            Y=zscore(Y)\n",
    "            df = pd.DataFrame(Y, columns=obs)\n",
    "            if True:\n",
    "                n_convolve=50\n",
    "                weights = np.ones(n_convolve) / n_convolve\n",
    "                for o in obs:\n",
    "                    try:\n",
    "                        df[o] = np.convolve(df[o].values, weights, mode=\"same\")\n",
    "                    except:\n",
    "                        pass  # e.g. all-zero counts or nans cannot be convolved\n",
    "            from seaborn import clustermap\n",
    "            cm = clustermap(df.T, row_cluster=True, col_cluster=False, vmin=-2, vmax=2, cmap='bwr')#, **kwargs\n",
    "            cm.ax_heatmap.set_xlabel(pert+' latent time');\n",
    "            cm.ax_heatmap.set_title(pert+' '+ donor+' heatmap');\n",
    "            cm.ax_heatmap.set_xticks([]);\n",
    "            pdf.savefig()  # saves the current figure into a pdf page\n",
    "            pl.close()\n",
    "\n",
    "            # export Sigs vs time\n",
    "            dat=adata.obs[['latent_time']+obs].sort_values('latent_time')\n",
    "            dat.to_excel(writer, sheet_name='signatures_vs_latenttime')\n",
    "\n",
    "            # umap\n",
    "            scv.pl.scatter(adata, color=obs+['latent_time'], ncols=5, show=False)\n",
    "            pdf.savefig()  # saves the current figure into a pdf page\n",
    "            pl.close()\n",
    "\n",
    "            # dynamical velocity plot\n",
    "            from scvelo.plotting.utils import default_size\n",
    "            ax=scv.pl.scatter(data[data.obs.perturbation!=pert], color='lightgrey', show=False, alpha=0.2, size=4 * default_size(adata))\n",
    "            scv.pl.velocity_embedding_grid(adata, color='latent_time', arrow_length=5, arrow_size=5, density=0.4, arrow_color='black', show=False, title=donor+' '+pert+' dynamical velocity', ax=ax)\n",
    "            pdf.savefig()  # saves the current figure into a pdf page\n",
    "            pl.close()\n",
    "            \n",
    "            # steady state SLAM velocity plot\n",
    "            ax=scv.pl.scatter(data[data.obs.perturbation!=pert], color='lightgrey', show=False, alpha=0.2, size=4 * default_size(adata))\n",
    "            scv.pl.velocity_embedding_grid(adata, vkey='SLAM_velocity', color='latent_time', arrow_length=5, arrow_size=5, density=0.4, \n",
    "                                           arrow_color='black', show=False, title=donor+' '+pert+' steady state velocity', ax=ax)\n",
    "            pdf.savefig()  # saves the current figure into a pdf page\n",
    "            pl.close()\n",
    "            \n",
    "            # steady state classical/real RNA velocity plot\n",
    "            ax=scv.pl.scatter(data[data.obs.perturbation!=pert], color='lightgrey', show=False, alpha=0.2, size=4 * default_size(adata))\n",
    "            scv.pl.velocity_embedding_grid(adata, vkey='real_velocity', color='latent_time', arrow_length=5, arrow_size=5, density=0.4, \n",
    "                                           arrow_color='black', show=False, title=donor+' '+pert+' classical steady state velocity', ax=ax)\n",
    "            pdf.savefig()  # saves the current figure into a pdf page\n",
    "            pl.close()\n",
    "\n",
    "            # overall top likelihood genes\n",
    "            topgenes = list(adata.var.fit_likelihood[non_ribo_genes].sort_values()[-20:].index)\n",
    "            scv.pl.scatter(adata, basis=topgenes, color='latent_time', ncols=4, show=False, title=[x+' top'+str(20-i) for i,x in enumerate(topgenes)])\n",
    "            pdf.savefig()  # saves the current figure into a pdf page\n",
    "            pl.close()\n",
    "\n",
    "            # export gene fit likelihoods of highest quantile\n",
    "            genes_likelihoods=adata.var[~pd.isna(adata.var['fit_likelihood'])]['fit_likelihood'].sort_values()\n",
    "            top_genes_likelihoods=genes_likelihoods[genes_likelihoods>np.percentile(genes_likelihoods,75)]\n",
    "            top_genes_likelihoods.to_excel(writer, sheet_name='top_quantile_genes_likelihoods')\n",
    "\n",
    "            # calculate gene overlaps with sigs\n",
    "            genes = top_genes_likelihoods #genes_likelihoods\n",
    "            #print('Selected fitted genes', '\\t', len(genes))\n",
    "            dat = []\n",
    "            index = []\n",
    "            intersets = []\n",
    "            signatures = {**sigs, **flo_sigs, **{'yap_targets':yap_targets}, **{'single_genes': single_genes}}\n",
    "            for k in signatures.keys():\n",
    "                K = np.sum(np.isin(genes.index, signatures[k]))\n",
    "                dat.append([K, len(signatures[k])])\n",
    "                index.append(k)\n",
    "                intersets.append(genes.index.values[np.isin(genes.index, signatures[k])])\n",
    "            tab=pd.DataFrame(data=dat, index=index, columns=['overlap', 'total_in_sig'])\n",
    "            tab['percent_coverage']=np.round(tab.overlap/tab.total_in_sig*100,2)\n",
    "            tab['intersecting_genes']=intersets\n",
    "            tab.to_excel(writer, sheet_name='sigantures_overlap_statistics')\n",
    "\n",
    "            subtab=tab.loc[['Stem_Lgr5_ISC-Merlos', 'Stem_Lgr5_ISC-Munoz', 'Stem', 'Stem/TA 1', 'Enterocytes 1', 'Goblet', 'TC1', 'TC4', 'yap_targets', 'single_genes']]\n",
    "            for k in tqdm_notebook(subtab.index):\n",
    "                if tab.loc[k]['overlap']>0:\n",
    "                    genes_plot = subtab.loc[k]['intersecting_genes']\n",
    "                    for i in range(int(np.ceil(len(genes_plot) / 20))):\n",
    "                        mi=i*20\n",
    "                        ma=np.min([i*20+20, len(genes_plot)])\n",
    "                        try:\n",
    "                            scv.pl.scatter(adata, basis=genes_plot[mi:ma], color='latent_time', ncols=4, show=False, title=[x+' '+k for x in genes_plot])\n",
    "                            pdf.savefig()  # saves the current figure into a pdf page\n",
    "                            pl.close()\n",
    "                        except:\n",
    "                            pass\n",
    "        writer.save()"
   ]
  },
  {
   "cell_type": "markdown",
   "metadata": {
    "ExecuteTime": {
     "end_time": "2021-01-03T11:49:55.739529Z",
     "start_time": "2021-01-03T11:49:55.732536Z"
    },
    "heading_collapsed": true,
    "hidden": true
   },
   "source": [
    "## single perts, cc not regressed"
   ]
  },
  {
   "cell_type": "code",
   "execution_count": null,
   "metadata": {
    "hidden": true
   },
   "outputs": [],
   "source": [
    "# single perts, cc NOT regressed\n",
    "\n",
    "from matplotlib.backends.backend_pdf import PdfPages\n",
    "export_path='G:/data/scSLAMseq/revision/exports/'\n",
    "\n",
    "mode='SLAM'\n",
    "do_ccreg=False\n",
    "\n",
    "for donor in tqdm_notebook(donors):\n",
    "    # read\n",
    "    ccreg='_ccreg' if do_ccreg else ''\n",
    "    data=sc.read(data_path+'by_donors/processed/SLAMv2_'+donor+'_processed'+ccreg+'.h5')\n",
    "    if 'X_diffmap' in data.obsm.keys(): del data.obsm['X_diffmap']\n",
    "    if mode == 'SLAM':\n",
    "        data.layers['unspliced']=data.layers['new']\n",
    "        data.layers['spliced']=data.layers['old']\n",
    "        scv.pp.moments(data, n_pcs=30, n_neighbors=30)\n",
    "    for x in ['new', 'old', 'real_ambiguous', 'real_spliced', 'real_unspliced']: del data.layers[x]\n",
    "\n",
    "    for pert in tqdm_notebook(pd.unique(data.obs.perturbation)):\n",
    "        name = donor + '_'+pert+ccreg\n",
    "        # subset to a single perturbation\n",
    "        adata = data[data.obs.perturbation==pert].copy()\n",
    "        scv.pp.pca(adata)\n",
    "        scv.pp.neighbors(adata)\n",
    "        scv.pp.moments(adata, n_pcs=30, n_neighbors=30)\n",
    "\n",
    "        # filtering and select genes to fit\n",
    "        cdata=sc.AnnData(adata.X, var=adata.var[[]], layers={'unspliced': adata.layers['unspliced'],'spliced': adata.layers['spliced']})\n",
    "        scv.pp.filter_genes(cdata, min_shared_counts=30)\n",
    "        try:\n",
    "            scv.pp.filter_genes_dispersion(cdata, n_top_genes=1000)\n",
    "        except:\n",
    "            print(donor, pert, ' filtering key error. Prolly not enough cells(?)')\n",
    "            continue\n",
    "        high_shared_vars=cdata.var_names.values\n",
    "        del cdata\n",
    "        print('High shared vars: ', len(high_shared_vars))\n",
    "        non_ribo_genes_ids=np.array([x[:2]!='RP' for x in high_shared_vars])\n",
    "        non_ribo_genes=high_shared_vars[non_ribo_genes_ids]\n",
    "\n",
    "        # dynamical model and latent time computation\n",
    "        scv.tl.recover_dynamics(adata, var_names=non_ribo_genes)\n",
    "        scv.tl.velocity(adata, mode='dynamical')\n",
    "        scv.tl.velocity_graph(adata)\n",
    "        scv.tl.velocity_embedding(adata, basis='umap')\n",
    "        scv.tl.recover_latent_time(adata)\n",
    "\n",
    "        writer = pd.ExcelWriter(export_path+name'_tables.xlsx', engine='xlsxwriter')\n",
    "        with PdfPages(export_path+name+'_dynamics.pdf') as pdf:\n",
    "            # latent time series of signatures\n",
    "            from scipy.stats import zscore\n",
    "            obs = ['Stem', 'Goblet', 'MAPK_progeny', 'YAP_targets', 'Stem_Lgr5_ISC-Merlos', 'TC1', 'TC4', 'percent_ribosomal']\n",
    "            colors = ['red', 'blue', 'green', 'black', 'grey', 'orange', 'yellow', 'cyan']\n",
    "            ax=None\n",
    "            for o, c in zip(obs,colors):\n",
    "                ax=scv.pl.scatter(adata, x=adata.obs.latent_time, y=zscore(adata.obs[o]), alpha=0.5, figsize=[10,5], size=50,\n",
    "                                  color=c, n_convolve=50, show=False, xlabel='latent time', ylabel='zscore', ax=ax)\n",
    "            ax.legend(obs)\n",
    "            pdf.savefig()  # saves the current figure into a pdf page\n",
    "            pl.close()\n",
    "\n",
    "            # heatmap time series\n",
    "            time = adata.obs.latent_time\n",
    "            Y=adata.obs[obs].iloc[np.argsort(time)]\n",
    "            #Y/=np.max(np.abs(Y), axis=0)\n",
    "            Y=zscore(Y)\n",
    "            df = pd.DataFrame(Y, columns=obs)\n",
    "            if True:\n",
    "                n_convolve=50\n",
    "                weights = np.ones(n_convolve) / n_convolve\n",
    "                for o in obs:\n",
    "                    try:\n",
    "                        df[o] = np.convolve(df[o].values, weights, mode=\"same\")\n",
    "                    except:\n",
    "                        pass  # e.g. all-zero counts or nans cannot be convolved\n",
    "            from seaborn import clustermap\n",
    "            cm = clustermap(df.T, row_cluster=True, col_cluster=False, vmin=-2, vmax=2, cmap='bwr')#, **kwargs\n",
    "            cm.ax_heatmap.set_xlabel(pert+' latent time');\n",
    "            cm.ax_heatmap.set_title(pert+' '+ donor+' heatmap');\n",
    "            cm.ax_heatmap.set_xticks([]);\n",
    "            pdf.savefig()  # saves the current figure into a pdf page\n",
    "            pl.close()\n",
    "\n",
    "            # export Sigs vs time\n",
    "            dat=adata.obs[['latent_time']+obs].sort_values('latent_time')\n",
    "            dat.to_excel(writer, sheet_name='signatures_vs_latenttime')\n",
    "\n",
    "            # umap\n",
    "            scv.pl.scatter(adata, color=obs+['latent_time'], ncols=5, show=False)\n",
    "            pdf.savefig()  # saves the current figure into a pdf page\n",
    "            pl.close()\n",
    "\n",
    "            # dynamical velocity plot\n",
    "            from scvelo.plotting.utils import default_size\n",
    "            ax=scv.pl.scatter(data[data.obs.perturbation!=pert], color='lightgrey', show=False, alpha=0.2, size=4 * default_size(adata))\n",
    "            scv.pl.velocity_embedding_grid(adata, color='latent_time', arrow_length=5, arrow_size=5, density=0.4, arrow_color='black', show=False, title=donor+' '+pert+' dynamical velocity', ax=ax)\n",
    "            pdf.savefig()  # saves the current figure into a pdf page\n",
    "            pl.close()\n",
    "            \n",
    "            # steady state SLAM velocity plot\n",
    "            ax=scv.pl.scatter(data[data.obs.perturbation!=pert], color='lightgrey', show=False, alpha=0.2, size=4 * default_size(adata))\n",
    "            scv.pl.velocity_embedding_grid(adata, vkey='SLAM_velocity', color='latent_time', arrow_length=5, arrow_size=5, density=0.4, \n",
    "                                           arrow_color='black', show=False, title=donor+' '+pert+' steady state velocity', ax=ax)\n",
    "            pdf.savefig()  # saves the current figure into a pdf page\n",
    "            pl.close()\n",
    "            \n",
    "            # steady state classical/real RNA velocity plot\n",
    "            ax=scv.pl.scatter(data[data.obs.perturbation!=pert], color='lightgrey', show=False, alpha=0.2, size=4 * default_size(adata))\n",
    "            scv.pl.velocity_embedding_grid(adata, vkey='real_velocity', color='latent_time', arrow_length=5, arrow_size=5, density=0.4, \n",
    "                                           arrow_color='black', show=False, title=donor+' '+pert+' classical steady state velocity', ax=ax)\n",
    "            pdf.savefig()  # saves the current figure into a pdf page\n",
    "            pl.close()\n",
    "\n",
    "            # overall top likelihood genes\n",
    "            topgenes = list(adata.var.fit_likelihood[non_ribo_genes].sort_values()[-20:].index)\n",
    "            scv.pl.scatter(adata, basis=topgenes, color='latent_time', ncols=4, show=False, title=[x+' top'+str(20-i) for i,x in enumerate(topgenes)])\n",
    "            pdf.savefig()  # saves the current figure into a pdf page\n",
    "            pl.close()\n",
    "\n",
    "            # export gene fit likelihoods of highest quantile\n",
    "            genes_likelihoods=adata.var[~pd.isna(adata.var['fit_likelihood'])]['fit_likelihood'].sort_values()\n",
    "            top_genes_likelihoods=genes_likelihoods[genes_likelihoods>np.percentile(genes_likelihoods,75)]\n",
    "            top_genes_likelihoods.to_excel(writer, sheet_name='top_quantile_genes_likelihoods')\n",
    "\n",
    "            # calculate gene overlaps with sigs\n",
    "            genes = top_genes_likelihoods #genes_likelihoods\n",
    "            #print('Selected fitted genes', '\\t', len(genes))\n",
    "            dat = []\n",
    "            index = []\n",
    "            intersets = []\n",
    "            signatures = {**sigs, **flo_sigs, **{'yap_targets':yap_targets}, **{'single_genes': single_genes}}\n",
    "            for k in signatures.keys():\n",
    "                K = np.sum(np.isin(genes.index, signatures[k]))\n",
    "                dat.append([K, len(signatures[k])])\n",
    "                index.append(k)\n",
    "                intersets.append(genes.index.values[np.isin(genes.index, signatures[k])])\n",
    "            tab=pd.DataFrame(data=dat, index=index, columns=['overlap', 'total_in_sig'])\n",
    "            tab['percent_coverage']=np.round(tab.overlap/tab.total_in_sig*100,2)\n",
    "            tab['intersecting_genes']=intersets\n",
    "            tab.to_excel(writer, sheet_name='sigantures_overlap_statistics')\n",
    "\n",
    "            subtab=tab.loc[['Stem_Lgr5_ISC-Merlos', 'Stem_Lgr5_ISC-Munoz', 'Stem', 'Stem/TA 1', 'Enterocytes 1', 'Goblet', 'TC1', 'TC4', 'yap_targets', 'single_genes']]\n",
    "            for k in tqdm_notebook(subtab.index):\n",
    "                if tab.loc[k]['overlap']>0:\n",
    "                    genes_plot = subtab.loc[k]['intersecting_genes']\n",
    "                    for i in range(int(np.ceil(len(genes_plot) / 20))):\n",
    "                        mi=i*20\n",
    "                        ma=np.min([i*20+20, len(genes_plot)])\n",
    "                        try:\n",
    "                            scv.pl.scatter(adata, basis=genes_plot[mi:ma], color='latent_time', ncols=4, show=False, title=[x+' '+k for x in genes_plot])\n",
    "                            pdf.savefig()  # saves the current figure into a pdf page\n",
    "                            pl.close()\n",
    "                        except:\n",
    "                            pass\n",
    "        writer.save()"
   ]
  },
  {
   "cell_type": "markdown",
   "metadata": {
    "heading_collapsed": true,
    "hidden": true
   },
   "source": [
    "## jointly, cc regressed"
   ]
  },
  {
   "cell_type": "code",
   "execution_count": 4,
   "metadata": {
    "ExecuteTime": {
     "end_time": "2021-01-03T14:03:53.522012Z",
     "start_time": "2021-01-03T13:07:00.434819Z"
    },
    "hidden": true
   },
   "outputs": [
    {
     "data": {
      "application/vnd.jupyter.widget-view+json": {
       "model_id": "9a9b05809efa4f33a86bcce5d1e77892",
       "version_major": 2,
       "version_minor": 0
      },
      "text/plain": [
       "HBox(children=(IntProgress(value=0, max=6), HTML(value='')))"
      ]
     },
     "metadata": {},
     "output_type": "display_data"
    },
    {
     "name": "stdout",
     "output_type": "stream",
     "text": [
      "High shared vars:  2000\n",
      "WARNING: No root cells detected. Consider specifying root cells to improve latent time prediction.\n"
     ]
    },
    {
     "data": {
      "application/vnd.jupyter.widget-view+json": {
       "model_id": "f1ba79f68dbf4224958f4ba6f299e932",
       "version_major": 2,
       "version_minor": 0
      },
      "text/plain": [
       "HBox(children=(IntProgress(value=0, max=10), HTML(value='')))"
      ]
     },
     "metadata": {},
     "output_type": "display_data"
    },
    {
     "name": "stdout",
     "output_type": "stream",
     "text": [
      "High shared vars:  1538\n",
      "WARNING: No root cells detected. Consider specifying root cells to improve latent time prediction.\n"
     ]
    },
    {
     "data": {
      "application/vnd.jupyter.widget-view+json": {
       "model_id": "cec791035da34356b454f5d97abe42f2",
       "version_major": 2,
       "version_minor": 0
      },
      "text/plain": [
       "HBox(children=(IntProgress(value=0, max=10), HTML(value='')))"
      ]
     },
     "metadata": {},
     "output_type": "display_data"
    },
    {
     "name": "stdout",
     "output_type": "stream",
     "text": [
      "High shared vars:  2000\n"
     ]
    },
    {
     "data": {
      "application/vnd.jupyter.widget-view+json": {
       "model_id": "c21c0c07d4ca4d1cbfcb97e9795ad01e",
       "version_major": 2,
       "version_minor": 0
      },
      "text/plain": [
       "HBox(children=(IntProgress(value=0, max=10), HTML(value='')))"
      ]
     },
     "metadata": {},
     "output_type": "display_data"
    },
    {
     "name": "stdout",
     "output_type": "stream",
     "text": [
      "High shared vars:  2000\n"
     ]
    },
    {
     "data": {
      "application/vnd.jupyter.widget-view+json": {
       "model_id": "a71d35a8a3ad4fae969a313e7b57c320",
       "version_major": 2,
       "version_minor": 0
      },
      "text/plain": [
       "HBox(children=(IntProgress(value=0, max=10), HTML(value='')))"
      ]
     },
     "metadata": {},
     "output_type": "display_data"
    },
    {
     "name": "stdout",
     "output_type": "stream",
     "text": [
      "P009T  filtering key error. Prolly not enough cells(?)\n",
      "High shared vars:  2000\n"
     ]
    },
    {
     "data": {
      "application/vnd.jupyter.widget-view+json": {
       "model_id": "049e7c7960664e16b0f07fa497874c26",
       "version_major": 2,
       "version_minor": 0
      },
      "text/plain": [
       "HBox(children=(IntProgress(value=0, max=10), HTML(value='')))"
      ]
     },
     "metadata": {},
     "output_type": "display_data"
    },
    {
     "name": "stdout",
     "output_type": "stream",
     "text": [
      "\n"
     ]
    }
   ],
   "source": [
    "# jointly, cc regressed\n",
    "\n",
    "from matplotlib.backends.backend_pdf import PdfPages\n",
    "export_path='G:/data/scSLAMseq/revision/exports/03_01_complete/'\n",
    "\n",
    "mode='SLAM'\n",
    "do_ccreg=True\n",
    "\n",
    "for donor in tqdm_notebook(donors):\n",
    "    print(donor)\n",
    "    # read\n",
    "    ccreg='_ccreg' if do_ccreg else ''\n",
    "    adata=sc.read(data_path+'by_donors/processed/SLAMv2_'+donor+'_processed'+ccreg+'.h5')\n",
    "    if 'X_diffmap' in adata.obsm.keys(): del adata.obsm['X_diffmap']\n",
    "    if mode == 'SLAM':\n",
    "        adata.layers['unspliced']=adata.layers['new']\n",
    "        adata.layers['spliced']=adata.layers['old']\n",
    "        scv.pp.moments(adata, n_pcs=30, n_neighbors=30)\n",
    "    for x in ['new', 'old', 'real_ambiguous', 'real_spliced', 'real_unspliced']: del adata.layers[x]\n",
    "    \n",
    "    name = donor +ccreg\n",
    "\n",
    "    # filtering and select genes to fit\n",
    "    cdata=sc.AnnData(adata.X, var=adata.var[[]], layers={'unspliced': adata.layers['unspliced'],'spliced': adata.layers['spliced']})\n",
    "    scv.pp.filter_genes(cdata, min_shared_counts=20)\n",
    "    try:\n",
    "        scv.pp.filter_genes_dispersion(cdata, n_top_genes=2000)\n",
    "    except:\n",
    "        print(donor, ' filtering key error. Prolly not enough cells(?)')\n",
    "        continue\n",
    "    high_shared_vars=cdata.var_names.values\n",
    "    del cdata\n",
    "    print('High shared vars: ', len(high_shared_vars))\n",
    "    non_ribo_genes_ids=np.array([x[:2]!='RP' for x in high_shared_vars])\n",
    "    non_ribo_genes=high_shared_vars[non_ribo_genes_ids]\n",
    "\n",
    "    # dynamical model and latent time computation\n",
    "    adata = adata[:, high_shared_vars].copy()  # subset to gene selection\n",
    "    scv.tl.recover_dynamics(adata, var_names=high_shared_vars)\n",
    "    scv.tl.velocity(adata, mode='dynamical')\n",
    "    scv.tl.velocity_graph(adata)\n",
    "    scv.tl.velocity_embedding(adata, basis='umap')\n",
    "    scv.tl.recover_latent_time(adata)\n",
    "\n",
    "    writer = pd.ExcelWriter(export_path+name+'_tables.xlsx', engine='xlsxwriter')\n",
    "    with PdfPages(export_path+name+'_dynamics.pdf') as pdf:\n",
    "        # latent time series of signatures\n",
    "        from scipy.stats import zscore\n",
    "        obs = ['Stem', 'Goblet', 'MAPK_progeny', 'YAP_targets', 'Stem_Lgr5_ISC-Merlos', 'TC1', 'TC4', 'percent_ribosomal']\n",
    "        colors = ['red', 'blue', 'green', 'black', 'grey', 'orange', 'yellow', 'cyan']\n",
    "        ax=None\n",
    "        for o, c in zip(obs,colors):\n",
    "            ax=scv.pl.scatter(adata, x=adata.obs.latent_time, y=zscore(adata.obs[o]), alpha=0.5, figsize=[10,5], size=50,\n",
    "                              color=c, n_convolve=50, show=False, xlabel='latent time', ylabel='zscore', ax=ax)\n",
    "        ax.legend(obs)\n",
    "        pdf.savefig()  # saves the current figure into a pdf page\n",
    "        pl.close()\n",
    "\n",
    "        # heatmap time series\n",
    "        time = adata.obs.latent_time\n",
    "        Y=adata.obs[obs].iloc[np.argsort(time)]\n",
    "        #Y/=np.max(np.abs(Y), axis=0)\n",
    "        Y=zscore(Y)\n",
    "        df = pd.DataFrame(Y, columns=obs)\n",
    "        if True:\n",
    "            n_convolve=50\n",
    "            weights = np.ones(n_convolve) / n_convolve\n",
    "            for o in obs:\n",
    "                try:\n",
    "                    df[o] = np.convolve(df[o].values, weights, mode=\"same\")\n",
    "                except:\n",
    "                    pass  # e.g. all-zero counts or nans cannot be convolved\n",
    "        from seaborn import clustermap\n",
    "        cm = clustermap(df.T, row_cluster=True, col_cluster=False, vmin=-2, vmax=2, cmap='bwr')#, **kwargs\n",
    "        cm.ax_heatmap.set_xlabel('latent time');\n",
    "        cm.ax_heatmap.set_title(donor+' heatmap');\n",
    "        cm.ax_heatmap.set_xticks([]);\n",
    "        pdf.savefig()  # saves the current figure into a pdf page\n",
    "        pl.close()\n",
    "\n",
    "        # export Sigs vs time\n",
    "        dat=adata.obs[['latent_time']+obs].sort_values('latent_time')\n",
    "        dat.to_excel(writer, sheet_name='signatures_vs_latenttime')\n",
    "\n",
    "        # umap\n",
    "        scv.pl.scatter(adata, color=obs+['latent_time'], ncols=5, show=False)\n",
    "        pdf.savefig()  # saves the current figure into a pdf page\n",
    "        pl.close()\n",
    "\n",
    "        # dynamical velocity plot\n",
    "        from scvelo.plotting.utils import default_size\n",
    "        scv.pl.velocity_embedding_grid(adata, color='latent_time', arrow_length=5, arrow_size=5, density=0.4, arrow_color='black', show=False, title=donor+' dynamical velocity')\n",
    "        pdf.savefig()  # saves the current figure into a pdf page\n",
    "        pl.close()\n",
    "\n",
    "        # steady state SLAM velocity plot\n",
    "        scv.pl.velocity_embedding_grid(adata, vkey='SLAM_velocity', color='latent_time', arrow_length=5, arrow_size=5, density=0.4, \n",
    "                                       arrow_color='black', show=False, title=donor+' steady state velocity')\n",
    "        pdf.savefig()  # saves the current figure into a pdf page\n",
    "        pl.close()\n",
    "\n",
    "        # steady state classical/real RNA velocity plot\n",
    "        scv.pl.velocity_embedding_grid(adata, vkey='real_velocity', color='latent_time', arrow_length=5, arrow_size=5, density=0.4, \n",
    "                                       arrow_color='black', show=False, title=donor+' classical steady state velocity')\n",
    "        pdf.savefig()  # saves the current figure into a pdf page\n",
    "        pl.close()\n",
    "\n",
    "        # overall top likelihood genes\n",
    "        topgenes = list(adata.var.fit_likelihood[non_ribo_genes].sort_values()[-20:].index)\n",
    "        scv.pl.scatter(adata, basis=topgenes, color='latent_time', ncols=4, show=False, title=[x+' top'+str(20-i) for i,x in enumerate(topgenes)])\n",
    "        pdf.savefig()  # saves the current figure into a pdf page\n",
    "        pl.close()\n",
    "\n",
    "        # export gene fit likelihoods of highest quantile\n",
    "        genes_likelihoods=adata.var[~pd.isna(adata.var['fit_likelihood'])]['fit_likelihood'].sort_values()\n",
    "        top_genes_likelihoods=genes_likelihoods[genes_likelihoods>np.percentile(genes_likelihoods,75)]\n",
    "        top_genes_likelihoods.to_excel(writer, sheet_name='top_quantile_genes_likelihoods')\n",
    "\n",
    "        # calculate gene overlaps with sigs\n",
    "        genes = top_genes_likelihoods #genes_likelihoods\n",
    "        #print('Selected fitted genes', '\\t', len(genes))\n",
    "        dat = []\n",
    "        index = []\n",
    "        intersets = []\n",
    "        signatures = {**sigs, **flo_sigs, **{'yap_targets':yap_targets}, **{'single_genes': single_genes}}\n",
    "        for k in signatures.keys():\n",
    "            K = np.sum(np.isin(genes.index, signatures[k]))\n",
    "            dat.append([K, len(signatures[k])])\n",
    "            index.append(k)\n",
    "            intersets.append(genes.index.values[np.isin(genes.index, signatures[k])])\n",
    "        tab=pd.DataFrame(data=dat, index=index, columns=['overlap', 'total_in_sig'])\n",
    "        tab['percent_coverage']=np.round(tab.overlap/tab.total_in_sig*100,2)\n",
    "        tab['intersecting_genes']=intersets\n",
    "        tab.to_excel(writer, sheet_name='sigantures_overlap_statistics')\n",
    "\n",
    "        subtab=tab.loc[['Stem_Lgr5_ISC-Merlos', 'Stem_Lgr5_ISC-Munoz', 'Stem', 'Stem/TA 1', 'Enterocytes 1', 'Goblet', 'TC1', 'TC4', 'yap_targets', 'single_genes']]\n",
    "        for k in subtab.index:\n",
    "            if tab.loc[k]['overlap']>0:\n",
    "                genes_plot = subtab.loc[k]['intersecting_genes']\n",
    "                for i in range(int(np.ceil(len(genes_plot) / 20))):\n",
    "                    mi=i*20\n",
    "                    ma=np.min([i*20+20, len(genes_plot)])\n",
    "                    try:\n",
    "                        scv.pl.scatter(adata, basis=genes_plot[mi:ma], color='latent_time', ncols=4, show=False, title=[x+' '+k for x in genes_plot])\n",
    "                        pdf.savefig()  # saves the current figure into a pdf page\n",
    "                        pl.close()\n",
    "                    except:\n",
    "                        pass\n",
    "    writer.save()"
   ]
  },
  {
   "cell_type": "markdown",
   "metadata": {
    "ExecuteTime": {
     "end_time": "2021-01-03T11:50:30.569143Z",
     "start_time": "2021-01-03T11:50:30.559130Z"
    },
    "heading_collapsed": true,
    "hidden": true
   },
   "source": [
    "## jointly, cc not regressed"
   ]
  },
  {
   "cell_type": "code",
   "execution_count": 5,
   "metadata": {
    "ExecuteTime": {
     "end_time": "2021-01-03T15:12:35.096009Z",
     "start_time": "2021-01-03T14:03:53.728021Z"
    },
    "hidden": true
   },
   "outputs": [
    {
     "data": {
      "application/vnd.jupyter.widget-view+json": {
       "model_id": "647a7b0a1ab3404bb2deea3ffd950583",
       "version_major": 2,
       "version_minor": 0
      },
      "text/plain": [
       "HBox(children=(IntProgress(value=0, max=6), HTML(value='')))"
      ]
     },
     "metadata": {},
     "output_type": "display_data"
    },
    {
     "name": "stdout",
     "output_type": "stream",
     "text": [
      "B2-040\n",
      "High shared vars:  2000\n",
      "WARNING: No root cells detected. Consider specifying root cells to improve latent time prediction.\n",
      "C2-019\n",
      "High shared vars:  1538\n",
      "OT227\n",
      "High shared vars:  2000\n",
      "OT302\n",
      "High shared vars:  2000\n",
      "P009T\n",
      "High shared vars:  2000\n",
      "P013T\n",
      "High shared vars:  2000\n",
      "\n"
     ]
    }
   ],
   "source": [
    "# jointly, cc regressed\n",
    "\n",
    "from matplotlib.backends.backend_pdf import PdfPages\n",
    "export_path='G:/data/scSLAMseq/revision/exports/03_01_complete/'\n",
    "\n",
    "mode='SLAM'\n",
    "do_ccreg=False\n",
    "\n",
    "for donor in tqdm_notebook(donors):\n",
    "    print(donor)\n",
    "    # read\n",
    "    ccreg='_ccreg' if do_ccreg else ''\n",
    "    adata=sc.read(data_path+'by_donors/processed/SLAMv2_'+donor+'_processed'+ccreg+'.h5')\n",
    "    if 'X_diffmap' in adata.obsm.keys(): del adata.obsm['X_diffmap']\n",
    "    if mode == 'SLAM':\n",
    "        adata.layers['unspliced']=adata.layers['new']\n",
    "        adata.layers['spliced']=adata.layers['old']\n",
    "        scv.pp.moments(adata, n_pcs=30, n_neighbors=30)\n",
    "    for x in ['new', 'old', 'real_ambiguous', 'real_spliced', 'real_unspliced']: del adata.layers[x]\n",
    "    \n",
    "    name = donor +ccreg\n",
    "\n",
    "    # filtering and select genes to fit\n",
    "    cdata=sc.AnnData(adata.X, var=adata.var[[]], layers={'unspliced': adata.layers['unspliced'],'spliced': adata.layers['spliced']})\n",
    "    scv.pp.filter_genes(cdata, min_shared_counts=20)\n",
    "    try:\n",
    "        scv.pp.filter_genes_dispersion(cdata, n_top_genes=2000)\n",
    "    except:\n",
    "        print(donor, ' filtering key error. Prolly not enough cells(?)')\n",
    "        continue\n",
    "    high_shared_vars=cdata.var_names.values\n",
    "    del cdata\n",
    "    print('High shared vars: ', len(high_shared_vars))\n",
    "    non_ribo_genes_ids=np.array([x[:2]!='RP' for x in high_shared_vars])\n",
    "    non_ribo_genes=high_shared_vars[non_ribo_genes_ids]\n",
    "\n",
    "    # dynamical model and latent time computation\n",
    "    adata = adata[:, high_shared_vars].copy()  # subset to gene selection\n",
    "    scv.tl.recover_dynamics(adata, var_names=high_shared_vars)\n",
    "    scv.tl.velocity(adata, mode='dynamical')\n",
    "    scv.tl.velocity_graph(adata)\n",
    "    scv.tl.velocity_embedding(adata, basis='umap')\n",
    "    scv.tl.recover_latent_time(adata)\n",
    "\n",
    "    writer = pd.ExcelWriter(export_path+name+'_tables.xlsx', engine='xlsxwriter')\n",
    "    with PdfPages(export_path+name+'_dynamics.pdf') as pdf:\n",
    "        # latent time series of signatures\n",
    "        from scipy.stats import zscore\n",
    "        obs = ['Stem', 'Goblet', 'MAPK_progeny', 'YAP_targets', 'Stem_Lgr5_ISC-Merlos', 'TC1', 'TC4', 'percent_ribosomal']\n",
    "        colors = ['red', 'blue', 'green', 'black', 'grey', 'orange', 'yellow', 'cyan']\n",
    "        ax=None\n",
    "        for o, c in zip(obs,colors):\n",
    "            ax=scv.pl.scatter(adata, x=adata.obs.latent_time, y=zscore(adata.obs[o]), alpha=0.5, figsize=[10,5], size=50,\n",
    "                              color=c, n_convolve=50, show=False, xlabel='latent time', ylabel='zscore', ax=ax)\n",
    "        ax.legend(obs)\n",
    "        pdf.savefig()  # saves the current figure into a pdf page\n",
    "        pl.close()\n",
    "\n",
    "        # heatmap time series\n",
    "        time = adata.obs.latent_time\n",
    "        Y=adata.obs[obs].iloc[np.argsort(time)]\n",
    "        #Y/=np.max(np.abs(Y), axis=0)\n",
    "        Y=zscore(Y)\n",
    "        df = pd.DataFrame(Y, columns=obs)\n",
    "        if True:\n",
    "            n_convolve=50\n",
    "            weights = np.ones(n_convolve) / n_convolve\n",
    "            for o in obs:\n",
    "                try:\n",
    "                    df[o] = np.convolve(df[o].values, weights, mode=\"same\")\n",
    "                except:\n",
    "                    pass  # e.g. all-zero counts or nans cannot be convolved\n",
    "        from seaborn import clustermap\n",
    "        cm = clustermap(df.T, row_cluster=True, col_cluster=False, vmin=-2, vmax=2, cmap='bwr')#, **kwargs\n",
    "        cm.ax_heatmap.set_xlabel('latent time');\n",
    "        cm.ax_heatmap.set_title(donor+' heatmap');\n",
    "        cm.ax_heatmap.set_xticks([]);\n",
    "        pdf.savefig()  # saves the current figure into a pdf page\n",
    "        pl.close()\n",
    "\n",
    "        # export Sigs vs time\n",
    "        dat=adata.obs[['latent_time']+obs].sort_values('latent_time')\n",
    "        dat.to_excel(writer, sheet_name='signatures_vs_latenttime')\n",
    "\n",
    "        # umaps\n",
    "        scv.pl.scatter(adata, color=obs+['latent_time'], ncols=5, show=False)\n",
    "        pdf.savefig()  # saves the current figure into a pdf page\n",
    "        pl.close()\n",
    "        scv.pl.scatter(adata, color='perturbation', ncols=5, show=False)\n",
    "        pdf.savefig()  # saves the current figure into a pdf page\n",
    "        pl.close()\n",
    "\n",
    "        # dynamical velocity plot\n",
    "        from scvelo.plotting.utils import default_size\n",
    "        scv.pl.velocity_embedding_grid(adata, color='latent_time', arrow_length=5, arrow_size=5, density=0.4, arrow_color='black', show=False, title=donor+' dynamical velocity')\n",
    "        pdf.savefig()  # saves the current figure into a pdf page\n",
    "        pl.close()\n",
    "\n",
    "        # steady state SLAM velocity plot\n",
    "        scv.pl.velocity_embedding_grid(adata, vkey='SLAM_velocity', color='latent_time', arrow_length=5, arrow_size=5, density=0.4, \n",
    "                                       arrow_color='black', show=False, title=donor+' steady state velocity')\n",
    "        pdf.savefig()  # saves the current figure into a pdf page\n",
    "        pl.close()\n",
    "\n",
    "        # steady state classical/real RNA velocity plot\n",
    "        scv.pl.velocity_embedding_grid(adata, vkey='real_velocity', color='latent_time', arrow_length=5, arrow_size=5, density=0.4, \n",
    "                                       arrow_color='black', show=False, title=donor+' classical steady state velocity')\n",
    "        pdf.savefig()  # saves the current figure into a pdf page\n",
    "        pl.close()\n",
    "\n",
    "        # overall top likelihood genes\n",
    "        topgenes = list(adata.var.fit_likelihood[non_ribo_genes].sort_values()[-20:].index)\n",
    "        scv.pl.scatter(adata, basis=topgenes, color='latent_time', ncols=4, show=False, title=[x+' top'+str(20-i) for i,x in enumerate(topgenes)])\n",
    "        pdf.savefig()  # saves the current figure into a pdf page\n",
    "        pl.close()\n",
    "\n",
    "        # export gene fit likelihoods of highest quantile\n",
    "        genes_likelihoods=adata.var[~pd.isna(adata.var['fit_likelihood'])]['fit_likelihood'].sort_values()\n",
    "        top_genes_likelihoods=genes_likelihoods[genes_likelihoods>np.percentile(genes_likelihoods,75)]\n",
    "        top_genes_likelihoods.to_excel(writer, sheet_name='top_quantile_genes_likelihoods')\n",
    "\n",
    "        # calculate gene overlaps with sigs\n",
    "        genes = top_genes_likelihoods #genes_likelihoods\n",
    "        #print('Selected fitted genes', '\\t', len(genes))\n",
    "        dat = []\n",
    "        index = []\n",
    "        intersets = []\n",
    "        signatures = {**sigs, **flo_sigs, **{'yap_targets':yap_targets}, **{'single_genes': single_genes}}\n",
    "        for k in signatures.keys():\n",
    "            K = np.sum(np.isin(genes.index, signatures[k]))\n",
    "            dat.append([K, len(signatures[k])])\n",
    "            index.append(k)\n",
    "            intersets.append(genes.index.values[np.isin(genes.index, signatures[k])])\n",
    "        tab=pd.DataFrame(data=dat, index=index, columns=['overlap', 'total_in_sig'])\n",
    "        tab['percent_coverage']=np.round(tab.overlap/tab.total_in_sig*100,2)\n",
    "        tab['intersecting_genes']=intersets\n",
    "        tab.to_excel(writer, sheet_name='sigantures_overlap_statistics')\n",
    "\n",
    "        subtab=tab.loc[['Stem_Lgr5_ISC-Merlos', 'Stem_Lgr5_ISC-Munoz', 'Stem', 'Stem/TA 1', 'Enterocytes 1', 'Goblet', 'TC1', 'TC4', 'yap_targets', 'single_genes']]\n",
    "        for k in subtab.index:\n",
    "            if tab.loc[k]['overlap']>0:\n",
    "                genes_plot = subtab.loc[k]['intersecting_genes']\n",
    "                for i in range(int(np.ceil(len(genes_plot) / 20))):\n",
    "                    mi=i*20\n",
    "                    ma=np.min([i*20+20, len(genes_plot)])\n",
    "                    try:\n",
    "                        scv.pl.scatter(adata, basis=genes_plot[mi:ma], color='latent_time', ncols=4, show=False, title=[x+' '+k for x in genes_plot])\n",
    "                        pdf.savefig()  # saves the current figure into a pdf page\n",
    "                        pl.close()\n",
    "                    except:\n",
    "                        pass\n",
    "    writer.save()"
   ]
  },
  {
   "cell_type": "code",
   "execution_count": 3,
   "metadata": {
    "ExecuteTime": {
     "end_time": "2021-01-03T16:16:17.816907Z",
     "start_time": "2021-01-03T16:08:38.751726Z"
    },
    "hidden": true
   },
   "outputs": [
    {
     "data": {
      "application/vnd.jupyter.widget-view+json": {
       "model_id": "8dd0fd5c7a1741689b0b0c119d541ea5",
       "version_major": 2,
       "version_minor": 0
      },
      "text/plain": [
       "HBox(children=(IntProgress(value=0, max=6), HTML(value='')))"
      ]
     },
     "metadata": {},
     "output_type": "display_data"
    },
    {
     "name": "stdout",
     "output_type": "stream",
     "text": [
      "B2-040\n",
      "C2-019\n",
      "OT227\n",
      "OT302\n",
      "P009T\n",
      "P013T\n",
      "\n"
     ]
    },
    {
     "data": {
      "application/vnd.jupyter.widget-view+json": {
       "model_id": "e8a239bcce0d4b33abf8e952a92b11c6",
       "version_major": 2,
       "version_minor": 0
      },
      "text/plain": [
       "HBox(children=(IntProgress(value=0, max=6), HTML(value='')))"
      ]
     },
     "metadata": {},
     "output_type": "display_data"
    },
    {
     "name": "stdout",
     "output_type": "stream",
     "text": [
      "B2-040\n",
      "C2-019\n",
      "OT227\n",
      "OT302\n",
      "P009T\n",
      "P013T\n",
      "\n"
     ]
    }
   ],
   "source": [
    "# add umaps\n",
    "from matplotlib.backends.backend_pdf import PdfPages\n",
    "export_path='G:/data/scSLAMseq/revision/exports/03_01_complete/'\n",
    "\n",
    "for do_ccreg in [True, False]:\n",
    "    ccreg='_ccreg' if do_ccreg else ''\n",
    "    for donor in tqdm_notebook(donors):\n",
    "        with PdfPages(export_path+donor+'_additional_umaps_'+ccreg+'.pdf') as pdf:\n",
    "            print(donor)\n",
    "            adata=sc.read(data_path+'by_donors/processed/SLAMv2_'+donor+'_processed'+ccreg+'.h5')\n",
    "            scv.pl.scatter(adata, color=['perturbation', 'phase'], ncols=5, show=False, title=[donor+ccreg+' pertubations umap', donor+ccreg+' cellcycle umap'])\n",
    "            pdf.savefig()  # saves the current figure into a pdf page\n",
    "            pl.close()"
   ]
  },
  {
   "cell_type": "code",
   "execution_count": null,
   "metadata": {
    "hidden": true
   },
   "outputs": [],
   "source": []
  }
 ],
 "metadata": {
  "kernelspec": {
   "display_name": "Python 3",
   "language": "python",
   "name": "python3"
  },
  "language_info": {
   "codemirror_mode": {
    "name": "ipython",
    "version": 3
   },
   "file_extension": ".py",
   "mimetype": "text/x-python",
   "name": "python",
   "nbconvert_exporter": "python",
   "pygments_lexer": "ipython3",
   "version": "3.6.6"
  },
  "varInspector": {
   "cols": {
    "lenName": 16,
    "lenType": 16,
    "lenVar": 40
   },
   "kernels_config": {
    "python": {
     "delete_cmd_postfix": "",
     "delete_cmd_prefix": "del ",
     "library": "var_list.py",
     "varRefreshCmd": "print(var_dic_list())"
    },
    "r": {
     "delete_cmd_postfix": ") ",
     "delete_cmd_prefix": "rm(",
     "library": "var_list.r",
     "varRefreshCmd": "cat(var_dic_list()) "
    }
   },
   "types_to_exclude": [
    "module",
    "function",
    "builtin_function_or_method",
    "instance",
    "_Feature"
   ],
   "window_display": false
  }
 },
 "nbformat": 4,
 "nbformat_minor": 2
}

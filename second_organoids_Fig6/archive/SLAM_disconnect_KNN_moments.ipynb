{
 "cells": [
  {
   "cell_type": "code",
   "execution_count": 3,
   "metadata": {
    "ExecuteTime": {
     "end_time": "2020-12-08T13:24:22.329838Z",
     "start_time": "2020-12-08T13:24:20.938469Z"
    }
   },
   "outputs": [
    {
     "data": {
      "text/html": [
       "<style>.container { width:90% !important; }</style>"
      ],
      "text/plain": [
       "<IPython.core.display.HTML object>"
      ]
     },
     "metadata": {},
     "output_type": "display_data"
    },
    {
     "name": "stdout",
     "output_type": "stream",
     "text": [
      "Running scvelo 0.1.16.dev32+c00a55e.dirty (python 3.6.6) on 2020-12-08 14:24.\n"
     ]
    }
   ],
   "source": [
    "import scvelo as scv\n",
    "from IPython.display import clear_output\n",
    "import matplotlib.backends.backend_pdf\n",
    "from tqdm import tnrange, tqdm_notebook\n",
    "import scanpy as sc\n",
    "import matplotlib.pyplot as pl\n",
    "import pandas as pd\n",
    "import numpy as np\n",
    "from IPython.core.display import display, HTML\n",
    "display(HTML(\"<style>.container { width:90% !important; }</style>\"))\n",
    "%matplotlib inline\n",
    "\n",
    "\n",
    "scv.logging.print_version()\n",
    "scv.settings.set_figure_params(\n",
    "    'scvelo', dpi_save=100, dpi=80, transparent=True)\n",
    "scv.settings.verbosity = 2"
   ]
  },
  {
   "cell_type": "code",
   "execution_count": 4,
   "metadata": {
    "ExecuteTime": {
     "end_time": "2020-12-08T13:24:22.359429Z",
     "start_time": "2020-12-08T13:24:22.346568Z"
    }
   },
   "outputs": [],
   "source": [
    "# paths and names\n",
    "data_path='G:/data/scSLAMseq/revision/'\n",
    "signatures_path='G:/data/scrnaseq_signature_collection/'\n",
    "figure_path='G:/data/figures/heatmaps/'\n",
    "libraries = ['AB', 'CE', 'DF']\n",
    "donors=['B2-040', 'C2-019', 'OT227', 'OT302', 'P009T', 'P013T']"
   ]
  },
  {
   "cell_type": "code",
   "execution_count": 5,
   "metadata": {
    "ExecuteTime": {
     "end_time": "2020-12-08T13:25:22.046073Z",
     "start_time": "2020-12-08T13:24:23.615078Z"
    }
   },
   "outputs": [],
   "source": [
    "donor=donors[-1]\n",
    "adata = scv.read(data_path+'by_donors/processed/SLAMv2_'+donor+'_processed.h5')"
   ]
  },
  {
   "cell_type": "code",
   "execution_count": 6,
   "metadata": {
    "ExecuteTime": {
     "end_time": "2020-12-08T13:25:22.135892Z",
     "start_time": "2020-12-08T13:25:22.121521Z"
    }
   },
   "outputs": [],
   "source": [
    "def restrict_KNN(adata):\n",
    "    # restrict KNN connectivities to within perturbations only\n",
    "    from scipy.sparse import csr_matrix\n",
    "    adata = adata[np.argsort(adata.obs.perturbation)].copy()  # sort by perturbation\n",
    "    A=adata.obsp['connectivities'].A\n",
    "    # pl.imshow(A*5000, vmax=0.1)\n",
    "    # pl.show()\n",
    "    for pert in pd.unique(adata.obs.perturbation):\n",
    "        a=np.where(adata.obs.perturbation==pert)[0]\n",
    "        b=np.where(adata.obs.perturbation!=pert)[0]\n",
    "        # remove neighborhoods\n",
    "        A[np.min(a):np.max(a), b]=0\n",
    "        A[b, np.min(a):np.max(a)]=0\n",
    "    adata.obsp['connectivities'] = csr_matrix(A)\n",
    "    # pl.imshow(A*5000, vmax=0.1)\n",
    "    return adata"
   ]
  },
  {
   "cell_type": "code",
   "execution_count": 12,
   "metadata": {
    "ExecuteTime": {
     "end_time": "2020-12-08T13:30:27.980096Z",
     "start_time": "2020-12-08T13:30:26.838195Z"
    }
   },
   "outputs": [
    {
     "name": "stdout",
     "output_type": "stream",
     "text": [
      "computing neighbors\n",
      "    finished (0:00:00)\n"
     ]
    }
   ],
   "source": [
    "#del adata.obsm['X_diffmap']\n",
    "adata.layers['unspliced']=adata.layers['new']\n",
    "adata.layers['spliced']=adata.layers['old']\n",
    "scv.pp.neighbors(adata)"
   ]
  },
  {
   "cell_type": "code",
   "execution_count": 13,
   "metadata": {
    "ExecuteTime": {
     "end_time": "2020-12-08T13:30:32.945578Z",
     "start_time": "2020-12-08T13:30:30.684787Z"
    }
   },
   "outputs": [
    {
     "name": "stdout",
     "output_type": "stream",
     "text": [
      "computing moments based on connectivities\n"
     ]
    },
    {
     "ename": "MemoryError",
     "evalue": "Unable to allocate 146. MiB for an array with shape (38257603,) and data type float32",
     "output_type": "error",
     "traceback": [
      "\u001b[1;31m---------------------------------------------------------------------------\u001b[0m",
      "\u001b[1;31mMemoryError\u001b[0m                               Traceback (most recent call last)",
      "\u001b[1;32m<ipython-input-13-d8a66e58f3cb>\u001b[0m in \u001b[0;36m<module>\u001b[1;34m\u001b[0m\n\u001b[1;32m----> 1\u001b[1;33m \u001b[0mscv\u001b[0m\u001b[1;33m.\u001b[0m\u001b[0mpp\u001b[0m\u001b[1;33m.\u001b[0m\u001b[0mmoments\u001b[0m\u001b[1;33m(\u001b[0m\u001b[0madata\u001b[0m\u001b[1;33m,\u001b[0m \u001b[0mn_pcs\u001b[0m\u001b[1;33m=\u001b[0m\u001b[1;36m30\u001b[0m\u001b[1;33m,\u001b[0m \u001b[0mn_neighbors\u001b[0m\u001b[1;33m=\u001b[0m\u001b[1;36m30\u001b[0m\u001b[1;33m)\u001b[0m\u001b[1;33m\u001b[0m\u001b[0m\n\u001b[0m\u001b[0;32m      2\u001b[0m \u001b[0mscv\u001b[0m\u001b[1;33m.\u001b[0m\u001b[0mtl\u001b[0m\u001b[1;33m.\u001b[0m\u001b[0mvelocity\u001b[0m\u001b[1;33m(\u001b[0m\u001b[0madata\u001b[0m\u001b[1;33m,\u001b[0m \u001b[0mvkey\u001b[0m\u001b[1;33m=\u001b[0m\u001b[1;34m'connected_velocity'\u001b[0m\u001b[1;33m)\u001b[0m\u001b[1;33m\u001b[0m\u001b[0m\n\u001b[0;32m      3\u001b[0m \u001b[0mscv\u001b[0m\u001b[1;33m.\u001b[0m\u001b[0mtl\u001b[0m\u001b[1;33m.\u001b[0m\u001b[0mvelocity_graph\u001b[0m\u001b[1;33m(\u001b[0m\u001b[0madata\u001b[0m\u001b[1;33m,\u001b[0m \u001b[0mvkey\u001b[0m\u001b[1;33m=\u001b[0m\u001b[1;34m'connected_velocity'\u001b[0m\u001b[1;33m)\u001b[0m\u001b[1;33m\u001b[0m\u001b[0m\n\u001b[0;32m      4\u001b[0m \u001b[0mscv\u001b[0m\u001b[1;33m.\u001b[0m\u001b[0mtl\u001b[0m\u001b[1;33m.\u001b[0m\u001b[0mvelocity_embedding\u001b[0m\u001b[1;33m(\u001b[0m\u001b[0madata\u001b[0m\u001b[1;33m,\u001b[0m \u001b[0mbasis\u001b[0m\u001b[1;33m=\u001b[0m\u001b[1;34m'umap'\u001b[0m\u001b[1;33m,\u001b[0m \u001b[0mvkey\u001b[0m\u001b[1;33m=\u001b[0m\u001b[1;34m'connected_velocity'\u001b[0m\u001b[1;33m)\u001b[0m\u001b[1;33m\u001b[0m\u001b[0m\n",
      "\u001b[1;32m~\\Miniconda3\\envs\\py36\\lib\\site-packages\\scvelo\\preprocessing\\moments.py\u001b[0m in \u001b[0;36mmoments\u001b[1;34m(data, n_neighbors, n_pcs, mode, method, use_rep, copy)\u001b[0m\n\u001b[0;32m     76\u001b[0m         adata.layers[\"Ms\"] = (\n\u001b[0;32m     77\u001b[0m             \u001b[0mcsr_matrix\u001b[0m\u001b[1;33m.\u001b[0m\u001b[0mdot\u001b[0m\u001b[1;33m(\u001b[0m\u001b[0mconnectivities\u001b[0m\u001b[1;33m,\u001b[0m \u001b[0mcsr_matrix\u001b[0m\u001b[1;33m(\u001b[0m\u001b[0madata\u001b[0m\u001b[1;33m.\u001b[0m\u001b[0mlayers\u001b[0m\u001b[1;33m[\u001b[0m\u001b[1;34m\"spliced\"\u001b[0m\u001b[1;33m]\u001b[0m\u001b[1;33m)\u001b[0m\u001b[1;33m)\u001b[0m\u001b[1;33m\u001b[0m\u001b[0m\n\u001b[1;32m---> 78\u001b[1;33m             \u001b[1;33m.\u001b[0m\u001b[0mastype\u001b[0m\u001b[1;33m(\u001b[0m\u001b[0mnp\u001b[0m\u001b[1;33m.\u001b[0m\u001b[0mfloat32\u001b[0m\u001b[1;33m)\u001b[0m\u001b[1;33m\u001b[0m\u001b[0m\n\u001b[0m\u001b[0;32m     79\u001b[0m             \u001b[1;33m.\u001b[0m\u001b[0mA\u001b[0m\u001b[1;33m\u001b[0m\u001b[0m\n\u001b[0;32m     80\u001b[0m         )\n",
      "\u001b[1;32m~\\Miniconda3\\envs\\py36\\lib\\site-packages\\scipy\\sparse\\data.py\u001b[0m in \u001b[0;36mastype\u001b[1;34m(self, dtype, casting, copy)\u001b[0m\n\u001b[0;32m     73\u001b[0m                 copy=copy)\n\u001b[0;32m     74\u001b[0m         \u001b[1;32melif\u001b[0m \u001b[0mcopy\u001b[0m\u001b[1;33m:\u001b[0m\u001b[1;33m\u001b[0m\u001b[0m\n\u001b[1;32m---> 75\u001b[1;33m             \u001b[1;32mreturn\u001b[0m \u001b[0mself\u001b[0m\u001b[1;33m.\u001b[0m\u001b[0mcopy\u001b[0m\u001b[1;33m(\u001b[0m\u001b[1;33m)\u001b[0m\u001b[1;33m\u001b[0m\u001b[0m\n\u001b[0m\u001b[0;32m     76\u001b[0m         \u001b[1;32melse\u001b[0m\u001b[1;33m:\u001b[0m\u001b[1;33m\u001b[0m\u001b[0m\n\u001b[0;32m     77\u001b[0m             \u001b[1;32mreturn\u001b[0m \u001b[0mself\u001b[0m\u001b[1;33m\u001b[0m\u001b[0m\n",
      "\u001b[1;32m~\\Miniconda3\\envs\\py36\\lib\\site-packages\\scipy\\sparse\\data.py\u001b[0m in \u001b[0;36mcopy\u001b[1;34m(self)\u001b[0m\n\u001b[0;32m     90\u001b[0m \u001b[1;33m\u001b[0m\u001b[0m\n\u001b[0;32m     91\u001b[0m     \u001b[1;32mdef\u001b[0m \u001b[0mcopy\u001b[0m\u001b[1;33m(\u001b[0m\u001b[0mself\u001b[0m\u001b[1;33m)\u001b[0m\u001b[1;33m:\u001b[0m\u001b[1;33m\u001b[0m\u001b[0m\n\u001b[1;32m---> 92\u001b[1;33m         \u001b[1;32mreturn\u001b[0m \u001b[0mself\u001b[0m\u001b[1;33m.\u001b[0m\u001b[0m_with_data\u001b[0m\u001b[1;33m(\u001b[0m\u001b[0mself\u001b[0m\u001b[1;33m.\u001b[0m\u001b[0mdata\u001b[0m\u001b[1;33m.\u001b[0m\u001b[0mcopy\u001b[0m\u001b[1;33m(\u001b[0m\u001b[1;33m)\u001b[0m\u001b[1;33m,\u001b[0m \u001b[0mcopy\u001b[0m\u001b[1;33m=\u001b[0m\u001b[1;32mTrue\u001b[0m\u001b[1;33m)\u001b[0m\u001b[1;33m\u001b[0m\u001b[0m\n\u001b[0m\u001b[0;32m     93\u001b[0m \u001b[1;33m\u001b[0m\u001b[0m\n\u001b[0;32m     94\u001b[0m     \u001b[0mcopy\u001b[0m\u001b[1;33m.\u001b[0m\u001b[0m__doc__\u001b[0m \u001b[1;33m=\u001b[0m \u001b[0mspmatrix\u001b[0m\u001b[1;33m.\u001b[0m\u001b[0mcopy\u001b[0m\u001b[1;33m.\u001b[0m\u001b[0m__doc__\u001b[0m\u001b[1;33m\u001b[0m\u001b[0m\n",
      "\u001b[1;31mMemoryError\u001b[0m: Unable to allocate 146. MiB for an array with shape (38257603,) and data type float32"
     ]
    }
   ],
   "source": [
    "scv.pp.moments(adata, n_pcs=30, n_neighbors=30)\n",
    "scv.tl.velocity(adata, vkey='connected_velocity')\n",
    "scv.tl.velocity_graph(adata, vkey='connected_velocity')\n",
    "scv.tl.velocity_embedding(adata, basis='umap', vkey='connected_velocity')"
   ]
  },
  {
   "cell_type": "code",
   "execution_count": null,
   "metadata": {},
   "outputs": [],
   "source": [
    "adata = restrict_KNN(adata)\n",
    "scv.pp.moments(adata, n_pcs=30, n_neighbors=30)\n",
    "scv.tl.velocity(adata, vkey='disconnected_velocity')\n",
    "scv.tl.velocity_graph(adata, vkey='disconnected_velocity')\n",
    "scv.tl.velocity_embedding(adata, basis='umap', vkey='disconnected_velocity')"
   ]
  },
  {
   "cell_type": "code",
   "execution_count": null,
   "metadata": {
    "ExecuteTime": {
     "end_time": "2020-12-08T13:29:58.183602Z",
     "start_time": "2020-12-08T13:28:06.296Z"
    }
   },
   "outputs": [],
   "source": [
    "scv.pl.velocity_embedding_stream(adata, vkey='connected_velocity', color=['perturbation', 'Enterocytes 1', 'phase', 'Stem'], title='connected_velocity')"
   ]
  },
  {
   "cell_type": "code",
   "execution_count": null,
   "metadata": {
    "ExecuteTime": {
     "end_time": "2020-12-08T13:29:58.186595Z",
     "start_time": "2020-12-08T13:28:06.462Z"
    }
   },
   "outputs": [],
   "source": [
    "scv.pl.velocity_embedding_stream(adata, vkey='disconnected_velocity', color=['perturbation', 'Enterocytes 1', 'phase', 'Stem'], title='disconnected_velocity')"
   ]
  },
  {
   "cell_type": "code",
   "execution_count": null,
   "metadata": {},
   "outputs": [],
   "source": []
  },
  {
   "cell_type": "code",
   "execution_count": null,
   "metadata": {},
   "outputs": [],
   "source": []
  }
 ],
 "metadata": {
  "kernelspec": {
   "display_name": "Python 3",
   "language": "python",
   "name": "python3"
  },
  "language_info": {
   "codemirror_mode": {
    "name": "ipython",
    "version": 3
   },
   "file_extension": ".py",
   "mimetype": "text/x-python",
   "name": "python",
   "nbconvert_exporter": "python",
   "pygments_lexer": "ipython3",
   "version": "3.6.6"
  },
  "varInspector": {
   "cols": {
    "lenName": 16,
    "lenType": 16,
    "lenVar": 40
   },
   "kernels_config": {
    "python": {
     "delete_cmd_postfix": "",
     "delete_cmd_prefix": "del ",
     "library": "var_list.py",
     "varRefreshCmd": "print(var_dic_list())"
    },
    "r": {
     "delete_cmd_postfix": ") ",
     "delete_cmd_prefix": "rm(",
     "library": "var_list.r",
     "varRefreshCmd": "cat(var_dic_list()) "
    }
   },
   "types_to_exclude": [
    "module",
    "function",
    "builtin_function_or_method",
    "instance",
    "_Feature"
   ],
   "window_display": false
  }
 },
 "nbformat": 4,
 "nbformat_minor": 2
}

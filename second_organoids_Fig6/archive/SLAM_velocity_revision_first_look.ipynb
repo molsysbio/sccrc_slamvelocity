{
 "cells": [
  {
   "cell_type": "code",
   "execution_count": null,
   "metadata": {
    "ExecuteTime": {
     "end_time": "2020-12-02T14:56:43.091275Z",
     "start_time": "2020-12-02T14:56:35.387617Z"
    }
   },
   "outputs": [],
   "source": [
    "import scvelo as scv\n",
    "from IPython.display import clear_output\n",
    "import matplotlib.backends.backend_pdf\n",
    "from tqdm import tnrange, tqdm_notebook\n",
    "import scanpy as sc\n",
    "import matplotlib.pyplot as pl\n",
    "import pandas as pd\n",
    "import numpy as np\n",
    "from IPython.core.display import display, HTML\n",
    "display(HTML(\"<style>.container { width:90% !important; }</style>\"))\n",
    "%matplotlib inline\n",
    "\n",
    "\n",
    "scv.logging.print_version()\n",
    "scv.settings.set_figure_params(\n",
    "    'scvelo', dpi_save=100, dpi=80, transparent=True)\n",
    "scv.settings.verbosity = 2"
   ]
  },
  {
   "cell_type": "code",
   "execution_count": null,
   "metadata": {
    "ExecuteTime": {
     "end_time": "2020-12-02T14:56:43.137394Z",
     "start_time": "2020-12-02T14:56:43.124880Z"
    }
   },
   "outputs": [],
   "source": [
    "# paths and names\n",
    "data_path='G:/data/scSLAMseq/revision/'\n",
    "signatures_path='G:/data/scrnaseq_signature_collection/'\n",
    "libraries = ['AB', 'CE', 'DF']\n",
    "donors=['B2-040', 'C2-019', 'OT227', 'OT302', 'P009T', 'P013T']"
   ]
  },
  {
   "cell_type": "markdown",
   "metadata": {},
   "source": [
    "# Manual"
   ]
  },
  {
   "cell_type": "code",
   "execution_count": null,
   "metadata": {
    "ExecuteTime": {
     "end_time": "2020-12-02T14:56:48.427280Z",
     "start_time": "2020-12-02T14:56:43.953338Z"
    }
   },
   "outputs": [],
   "source": [
    "# load preformated and filtered data (not normalized and logscaled)\n",
    "donor = donors[-1]\n",
    "adata=sc.read(data_path+'by_donors/SLAM_'+donor+'.h5')\n",
    "#adata = adata[~np.isin(adata.obs.perturbation, ['DMSO', 'BRAF'])].copy()"
   ]
  },
  {
   "cell_type": "code",
   "execution_count": null,
   "metadata": {
    "ExecuteTime": {
     "end_time": "2020-12-02T14:56:48.580519Z",
     "start_time": "2020-12-02T14:56:48.474999Z"
    }
   },
   "outputs": [],
   "source": [
    "adata.layers['unspliced']=adata.layers['new']\n",
    "adata.layers['spliced']=adata.layers['old']\n",
    "scv.pl.proportions(adata, dpi=200, layers=['old', 'new'])"
   ]
  },
  {
   "cell_type": "code",
   "execution_count": null,
   "metadata": {
    "ExecuteTime": {
     "end_time": "2020-12-02T14:56:48.838754Z",
     "start_time": "2020-12-02T14:56:48.642952Z"
    }
   },
   "outputs": [],
   "source": [
    "sc.pp.normalize_total(adata)\n",
    "scv.pp.normalize_per_cell(adata)\n",
    "#scv.pp.filter_genes_dispersion(adata, n_top_genes=2000)\n",
    "scv.pp.log1p(adata)"
   ]
  },
  {
   "cell_type": "code",
   "execution_count": null,
   "metadata": {
    "ExecuteTime": {
     "end_time": "2020-12-02T14:56:52.643799Z",
     "start_time": "2020-12-02T14:56:49.377587Z"
    }
   },
   "outputs": [],
   "source": [
    "# Annotations\n",
    "\n",
    "# single genes of interest from Markus Morkel\n",
    "single_genes = ['LGR5', 'OLFM4', 'TFF3', 'FABP1', 'EPHB2', 'AXIN1', 'AXIN2', 'EGR1']\n",
    "\n",
    "k = sc.settings.verbosity\n",
    "sc.settings.verbosity = 0\n",
    "\n",
    "# cc score\n",
    "cell_cycle_genes = [x.strip() for x in open(signatures_path+'cell_cycle_genes/regev_lab_cell_cycle_genes.txt')]\n",
    "s_genes = cell_cycle_genes[:43]\n",
    "g2m_genes = cell_cycle_genes[43:]\n",
    "cell_cycle_genes = [x for x in cell_cycle_genes if x in adata.var_names]\n",
    "adata.obs_names_make_unique()\n",
    "sc.tl.score_genes_cell_cycle(adata, s_genes=s_genes, g2m_genes=g2m_genes)\n",
    "# is it a problem that I score signatures before regressing out?\n",
    "#sc.pp.regress_out(adata, ['S_score', 'G2M_score'])\n",
    "# adata = adata[adata.obs.phase=='G1'].copy()\n",
    "\n",
    "# Stem sig\n",
    "tab=pd.read_excel(signatures_path+'cell_type_markers/CRC-related_stem_cell_signatures.xlsx', header=0)\n",
    "tab = tab.drop(0)\n",
    "sigs = {'Stem_'+x: list(tab[x][~pd.isna(tab[x])].values) for x in tab.columns}\n",
    "for ct in ['Stem_Lgr5_ISC-Munoz', 'Stem_Lgr5_ISC-Merlos']:  #sigs.keys():\n",
    "    sc.tl.score_genes(adata, sigs[ct], score_name=ct)\n",
    "\n",
    "# Flo sig\n",
    "tab=pd.read_excel(signatures_path+'cell_type_markers/colonoid_cancer_uhlitz_markers.xlsx', header=1)\n",
    "flo_sigs={x: list(tab[tab['cell_type_epi']==x].gene.values) for x in pd.unique(tab['cell_type_epi'])}\n",
    "for ct in ['Stem', 'Enterocytes 1', 'Enterocytes 2', 'TC1', 'TC4', 'Goblet']:  #flo_sigs.keys():\n",
    "    sc.tl.score_genes(adata, flo_sigs[ct], score_name=ct)\n",
    "\n",
    "# YAP target from Markus Morkel, Liberali Lab\n",
    "yap_targets = ['CTGF', 'GGTA1', 'WWC2', 'ANXA8', 'CLU', 'CXCL16', 'IL33', 'LY6A', 'LY6C1', 'MSLN', 'TNFRSF12A', 'CTGF', 'GGTA1', 'WWC2', 'ANXA5', 'TACSTD2', 'ANXA10', 'EREG', 'IL33', 'ANXA1', 'ANXA3']\n",
    "sc.tl.score_genes(adata, yap_targets, score_name='YAP_targets')\n",
    "\n",
    "sc.settings.verbosity = k"
   ]
  },
  {
   "cell_type": "code",
   "execution_count": null,
   "metadata": {
    "ExecuteTime": {
     "end_time": "2020-12-02T14:58:45.105196Z",
     "start_time": "2020-12-02T14:56:52.738975Z"
    }
   },
   "outputs": [],
   "source": [
    "scv.pp.pca(adata)\n",
    "scv.pp.neighbors(adata)\n",
    "# scv.tl.umap(adata)\n",
    "\n",
    "# umap on 2000 HVGs\n",
    "bdata=scv.pp.filter_genes_dispersion(adata, n_top_genes=2000, copy=True)\n",
    "scv.pp.pca(bdata)\n",
    "scv.pp.neighbors(bdata)\n",
    "scv.tl.umap(bdata)\n",
    "adata.obsm['X_umap']=bdata.obsm['X_umap']\n",
    "del bdata\n",
    "\n",
    "scv.pp.moments(adata, n_pcs=30, n_neighbors=30)\n",
    "scv.tl.velocity(adata)\n",
    "scv.tl.velocity_graph(adata)"
   ]
  },
  {
   "cell_type": "code",
   "execution_count": null,
   "metadata": {
    "ExecuteTime": {
     "end_time": "2020-12-02T14:58:46.206117Z",
     "start_time": "2020-12-02T14:58:45.168764Z"
    }
   },
   "outputs": [],
   "source": [
    "scv.pl.scatter(adata, color='perturbation')"
   ]
  },
  {
   "cell_type": "code",
   "execution_count": null,
   "metadata": {
    "ExecuteTime": {
     "end_time": "2020-12-02T13:45:35.315977Z",
     "start_time": "2020-12-02T13:45:00.281743Z"
    },
    "code_folding": [],
    "scrolled": false
   },
   "outputs": [],
   "source": [
    "color=[\n",
    "    'Stem_Lgr5_ISC-Munoz', 'Stem_Lgr5_ISC-Merlos', 'Stem', 'Enterocytes 1', 'Enterocytes 2', 'TC1', 'TC4', 'Goblet',\n",
    "    'phase', 'percent_ribosomal', 'percent.mt', 'perturbation', 'YAP_targets'\n",
    "]\n",
    "\n",
    "scv.pl.velocity_embedding_stream(adata, basis='umap', color=color, legend_loc='right_margin', perc=[1,99], ncols=4)"
   ]
  },
  {
   "cell_type": "code",
   "execution_count": null,
   "metadata": {
    "ExecuteTime": {
     "end_time": "2020-11-30T15:22:10.791683Z",
     "start_time": "2020-11-30T15:21:52.390136Z"
    }
   },
   "outputs": [],
   "source": [
    "axs=scv.pl.scatter(adata, basis='umap', color=color, legend_loc='right_margin', perc=[1,99], ncols=4, show=False, s=100)\n",
    "axs=scv.pl.velocity_embedding(adata, basis='umap', color=color, legend_loc='right_margin', perc=[1,99], ncols=4, show=False, ax=axs, size=0, arrow_length=5, arrow_size=5)"
   ]
  },
  {
   "cell_type": "code",
   "execution_count": null,
   "metadata": {
    "ExecuteTime": {
     "end_time": "2020-12-02T15:00:16.370172Z",
     "start_time": "2020-12-02T15:00:10.925454Z"
    }
   },
   "outputs": [],
   "source": [
    "# restrict KNN connectivities to within perturbations only\n",
    "from scipy.sparse import csr_matrix\n",
    "adata = adata[np.argsort(adata.obs.perturbation)].copy()  # sort by perturbation\n",
    "A=adata.obsp['connectivities'].A\n",
    "pl.imshow(A*5000, vmax=0.1)\n",
    "pl.show()\n",
    "for pert in pd.unique(adata.obs.perturbation):\n",
    "    a=np.where(adata.obs.perturbation==pert)[0]\n",
    "    b=np.where(adata.obs.perturbation!=pert)[0]\n",
    "    # remove neighborhoods\n",
    "    A[np.min(a):np.max(a), b]=0\n",
    "    A[b, np.min(a):np.max(a)]=0\n",
    "adata.obsp['connectivities'] = csr_matrix(A)\n",
    "pl.imshow(A*5000, vmax=0.1)"
   ]
  },
  {
   "cell_type": "code",
   "execution_count": null,
   "metadata": {
    "ExecuteTime": {
     "end_time": "2020-12-02T15:04:58.893701Z",
     "start_time": "2020-12-02T15:04:56.635497Z"
    }
   },
   "outputs": [],
   "source": [
    "scv.pp.moments(adata)"
   ]
  },
  {
   "cell_type": "code",
   "execution_count": null,
   "metadata": {
    "ExecuteTime": {
     "end_time": "2020-12-02T15:05:30.507698Z",
     "start_time": "2020-12-02T15:05:01.670322Z"
    }
   },
   "outputs": [],
   "source": [
    "pert = 'DMSO'\n",
    "scv.tl.velocity(adata, groupby='perturbation', groups=[pert])\n",
    "scv.tl.velocity_graph(adata)"
   ]
  },
  {
   "cell_type": "code",
   "execution_count": null,
   "metadata": {
    "ExecuteTime": {
     "end_time": "2020-12-02T15:05:41.443380Z",
     "start_time": "2020-12-02T15:05:30.929012Z"
    }
   },
   "outputs": [],
   "source": [
    "# this convenient plot only works if color is perturbation...\n",
    "scv.pl.velocity_embedding_stream(adata, basis='umap', color='perturbation', legend_loc='right_margin', perc=[1,99], ncols=4, groups=[pert])"
   ]
  },
  {
   "cell_type": "code",
   "execution_count": null,
   "metadata": {
    "ExecuteTime": {
     "end_time": "2020-12-02T15:05:45.415571Z",
     "start_time": "2020-12-02T15:05:41.537372Z"
    }
   },
   "outputs": [],
   "source": [
    "colors=['phase', 'Stem'\n",
    "    #'Stem_Lgr5_ISC-Munoz', 'Stem_Lgr5_ISC-Merlos', 'Stem', 'Enterocytes 1', 'Enterocytes 2', 'TC1', 'TC4', 'Goblet',\n",
    "    #'phase', 'percent_ribosomal', 'percent.mt', 'perturbation', 'YAP_targets'\n",
    "]\n",
    "n=len(colors)\n",
    "axs=scv.pl.scatter(adata, basis='umap', title=list(np.array(np.arange(0,n), dtype=str)), ncols=4, show=False, size=250, alpha=0, dpi=200)\n",
    "for ax, color in zip(axs, colors):\n",
    "    scv.pl.scatter(adata[adata.obs.perturbation!=pert], basis='umap', color='grey', show=False, size=250, alpha=0.07, dpi=200, ax=ax)\n",
    "    ax=scv.pl.velocity_embedding_grid(adata[adata.obs.perturbation==pert], basis='umap', size=250, color=color, legend_loc='right_margin', perc=[1,99], \n",
    "                                      ncols=4, show=False, ax=ax, arrow_size=5, arrow_length=5, arrow_color='k', density=0.4, dpi=200, min_mass=20, alpha=.4)\n",
    "# fig=pl.gcf()\n",
    "# pl.savefig(\"test.png\")"
   ]
  },
  {
   "cell_type": "code",
   "execution_count": null,
   "metadata": {
    "ExecuteTime": {
     "end_time": "2020-12-02T15:06:54.104019Z",
     "start_time": "2020-12-02T15:05:45.493429Z"
    }
   },
   "outputs": [],
   "source": [
    "pert='EGFR'\n",
    "\n",
    "scv.tl.velocity(adata, groupby='perturbation', groups=[pert])\n",
    "scv.tl.velocity_graph(adata)\n",
    "\n",
    "colors=['phase', 'Stem_Lgr5_ISC-Munoz', 'Stem_Lgr5_ISC-Merlos', 'Stem', \n",
    "        # 'Enterocytes 1', 'Enterocytes 2', 'TC1', 'TC4', 'Goblet',\n",
    "    #'phase', 'percent_ribosomal', 'percent.mt', 'perturbation', 'YAP_targets'\n",
    "]\n",
    "n=len(colors)\n",
    "axs=scv.pl.scatter(adata, basis='umap', title=list(np.array(np.arange(0,n), dtype=str)), ncols=4, show=False, size=250, alpha=0)\n",
    "for ax, color in zip(axs, colors):\n",
    "    scv.pl.scatter(adata[adata.obs.perturbation!=pert].copy(), basis='umap', color='grey', show=False, size=250, alpha=0.07, ax=ax)\n",
    "    ax=scv.pl.velocity_embedding_grid(adata[adata.obs.perturbation==pert].copy(), basis='umap', size=250, color=color, legend_loc='right_margin', perc=[1,99], \n",
    "                                      ncols=4, show=False, ax=ax, arrow_size=5, arrow_length=5, arrow_color='k', density=0.4, min_mass=20, alpha=.4)\n",
    "#fig=pl.gcf()\n",
    "#pl.savefig(\"test.png\")"
   ]
  },
  {
   "cell_type": "code",
   "execution_count": null,
   "metadata": {
    "ExecuteTime": {
     "end_time": "2020-12-02T15:39:07.599155Z",
     "start_time": "2020-12-02T15:38:42.590719Z"
    },
    "scrolled": false
   },
   "outputs": [],
   "source": [
    "for pert in pd.unique(adata.obs.perturbation[:2]):\n",
    "    scv.tl.velocity(adata, groupby='perturbation', groups=[pert])\n",
    "    scv.tl.velocity_graph(adata)\n",
    "\n",
    "    colors=['phase', 'Stem_Lgr5_ISC-Munoz', 'Stem_Lgr5_ISC-Merlos', 'Stem', \n",
    "            # 'Enterocytes 1', 'Enterocytes 2', 'TC1', 'TC4', 'Goblet',\n",
    "        #'phase', 'percent_ribosomal', 'percent.mt', 'perturbation', 'YAP_targets'\n",
    "    ]\n",
    "    n=len(colors)\n",
    "    axs=scv.pl.scatter(adata, basis='umap', title=list(np.array(np.arange(0,n), dtype=str)), ncols=4, show=False, size=250, alpha=0)\n",
    "    bdata = adata[adata.obs.perturbation==pert].copy()\n",
    "    for ax, color in zip(axs, colors):\n",
    "        scv.pl.scatter(bdata, basis='umap', color='grey', show=False, size=250, alpha=0.07, ax=ax)\n",
    "        ax=scv.pl.velocity_embedding_grid(bdata, basis='umap', size=250, color=color, legend_loc='right_margin', perc=[1,99], \n",
    "                                          ncols=4, show=False, ax=ax, arrow_size=5, arrow_length=5, arrow_color='k', density=0.4, min_mass=20, alpha=.4, title=donor+' '+pert+' '+color)\n",
    "    pl.show()\n",
    "    fig=pl.gcf()\n",
    "    pl.savefig(donor+'_'+pert+\".png\")"
   ]
  },
  {
   "cell_type": "code",
   "execution_count": null,
   "metadata": {
    "ExecuteTime": {
     "end_time": "2020-11-30T17:03:59.638968Z",
     "start_time": "2020-11-30T17:03:58.920889Z"
    }
   },
   "outputs": [],
   "source": [
    "scv.pl.velocity_embedding(adata, basis='umap', color='perturbation', legend_loc='right_margin', perc=[1,99], ncols=4, groups=['DMSO', 'BRAF'], size=200, arrow_size=200, arrow_length=7)"
   ]
  },
  {
   "cell_type": "code",
   "execution_count": null,
   "metadata": {
    "ExecuteTime": {
     "end_time": "2020-11-30T17:20:18.143826Z",
     "start_time": "2020-11-30T17:20:17.399029Z"
    }
   },
   "outputs": [],
   "source": [
    "scv.pl.velocity_embedding_grid(adata, basis='umap', color='perturbation', legend_loc='right_margin', perc=[1,99], ncols=4, groups=['DMSO', 'BRAF'], size=200, arrow_size=5, arrow_length=5, density=0.2, min_mass=20, arrow_color='k')"
   ]
  },
  {
   "cell_type": "markdown",
   "metadata": {
    "heading_collapsed": true
   },
   "source": [
    "### debug h5"
   ]
  },
  {
   "cell_type": "code",
   "execution_count": null,
   "metadata": {
    "ExecuteTime": {
     "end_time": "2020-11-30T21:19:08.102436Z",
     "start_time": "2020-11-30T21:19:06.121925Z"
    },
    "hidden": true
   },
   "outputs": [],
   "source": [
    "# load preformated and filtered data (not normalized and logscaled)\n",
    "donor = donors[0]\n",
    "adata=sc.read(data_path+'by_donors/SLAM_'+donor+'.h5')"
   ]
  },
  {
   "cell_type": "code",
   "execution_count": null,
   "metadata": {
    "ExecuteTime": {
     "end_time": "2020-11-30T21:19:12.538142Z",
     "start_time": "2020-11-30T21:19:12.521276Z"
    },
    "hidden": true
   },
   "outputs": [],
   "source": [
    "adata"
   ]
  },
  {
   "cell_type": "code",
   "execution_count": null,
   "metadata": {
    "ExecuteTime": {
     "end_time": "2020-11-30T21:19:08.299171Z",
     "start_time": "2020-11-30T21:19:08.179514Z"
    },
    "hidden": true
   },
   "outputs": [],
   "source": [
    "# load preformated and filtered data (not normalized and logscaled)\n",
    "donor = donors[0]\n",
    "cdata=sc.read(data_path+'by_donors/from_cluster/SLAM_'+donor+'.h5')  # from cluster"
   ]
  },
  {
   "cell_type": "code",
   "execution_count": null,
   "metadata": {
    "ExecuteTime": {
     "end_time": "2020-11-30T21:19:15.928021Z",
     "start_time": "2020-11-30T21:19:15.920042Z"
    },
    "hidden": true
   },
   "outputs": [],
   "source": [
    "cdata"
   ]
  },
  {
   "cell_type": "code",
   "execution_count": null,
   "metadata": {
    "ExecuteTime": {
     "end_time": "2020-11-30T21:22:20.712483Z",
     "start_time": "2020-11-30T21:22:17.697721Z"
    },
    "hidden": true
   },
   "outputs": [],
   "source": [
    "# load preformated and filtered data (not normalized and logscaled)\n",
    "donor = donors[0]\n",
    "xdata=sc.read(data_path+'by_donors/SLAM_'+donor+'preprocessed.h5')"
   ]
  },
  {
   "cell_type": "code",
   "execution_count": null,
   "metadata": {
    "ExecuteTime": {
     "end_time": "2020-11-30T21:22:22.423204Z",
     "start_time": "2020-11-30T21:22:22.416718Z"
    },
    "hidden": true
   },
   "outputs": [],
   "source": [
    "xdata"
   ]
  },
  {
   "cell_type": "markdown",
   "metadata": {
    "heading_collapsed": true
   },
   "source": [
    "## build function"
   ]
  },
  {
   "cell_type": "code",
   "execution_count": null,
   "metadata": {
    "ExecuteTime": {
     "end_time": "2020-11-30T14:09:28.825172Z",
     "start_time": "2020-11-30T14:09:27.809445Z"
    },
    "hidden": true
   },
   "outputs": [],
   "source": [
    "def plot(adata, donor, subset=None, vsubset=None, single_genes=None, singles_too=False):\n",
    "    subset = [subset] if type(subset) is str else subset\n",
    "    vsubset = [vsubset] if type(vsubset) is str else vsubset\n",
    "    \n",
    "    adata = adata[np.isin(adata.obs.perturbation, subset)].copy() if subset is not None else adata\n",
    "    adata.layers['unspliced']=adata.layers['new']\n",
    "    adata.layers['spliced']=adata.layers['old']\n",
    "    \n",
    "    # prepare\n",
    "    sc.pp.normalize_total(adata)\n",
    "    scv.pp.normalize_per_cell(adata)\n",
    "    scv.pp.log1p(adata)\n",
    "    scv.pp.pca(adata)\n",
    "    scv.pp.neighbors(adata)\n",
    "\n",
    "    # umap on 2000 HVGs\n",
    "    bdata=scv.pp.filter_genes_dispersion(adata, n_top_genes=2000, copy=True)\n",
    "    scv.pp.pca(bdata)\n",
    "    scv.pp.neighbors(bdata)\n",
    "    scv.tl.umap(bdata)\n",
    "    adata.obsm['X_umap']=bdata.obsm['X_umap']\n",
    "    del bdata\n",
    "    \n",
    "    # velocity\n",
    "    scv.pp.moments(adata, n_pcs=30, n_neighbors=30)\n",
    "    if vsubset is not None:\n",
    "        scv.tl.velocity(adata, groupby='perturbation', groups=vsubset)\n",
    "    else:\n",
    "        scv.tl.velocity(adata)\n",
    "    scv.tl.velocity_graph(adata)\n",
    "    \n",
    "    # Annotations\n",
    "    k = sc.settings.verbosity\n",
    "    sc.settings.verbosity = 0\n",
    "    # Stem sig\n",
    "    tab=pd.read_excel(signatures_path+'cell_type_markers/CRC-related_stem_cell_signatures.xlsx', header=0)\n",
    "    tab = tab.drop(0)\n",
    "    sigs = {'Stem_'+x: list(tab[x][~pd.isna(tab[x])].values) for x in tab.columns}\n",
    "    for ct in ['Stem_Lgr5_ISC-Munoz', 'Stem_Lgr5_ISC-Merlos']:  #sigs.keys():\n",
    "        sc.tl.score_genes(adata, sigs[ct], score_name=ct)\n",
    "\n",
    "    # Flo sig\n",
    "    tab=pd.read_excel(signatures_path+'cell_type_markers/colonoid_cancer_uhlitz_markers.xlsx', header=1)\n",
    "    flo_sigs={x: list(tab[tab['cell_type_epi']==x].gene.values) for x in pd.unique(tab['cell_type_epi'])}\n",
    "    for ct in ['Stem', 'Enterocytes 1', 'Enterocytes 2', 'TC1', 'TC4', 'Goblet']:  #flo_sigs.keys():\n",
    "        sc.tl.score_genes(adata, flo_sigs[ct], score_name=ct)\n",
    "\n",
    "    # cc score\n",
    "    cell_cycle_genes = [x.strip() for x in open(signatures_path+'cell_cycle_genes/regev_lab_cell_cycle_genes.txt')]\n",
    "    s_genes = cell_cycle_genes[:43]\n",
    "    g2m_genes = cell_cycle_genes[43:]\n",
    "    cell_cycle_genes = [x for x in cell_cycle_genes if x in adata.var_names]\n",
    "    adata.obs_names_make_unique()\n",
    "    sc.tl.score_genes_cell_cycle(adata, s_genes=s_genes, g2m_genes=g2m_genes)\n",
    "\n",
    "    # YAP target from Markus Morkel, Liberali Lab\n",
    "    yap_targets = ['CTGF', 'GGTA1', 'WWC2', 'ANXA8', 'CLU', 'CXCL16', 'IL33', 'LY6A', 'LY6C1', 'MSLN', 'TNFRSF12A', 'CTGF', 'GGTA1', 'WWC2', 'ANXA5', 'TACSTD2', 'ANXA10', 'EREG', 'IL33', 'ANXA1', 'ANXA3']\n",
    "    sc.tl.score_genes(adata, yap_targets, score_name='YAP_targets')\n",
    "    sc.settings.verbosity = k\n",
    "    \n",
    "    color=[\n",
    "        'Stem_Lgr5_ISC-Munoz', 'Stem_Lgr5_ISC-Merlos', 'Stem', 'Enterocytes 1', 'Enterocytes 2', 'TC1', 'TC4', 'Goblet',\n",
    "        'phase', 'percent_ribosomal', 'percent.mt', 'perturbation', 'YAP_targets'\n",
    "    ]\n",
    "\n",
    "    scv.pl.velocity_embedding_stream(adata, basis='umap', color=color, legend_loc='right_margin', perc=[1,99], ncols=4, title=[donor+' '+c for c in color])\n",
    "    scv.pl.velocity_embedding_stream(adata, basis='umap', color=single_genes, legend_loc='right_margin', perc=[1,99], ncols=4, title=[donor+' '+c for c in color])\n",
    "    \n",
    "    if singles_too:\n",
    "        for perturbation in pd.unique(adata.obs.perturbation):\n",
    "            # velocity\n",
    "            scv.tl.velocity(adata, groupby='perturbation', groups=perturbation)"
   ]
  },
  {
   "cell_type": "code",
   "execution_count": null,
   "metadata": {
    "ExecuteTime": {
     "end_time": "2020-11-30T14:09:29.066096Z",
     "start_time": "2020-11-30T14:09:28.887336Z"
    },
    "hidden": true
   },
   "outputs": [],
   "source": [
    "donor = donors[-1]\n",
    "adata=sc.read(data_path+'by_donors/SLAM_'+donor+'.h5')"
   ]
  },
  {
   "cell_type": "code",
   "execution_count": null,
   "metadata": {
    "ExecuteTime": {
     "end_time": "2020-11-30T14:12:34.749894Z",
     "start_time": "2020-11-30T14:09:29.184844Z"
    },
    "hidden": true
   },
   "outputs": [],
   "source": [
    "plot(adata, donor, single_genes=single_genes)"
   ]
  },
  {
   "cell_type": "code",
   "execution_count": null,
   "metadata": {
    "ExecuteTime": {
     "end_time": "2020-11-30T14:27:18.276886Z",
     "start_time": "2020-11-30T14:27:18.201206Z"
    },
    "hidden": true
   },
   "outputs": [],
   "source": [
    "scv.pl.velocity_embedding_stream(adata, basis='umap', color=color, legend_loc='right_margin', perc=[1,99], ncols=4, title=[donor+' '+c for c in color], groups=['DMSO'])"
   ]
  },
  {
   "cell_type": "markdown",
   "metadata": {
    "heading_collapsed": true
   },
   "source": [
    "# Systematic"
   ]
  },
  {
   "cell_type": "markdown",
   "metadata": {
    "heading_collapsed": true,
    "hidden": true
   },
   "source": [
    "## All perturbs"
   ]
  },
  {
   "cell_type": "code",
   "execution_count": null,
   "metadata": {
    "ExecuteTime": {
     "end_time": "2020-11-27T14:42:13.366483Z",
     "start_time": "2020-11-27T14:32:48.757366Z"
    },
    "code_folding": [],
    "hidden": true,
    "scrolled": false
   },
   "outputs": [],
   "source": [
    "# load preformated and filtered data (not normalized and logscaled)\n",
    "for donor in tqdm_notebook(donors):\n",
    "    adata=sc.read(data_path+'by_donors/SLAM_'+donor+'.h5')\n",
    "    #adata = adata[~np.isin(adata.obs.perturbation, ['DMSO', 'BRAF'])].copy()\n",
    "    adata.layers['unspliced']=adata.layers['new']\n",
    "    adata.layers['spliced']=adata.layers['old']\n",
    "    #scv.pl.proportions(adata, dpi=200, layers=['old', 'new'])\n",
    "    sc.pp.normalize_total(adata)\n",
    "    scv.pp.normalize_per_cell(adata)\n",
    "    #scv.pp.filter_genes_dispersion(adata, n_top_genes=2000)\n",
    "    scv.pp.log1p(adata)\n",
    "    scv.pp.pca(adata)\n",
    "    scv.pp.neighbors(adata)\n",
    "    # scv.tl.umap(adata)\n",
    "\n",
    "    # umap on 2000 HVGs\n",
    "    bdata=scv.pp.filter_genes_dispersion(adata, n_top_genes=2000, copy=True)\n",
    "    scv.pp.pca(bdata)\n",
    "    scv.pp.neighbors(bdata)\n",
    "    scv.tl.umap(bdata)\n",
    "    adata.obsm['X_umap']=bdata.obsm['X_umap']\n",
    "    del bdata\n",
    "\n",
    "    scv.pp.moments(adata, n_pcs=30, n_neighbors=30)\n",
    "    scv.tl.velocity(adata)\n",
    "    scv.tl.velocity_graph(adata)\n",
    "    \n",
    "    # Annotations\n",
    "    k = sc.settings.verbosity\n",
    "    sc.settings.verbosity = 0\n",
    "    # Stem sig\n",
    "    tab=pd.read_excel(signatures_path+'cell_type_markers/CRC-related_stem_cell_signatures.xlsx', header=0)\n",
    "    tab = tab.drop(0)\n",
    "    sigs = {'Stem_'+x: list(tab[x][~pd.isna(tab[x])].values) for x in tab.columns}\n",
    "    for ct in sigs.keys():\n",
    "        sc.tl.score_genes(adata, sigs[ct], score_name=ct)\n",
    "    # Flo sig\n",
    "    tab=pd.read_excel(signatures_path+'cell_type_markers/colonoid_cancer_uhlitz_markers.xlsx', header=1)\n",
    "    flo_sigs={x: list(tab[tab['cell_type_epi']==x].gene.values) for x in pd.unique(tab['cell_type_epi'])}\n",
    "    for ct in flo_sigs.keys():\n",
    "        sc.tl.score_genes(adata, flo_sigs[ct], score_name=ct)\n",
    "    # cc score\n",
    "    cell_cycle_genes = [x.strip() for x in open(signatures_path+'cell_cycle_genes/regev_lab_cell_cycle_genes.txt')]\n",
    "    s_genes = cell_cycle_genes[:43]\n",
    "    g2m_genes = cell_cycle_genes[43:]\n",
    "    cell_cycle_genes = [x for x in cell_cycle_genes if x in adata.var_names]\n",
    "    adata.obs_names_make_unique()\n",
    "    sc.tl.score_genes_cell_cycle(adata, s_genes=s_genes, g2m_genes=g2m_genes)\n",
    "    sc.settings.verbosity = k\n",
    "    \n",
    "    color=[\n",
    "        'Stem_Lgr5_ISC-Munoz', 'Stem_Lgr5_ISC-Merlos', 'Stem', 'Enterocytes 2',\n",
    "        'phase', 'percent_ribosomal', 'percent.mt', 'perturbation'\n",
    "    ]\n",
    "\n",
    "    scv.pl.velocity_embedding_stream(adata, basis='umap', color=color, legend_loc='right_margin', perc=[1,99], ncols=4, title=[donor+' '+c for c in color])"
   ]
  },
  {
   "cell_type": "code",
   "execution_count": null,
   "metadata": {
    "ExecuteTime": {
     "end_time": "2020-11-27T16:39:46.991754Z",
     "start_time": "2020-11-27T16:39:46.760270Z"
    },
    "hidden": true
   },
   "outputs": [],
   "source": [
    "adata"
   ]
  },
  {
   "cell_type": "markdown",
   "metadata": {
    "heading_collapsed": true,
    "hidden": true
   },
   "source": [
    "## Everything with Mek or EGFR"
   ]
  },
  {
   "cell_type": "code",
   "execution_count": null,
   "metadata": {
    "ExecuteTime": {
     "end_time": "2020-11-27T15:01:57.501130Z",
     "start_time": "2020-11-27T14:55:09.239880Z"
    },
    "code_folding": [
     0
    ],
    "hidden": true,
    "scrolled": false
   },
   "outputs": [],
   "source": [
    "# load preformated and filtered data (not normalized and logscaled)\n",
    "for donor in tqdm_notebook(donors):\n",
    "    adata=sc.read(data_path+'by_donors/SLAM_'+donor+'.h5')\n",
    "    adata = adata[~np.isin(adata.obs.perturbation, ['DMSO', 'BRAF'])].copy()\n",
    "    adata.layers['unspliced']=adata.layers['new']\n",
    "    adata.layers['spliced']=adata.layers['old']\n",
    "    #scv.pl.proportions(adata, dpi=200, layers=['old', 'new'])\n",
    "    sc.pp.normalize_total(adata)\n",
    "    scv.pp.normalize_per_cell(adata)\n",
    "    #scv.pp.filter_genes_dispersion(adata, n_top_genes=2000)\n",
    "    scv.pp.log1p(adata)\n",
    "    scv.pp.pca(adata)\n",
    "    scv.pp.neighbors(adata)\n",
    "    # scv.tl.umap(adata)\n",
    "\n",
    "    # umap on 2000 HVGs\n",
    "    bdata=scv.pp.filter_genes_dispersion(adata, n_top_genes=2000, copy=True)\n",
    "    scv.pp.pca(bdata)\n",
    "    scv.pp.neighbors(bdata)\n",
    "    scv.tl.umap(bdata)\n",
    "    adata.obsm['X_umap']=bdata.obsm['X_umap']\n",
    "    del bdata\n",
    "\n",
    "    scv.pp.moments(adata, n_pcs=30, n_neighbors=30)\n",
    "    scv.tl.velocity(adata)\n",
    "    scv.tl.velocity_graph(adata)\n",
    "    \n",
    "    # Annotations\n",
    "    k = sc.settings.verbosity\n",
    "    sc.settings.verbosity = 0\n",
    "    # Stem sig\n",
    "    tab=pd.read_excel(signatures_path+'cell_type_markers/CRC-related_stem_cell_signatures.xlsx', header=0)\n",
    "    tab = tab.drop(0)\n",
    "    sigs = {'Stem_'+x: list(tab[x][~pd.isna(tab[x])].values) for x in tab.columns}\n",
    "    for ct in sigs.keys():\n",
    "        sc.tl.score_genes(adata, sigs[ct], score_name=ct)\n",
    "    # Flo sig\n",
    "    tab=pd.read_excel(signatures_path+'cell_type_markers/colonoid_cancer_uhlitz_markers.xlsx', header=1)\n",
    "    flo_sigs={x: list(tab[tab['cell_type_epi']==x].gene.values) for x in pd.unique(tab['cell_type_epi'])}\n",
    "    for ct in flo_sigs.keys():\n",
    "        sc.tl.score_genes(adata, flo_sigs[ct], score_name=ct)\n",
    "    # cc score\n",
    "    cell_cycle_genes = [x.strip() for x in open(signatures_path+'cell_cycle_genes/regev_lab_cell_cycle_genes.txt')]\n",
    "    s_genes = cell_cycle_genes[:43]\n",
    "    g2m_genes = cell_cycle_genes[43:]\n",
    "    cell_cycle_genes = [x for x in cell_cycle_genes if x in adata.var_names]\n",
    "    adata.obs_names_make_unique()\n",
    "    sc.tl.score_genes_cell_cycle(adata, s_genes=s_genes, g2m_genes=g2m_genes)\n",
    "    sc.settings.verbosity = k\n",
    "    \n",
    "    color=[\n",
    "        'Stem_Lgr5_ISC-Munoz', 'Stem_Lgr5_ISC-Merlos', 'Stem', 'Enterocytes 2',\n",
    "        'phase', 'percent_ribosomal', 'percent.mt', 'perturbation'\n",
    "    ]\n",
    "\n",
    "    scv.pl.velocity_embedding_stream(adata, basis='umap', color=color, legend_loc='right_margin', perc=[1,99], ncols=4, title=[donor+' '+c for c in color])"
   ]
  },
  {
   "cell_type": "markdown",
   "metadata": {
    "heading_collapsed": true,
    "hidden": true
   },
   "source": [
    "## Everything without MEK and without EGFR"
   ]
  },
  {
   "cell_type": "code",
   "execution_count": null,
   "metadata": {
    "ExecuteTime": {
     "end_time": "2020-11-27T15:07:07.339718Z",
     "start_time": "2020-11-27T15:01:57.550997Z"
    },
    "code_folding": [
     0
    ],
    "hidden": true,
    "scrolled": false
   },
   "outputs": [],
   "source": [
    "# load preformated and filtered data (not normalized and logscaled)\n",
    "for donor in tqdm_notebook(donors):\n",
    "    adata=sc.read(data_path+'by_donors/SLAM_'+donor+'.h5')\n",
    "    adata = adata[np.isin(adata.obs.perturbation, ['DMSO', 'BRAF'])].copy()\n",
    "    adata.layers['unspliced']=adata.layers['new']\n",
    "    adata.layers['spliced']=adata.layers['old']\n",
    "    #scv.pl.proportions(adata, dpi=200, layers=['old', 'new'])\n",
    "    sc.pp.normalize_total(adata)\n",
    "    scv.pp.normalize_per_cell(adata)\n",
    "    #scv.pp.filter_genes_dispersion(adata, n_top_genes=2000)\n",
    "    scv.pp.log1p(adata)\n",
    "    scv.pp.pca(adata)\n",
    "    scv.pp.neighbors(adata)\n",
    "    # scv.tl.umap(adata)\n",
    "\n",
    "    # umap on 2000 HVGs\n",
    "    bdata=scv.pp.filter_genes_dispersion(adata, n_top_genes=2000, copy=True)\n",
    "    scv.pp.pca(bdata)\n",
    "    scv.pp.neighbors(bdata)\n",
    "    scv.tl.umap(bdata)\n",
    "    adata.obsm['X_umap']=bdata.obsm['X_umap']\n",
    "    del bdata\n",
    "\n",
    "    scv.pp.moments(adata, n_pcs=30, n_neighbors=30)\n",
    "    scv.tl.velocity(adata)\n",
    "    scv.tl.velocity_graph(adata)\n",
    "    \n",
    "    # Annotations\n",
    "    k = sc.settings.verbosity\n",
    "    sc.settings.verbosity = 0\n",
    "    # Stem sig\n",
    "    tab=pd.read_excel(signatures_path+'cell_type_markers/CRC-related_stem_cell_signatures.xlsx', header=0)\n",
    "    tab = tab.drop(0)\n",
    "    sigs = {'Stem_'+x: list(tab[x][~pd.isna(tab[x])].values) for x in tab.columns}\n",
    "    for ct in sigs.keys():\n",
    "        sc.tl.score_genes(adata, sigs[ct], score_name=ct)\n",
    "    # Flo sig\n",
    "    tab=pd.read_excel(signatures_path+'cell_type_markers/colonoid_cancer_uhlitz_markers.xlsx', header=1)\n",
    "    flo_sigs={x: list(tab[tab['cell_type_epi']==x].gene.values) for x in pd.unique(tab['cell_type_epi'])}\n",
    "    for ct in flo_sigs.keys():\n",
    "        sc.tl.score_genes(adata, flo_sigs[ct], score_name=ct)\n",
    "    # cc score\n",
    "    cell_cycle_genes = [x.strip() for x in open(signatures_path+'cell_cycle_genes/regev_lab_cell_cycle_genes.txt')]\n",
    "    s_genes = cell_cycle_genes[:43]\n",
    "    g2m_genes = cell_cycle_genes[43:]\n",
    "    cell_cycle_genes = [x for x in cell_cycle_genes if x in adata.var_names]\n",
    "    adata.obs_names_make_unique()\n",
    "    sc.tl.score_genes_cell_cycle(adata, s_genes=s_genes, g2m_genes=g2m_genes)\n",
    "    sc.settings.verbosity = k\n",
    "    \n",
    "    color=[\n",
    "        'Stem_Lgr5_ISC-Munoz', 'Stem_Lgr5_ISC-Merlos', 'Stem', 'Enterocytes 2',\n",
    "        'phase', 'percent_ribosomal', 'percent.mt', 'perturbation'\n",
    "    ]\n",
    "\n",
    "    scv.pl.velocity_embedding_stream(adata, basis='umap', color=color, legend_loc='right_margin', perc=[1,99], ncols=4, title=[donor+' '+c for c in color])"
   ]
  },
  {
   "cell_type": "markdown",
   "metadata": {
    "heading_collapsed": true,
    "hidden": true
   },
   "source": [
    "## DMSO only"
   ]
  },
  {
   "cell_type": "code",
   "execution_count": null,
   "metadata": {
    "ExecuteTime": {
     "end_time": "2020-11-27T15:10:44.694046Z",
     "start_time": "2020-11-27T15:07:07.413522Z"
    },
    "code_folding": [
     0
    ],
    "hidden": true,
    "scrolled": false
   },
   "outputs": [],
   "source": [
    "# load preformated and filtered data (not normalized and logscaled)\n",
    "for donor in tqdm_notebook(donors):\n",
    "    adata=sc.read(data_path+'by_donors/SLAM_'+donor+'.h5')\n",
    "    adata = adata[np.isin(adata.obs.perturbation, ['DMSO'])].copy()\n",
    "    adata.layers['unspliced']=adata.layers['new']\n",
    "    adata.layers['spliced']=adata.layers['old']\n",
    "    #scv.pl.proportions(adata, dpi=200, layers=['old', 'new'])\n",
    "    sc.pp.normalize_total(adata)\n",
    "    scv.pp.normalize_per_cell(adata)\n",
    "    #scv.pp.filter_genes_dispersion(adata, n_top_genes=2000)\n",
    "    scv.pp.log1p(adata)\n",
    "    scv.pp.pca(adata)\n",
    "    scv.pp.neighbors(adata)\n",
    "    # scv.tl.umap(adata)\n",
    "\n",
    "    # umap on 2000 HVGs\n",
    "    bdata=scv.pp.filter_genes_dispersion(adata, n_top_genes=2000, copy=True)\n",
    "    scv.pp.pca(bdata)\n",
    "    scv.pp.neighbors(bdata)\n",
    "    scv.tl.umap(bdata)\n",
    "    adata.obsm['X_umap']=bdata.obsm['X_umap']\n",
    "    del bdata\n",
    "\n",
    "    scv.pp.moments(adata, n_pcs=30, n_neighbors=30)\n",
    "    scv.tl.velocity(adata)\n",
    "    scv.tl.velocity_graph(adata)\n",
    "    \n",
    "    # Annotations\n",
    "    k = sc.settings.verbosity\n",
    "    sc.settings.verbosity = 0\n",
    "    # Stem sig\n",
    "    tab=pd.read_excel(signatures_path+'cell_type_markers/CRC-related_stem_cell_signatures.xlsx', header=0)\n",
    "    tab = tab.drop(0)\n",
    "    sigs = {'Stem_'+x: list(tab[x][~pd.isna(tab[x])].values) for x in tab.columns}\n",
    "    for ct in sigs.keys():\n",
    "        sc.tl.score_genes(adata, sigs[ct], score_name=ct)\n",
    "    # Flo sig\n",
    "    tab=pd.read_excel(signatures_path+'cell_type_markers/colonoid_cancer_uhlitz_markers.xlsx', header=1)\n",
    "    flo_sigs={x: list(tab[tab['cell_type_epi']==x].gene.values) for x in pd.unique(tab['cell_type_epi'])}\n",
    "    for ct in flo_sigs.keys():\n",
    "        sc.tl.score_genes(adata, flo_sigs[ct], score_name=ct)\n",
    "    # cc score\n",
    "    cell_cycle_genes = [x.strip() for x in open(signatures_path+'cell_cycle_genes/regev_lab_cell_cycle_genes.txt')]\n",
    "    s_genes = cell_cycle_genes[:43]\n",
    "    g2m_genes = cell_cycle_genes[43:]\n",
    "    cell_cycle_genes = [x for x in cell_cycle_genes if x in adata.var_names]\n",
    "    adata.obs_names_make_unique()\n",
    "    sc.tl.score_genes_cell_cycle(adata, s_genes=s_genes, g2m_genes=g2m_genes)\n",
    "    sc.settings.verbosity = k\n",
    "    \n",
    "    color=[\n",
    "        'Stem_Lgr5_ISC-Munoz', 'Stem_Lgr5_ISC-Merlos', 'Stem', 'Enterocytes 2',\n",
    "        'phase', 'percent_ribosomal', 'percent.mt', 'perturbation'\n",
    "    ]\n",
    "\n",
    "    scv.pl.velocity_embedding_stream(adata, basis='umap', color=color, legend_loc='right_margin', perc=[1,99], ncols=4, title=[donor+' '+c for c in color])"
   ]
  },
  {
   "cell_type": "markdown",
   "metadata": {
    "heading_collapsed": true
   },
   "source": [
    "# Compare without SLAM"
   ]
  },
  {
   "cell_type": "code",
   "execution_count": null,
   "metadata": {
    "ExecuteTime": {
     "end_time": "2020-11-27T10:02:17.213490Z",
     "start_time": "2020-11-27T10:02:13.171221Z"
    },
    "hidden": true
   },
   "outputs": [],
   "source": [
    "library=libraries[0]\n",
    "adata = sc.read_10x_h5(data_path+'cellranger_output_MM_ML_revision_'+library+'/outs/filtered_feature_bc_matrix.h5')\n",
    "adata.var_names_make_unique()\n",
    "adata.obs_names = [x[:-2] for x in adata.obs_names]\n",
    "\n",
    "# add annotation\n",
    "tab = pd.read_csv(data_path+'annotation.tsv', sep='\\t')\n",
    "subtab=tab[tab.cell.str.startswith(library)]\n",
    "subtab.cell=subtab.cell.str.replace(library+'_', '')\n",
    "subtab['library'] = library\n",
    "subtab = subtab.set_index('cell')\n",
    "subtab = subtab[np.isin(subtab.index, adata.obs_names)]\n",
    "adata.obs=pd.concat([adata.obs, subtab], axis=1, join='outer')\n",
    "\n",
    "# throw out cell that nils filtered and hence did not annotate\n",
    "adata = adata[~pd.isna(adata.obs.library)]\n",
    "\n",
    "# throw out Doublets and negatives from HTO demux\n",
    "adata = adata[adata.obs['HTO_classification.global']=='Singlet'].copy()\n",
    "\n",
    "# annotate ribosomal\n",
    "ribo_genes = np.logical_or(adata.var_names.str.startswith('RPS'), adata.var_names.str.startswith('RPL'))\n",
    "adata.obs['percent_ribosomal'] = np.sum(adata[:, ribo_genes].X, axis=1).A1 / np.sum(adata.X, axis=1).A1"
   ]
  },
  {
   "cell_type": "code",
   "execution_count": null,
   "metadata": {
    "ExecuteTime": {
     "end_time": "2020-11-27T10:02:17.307738Z",
     "start_time": "2020-11-27T10:02:17.262362Z"
    },
    "hidden": true
   },
   "outputs": [],
   "source": [
    "adata = adata[adata.obs.organoid==donor].copy()"
   ]
  },
  {
   "cell_type": "code",
   "execution_count": null,
   "metadata": {
    "ExecuteTime": {
     "end_time": "2020-11-26T18:45:02.443444Z",
     "start_time": "2020-11-26T18:45:02.435466Z"
    },
    "hidden": true
   },
   "outputs": [],
   "source": [
    "adata"
   ]
  }
 ],
 "metadata": {
  "kernelspec": {
   "display_name": "Python 3",
   "language": "python",
   "name": "python3"
  },
  "language_info": {
   "codemirror_mode": {
    "name": "ipython",
    "version": 3
   },
   "file_extension": ".py",
   "mimetype": "text/x-python",
   "name": "python",
   "nbconvert_exporter": "python",
   "pygments_lexer": "ipython3",
   "version": "3.6.6"
  },
  "varInspector": {
   "cols": {
    "lenName": 16,
    "lenType": 16,
    "lenVar": 40
   },
   "kernels_config": {
    "python": {
     "delete_cmd_postfix": "",
     "delete_cmd_prefix": "del ",
     "library": "var_list.py",
     "varRefreshCmd": "print(var_dic_list())"
    },
    "r": {
     "delete_cmd_postfix": ") ",
     "delete_cmd_prefix": "rm(",
     "library": "var_list.r",
     "varRefreshCmd": "cat(var_dic_list()) "
    }
   },
   "types_to_exclude": [
    "module",
    "function",
    "builtin_function_or_method",
    "instance",
    "_Feature"
   ],
   "window_display": false
  }
 },
 "nbformat": 4,
 "nbformat_minor": 2
}

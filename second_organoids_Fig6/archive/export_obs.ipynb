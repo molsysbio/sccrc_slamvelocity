{
 "cells": [
  {
   "cell_type": "code",
   "execution_count": 1,
   "metadata": {
    "ExecuteTime": {
     "end_time": "2020-12-11T13:44:53.913070Z",
     "start_time": "2020-12-11T13:44:45.529042Z"
    }
   },
   "outputs": [
    {
     "data": {
      "text/html": [
       "<style>.container { width:90% !important; }</style>"
      ],
      "text/plain": [
       "<IPython.core.display.HTML object>"
      ]
     },
     "metadata": {},
     "output_type": "display_data"
    },
    {
     "name": "stdout",
     "output_type": "stream",
     "text": [
      "Running scvelo 0.1.16.dev32+c00a55e.dirty (python 3.6.6) on 2020-12-11 14:44.\n"
     ]
    }
   ],
   "source": [
    "import scvelo as scv\n",
    "from IPython.display import clear_output\n",
    "import matplotlib.backends.backend_pdf\n",
    "from tqdm import tnrange, tqdm_notebook\n",
    "import scanpy as sc\n",
    "import matplotlib.pyplot as pl\n",
    "import pandas as pd\n",
    "import numpy as np\n",
    "from IPython.core.display import display, HTML\n",
    "display(HTML(\"<style>.container { width:90% !important; }</style>\"))\n",
    "%matplotlib inline\n",
    "\n",
    "\n",
    "scv.logging.print_version()\n",
    "scv.settings.set_figure_params(\n",
    "    'scvelo', dpi_save=100, dpi=80, transparent=True)\n",
    "scv.settings.verbosity = 2"
   ]
  },
  {
   "cell_type": "code",
   "execution_count": 2,
   "metadata": {
    "ExecuteTime": {
     "end_time": "2020-12-11T13:44:53.958497Z",
     "start_time": "2020-12-11T13:44:53.948368Z"
    }
   },
   "outputs": [],
   "source": [
    "# paths and names\n",
    "data_path='G:/data/scSLAMseq/revision/'\n",
    "signatures_path='G:/data/scrnaseq_signature_collection/'\n",
    "figure_path='G:/data/figures/heatmaps/'\n",
    "libraries = ['AB', 'CE', 'DF']\n",
    "donors=['B2-040', 'C2-019', 'OT227', 'OT302', 'P009T', 'P013T']"
   ]
  },
  {
   "cell_type": "code",
   "execution_count": 5,
   "metadata": {
    "ExecuteTime": {
     "end_time": "2020-12-11T13:52:25.139195Z",
     "start_time": "2020-12-11T13:48:55.366434Z"
    }
   },
   "outputs": [],
   "source": [
    "# Create a Pandas Excel writer using XlsxWriter as the engine.\n",
    "writer = pd.ExcelWriter(data_path+'obs_export_nils.xlsx', engine='xlsxwriter')\n",
    "\n",
    "for donor in donors:\n",
    "    # Write each dataframe to a different worksheet.\n",
    "    adata=sc.read(data_path+'by_donors/processed/SLAMv2_'+donor+'_processed.h5')\n",
    "    adata.obs.to_excel(writer, sheet_name=donor)\n",
    "    \n",
    "# Close the Pandas Excel writer and output the Excel file.\n",
    "writer.save()"
   ]
  },
  {
   "cell_type": "code",
   "execution_count": null,
   "metadata": {},
   "outputs": [],
   "source": []
  }
 ],
 "metadata": {
  "kernelspec": {
   "display_name": "Python 3",
   "language": "python",
   "name": "python3"
  },
  "language_info": {
   "codemirror_mode": {
    "name": "ipython",
    "version": 3
   },
   "file_extension": ".py",
   "mimetype": "text/x-python",
   "name": "python",
   "nbconvert_exporter": "python",
   "pygments_lexer": "ipython3",
   "version": "3.6.6"
  },
  "varInspector": {
   "cols": {
    "lenName": 16,
    "lenType": 16,
    "lenVar": 40
   },
   "kernels_config": {
    "python": {
     "delete_cmd_postfix": "",
     "delete_cmd_prefix": "del ",
     "library": "var_list.py",
     "varRefreshCmd": "print(var_dic_list())"
    },
    "r": {
     "delete_cmd_postfix": ") ",
     "delete_cmd_prefix": "rm(",
     "library": "var_list.r",
     "varRefreshCmd": "cat(var_dic_list()) "
    }
   },
   "types_to_exclude": [
    "module",
    "function",
    "builtin_function_or_method",
    "instance",
    "_Feature"
   ],
   "window_display": false
  }
 },
 "nbformat": 4,
 "nbformat_minor": 2
}

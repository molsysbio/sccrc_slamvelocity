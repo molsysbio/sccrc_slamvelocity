{
 "cells": [
  {
   "cell_type": "code",
   "execution_count": 1,
   "metadata": {
    "ExecuteTime": {
     "end_time": "2021-01-27T09:50:46.206391Z",
     "start_time": "2021-01-27T09:50:40.772432Z"
    }
   },
   "outputs": [
    {
     "data": {
      "text/html": [
       "<style>.container { width:90% !important; }</style>"
      ],
      "text/plain": [
       "<IPython.core.display.HTML object>"
      ]
     },
     "metadata": {},
     "output_type": "display_data"
    },
    {
     "name": "stdout",
     "output_type": "stream",
     "text": [
      "Running scvelo 0.1.16.dev32+c00a55e.dirty (python 3.6.6) on 2021-01-27 10:50.\n"
     ]
    }
   ],
   "source": [
    "import scvelo as scv\n",
    "from IPython.display import clear_output\n",
    "import matplotlib.backends.backend_pdf\n",
    "from tqdm import tnrange, tqdm_notebook\n",
    "import scanpy as sc\n",
    "import matplotlib.pyplot as pl\n",
    "import pandas as pd\n",
    "import numpy as np\n",
    "from IPython.core.display import display, HTML\n",
    "display(HTML(\"<style>.container { width:90% !important; }</style>\"))\n",
    "%matplotlib inline\n",
    "\n",
    "\n",
    "scv.logging.print_version()\n",
    "scv.settings.set_figure_params(\n",
    "    'scvelo', dpi_save=100, dpi=80, transparent=True)\n",
    "scv.settings.verbosity = 2"
   ]
  },
  {
   "cell_type": "code",
   "execution_count": 1,
   "metadata": {
    "ExecuteTime": {
     "end_time": "2021-01-28T08:54:53.515477Z",
     "start_time": "2021-01-28T08:54:53.508455Z"
    }
   },
   "outputs": [],
   "source": [
    "# paths and names\n",
    "data_path='G:/data/scSLAMseq/revision/'\n",
    "signatures_path='G:/data/scrnaseq_signature_collection/'\n",
    "figure_path='G:/data/figures/'\n",
    "libraries = ['AB', 'CE', 'DF']\n",
    "donors=['B2-040', 'C2-019', 'OT227', 'OT302', 'P009T', 'P013T']"
   ]
  },
  {
   "cell_type": "markdown",
   "metadata": {},
   "source": [
    "# DMSO latent time heatmap"
   ]
  },
  {
   "cell_type": "code",
   "execution_count": 76,
   "metadata": {
    "ExecuteTime": {
     "end_time": "2021-01-25T11:06:06.229807Z",
     "start_time": "2021-01-25T11:06:06.219032Z"
    }
   },
   "outputs": [],
   "source": [
    "obs=['Stem', 'Goblet', 'MAPK_progeny', 'YAP_targets', 'Stem_Lgr5_ISC-Merlos', 'TC1', 'TC4']\n",
    "from scipy.stats import zscore\n",
    "from matplotlib.backends.backend_pdf import PdfPages"
   ]
  },
  {
   "cell_type": "code",
   "execution_count": 78,
   "metadata": {
    "ExecuteTime": {
     "end_time": "2021-01-25T11:06:30.002030Z",
     "start_time": "2021-01-25T11:06:19.247263Z"
    },
    "scrolled": false
   },
   "outputs": [],
   "source": [
    "with PdfPages(figure_path+'DMSO_sigs_vs_latenttime_heatmaps.pdf') as pdf:\n",
    "    for obs_ in obs:\n",
    "        from scipy.interpolate import interp1d\n",
    "        Y = []\n",
    "        for donor in donors:\n",
    "            tab=pd.read_excel(data_path+'/tables/DMSO_only_'+donor+'_ccreg_tables.xlsx')\n",
    "            f = interp1d(tab['latent_time'], tab[obs_])\n",
    "            y=f(np.linspace(0,1,1000))\n",
    "            Y.append(y)\n",
    "        Y = np.array(Y).T\n",
    "\n",
    "        Y=zscore(Y)\n",
    "        df = pd.DataFrame(Y, columns=donors)\n",
    "        if True:\n",
    "            n_convolve=50\n",
    "            weights = np.ones(n_convolve) / n_convolve\n",
    "            for o in donors:\n",
    "                try:\n",
    "                    df[o] = np.convolve(df[o].values, weights, mode=\"same\")\n",
    "                except:\n",
    "                    print('convolve failed')\n",
    "                    pass  # e.g. all-zero counts or nans cannot be convolved\n",
    "        from seaborn import clustermap\n",
    "        cm = clustermap(df.T, row_cluster=True, col_cluster=False, vmin=-2, vmax=2, cmap='bwr')#, **kwargs\n",
    "        cm.ax_heatmap.set_xlabel('latent time');\n",
    "        cm.ax_heatmap.set_title(obs_+' heatmap');\n",
    "        cm.ax_heatmap.set_xticks([]);\n",
    "        pdf.savefig()  # saves the current figure into a pdf page\n",
    "        pl.close()"
   ]
  }
 ],
 "metadata": {
  "kernelspec": {
   "display_name": "Python 3",
   "language": "python",
   "name": "python3"
  },
  "language_info": {
   "codemirror_mode": {
    "name": "ipython",
    "version": 3
   },
   "file_extension": ".py",
   "mimetype": "text/x-python",
   "name": "python",
   "nbconvert_exporter": "python",
   "pygments_lexer": "ipython3",
   "version": "3.6.6"
  },
  "varInspector": {
   "cols": {
    "lenName": 16,
    "lenType": 16,
    "lenVar": 40
   },
   "kernels_config": {
    "python": {
     "delete_cmd_postfix": "",
     "delete_cmd_prefix": "del ",
     "library": "var_list.py",
     "varRefreshCmd": "print(var_dic_list())"
    },
    "r": {
     "delete_cmd_postfix": ") ",
     "delete_cmd_prefix": "rm(",
     "library": "var_list.r",
     "varRefreshCmd": "cat(var_dic_list()) "
    }
   },
   "types_to_exclude": [
    "module",
    "function",
    "builtin_function_or_method",
    "instance",
    "_Feature"
   ],
   "window_display": false
  }
 },
 "nbformat": 4,
 "nbformat_minor": 2
}
